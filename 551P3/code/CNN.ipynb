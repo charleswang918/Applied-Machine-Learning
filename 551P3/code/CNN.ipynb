{
 "nbformat": 4,
 "nbformat_minor": 0,
 "metadata": {
  "colab": {
   "name": "CNN.ipynb",
   "provenance": []
  },
  "kernelspec": {
   "name": "python3",
   "display_name": "Python 3"
  },
  "language_info": {
   "name": "python"
  }
 },
 "cells": [
  {
   "cell_type": "code",
   "execution_count": 2,
   "metadata": {
    "id": "60IUi_PWi8DD",
    "pycharm": {
     "name": "#%%\n"
    }
   },
   "outputs": [],
   "source": [
    "import numpy as np\n",
    "import pandas as pd\n",
    "import matplotlib.pyplot as plt\n",
    "import seaborn as sns\n",
    "from random import random"
   ]
  },
  {
   "cell_type": "markdown",
   "source": [],
   "metadata": {
    "id": "NvFNcKlfjBBD",
    "pycharm": {
     "name": "#%% md\n"
    }
   }
  },
  {
   "cell_type": "code",
   "source": [
    "from keras.datasets import fashion_mnist\n",
    "from tensorflow.keras.utils import to_categorical\n",
    "(rawtrain_X, rawtrain_y), (rawtest_X, rawtest_y) = fashion_mnist.load_data()\n",
    "print(\"The shape of the training iamges are:\", rawtrain_X.shape)\n",
    "print(\"The shape of the training labels are:\", rawtrain_y.shape)"
   ],
   "metadata": {
    "colab": {
     "base_uri": "https://localhost:8080/"
    },
    "id": "PJX4KKCFjBgk",
    "outputId": "24724bc3-f11e-4d09-b333-06e874819192",
    "pycharm": {
     "name": "#%%\n"
    }
   },
   "execution_count": 3,
   "outputs": [
    {
     "output_type": "stream",
     "name": "stdout",
     "text": [
      "The shape of the training iamges are: (60000, 28, 28)\n",
      "The shape of the training labels are: (60000,)\n"
     ]
    }
   ]
  },
  {
   "cell_type": "code",
   "source": [
    "print(\"The shape of the test images are:\", rawtest_X.shape)\n",
    "print(\"The shape of the test labels are:\", rawtest_y.shape)"
   ],
   "metadata": {
    "colab": {
     "base_uri": "https://localhost:8080/"
    },
    "id": "LYhQepjIjBsi",
    "outputId": "44e62616-fc90-4d4f-d6a3-53d48c0d75e1",
    "pycharm": {
     "name": "#%%\n"
    }
   },
   "execution_count": 4,
   "outputs": [
    {
     "output_type": "stream",
     "name": "stdout",
     "text": [
      "The shape of the test images are: (10000, 28, 28)\n",
      "The shape of the test labels are: (10000,)\n"
     ]
    }
   ]
  },
  {
   "cell_type": "code",
   "source": [
    "np.unique(rawtrain_y) # the number of classes"
   ],
   "metadata": {
    "colab": {
     "base_uri": "https://localhost:8080/"
    },
    "id": "Hs2uZxNAjJW8",
    "outputId": "0bb8e481-66ab-44e3-e7a5-fe2030855eff",
    "pycharm": {
     "name": "#%%\n"
    }
   },
   "execution_count": 6,
   "outputs": [
    {
     "output_type": "execute_result",
     "data": {
      "text/plain": [
       "array([0, 1, 2, 3, 4, 5, 6, 7, 8, 9], dtype=uint8)"
      ]
     },
     "metadata": {},
     "execution_count": 6
    }
   ]
  },
  {
   "cell_type": "markdown",
   "source": [],
   "metadata": {
    "id": "TT2BhqdfjA_o",
    "pycharm": {
     "name": "#%% md\n"
    }
   }
  },
  {
   "cell_type": "code",
   "source": [
    "train_X = rawtrain_X.reshape(rawtrain_X.shape[0], rawtrain_X.shape[1] * rawtrain_X.shape[2])\n",
    "test_X = rawtest_X.reshape(rawtest_X.shape[0], rawtest_X.shape[1] * rawtest_X.shape[2])"
   ],
   "metadata": {
    "id": "jsa_vEaRjMwV",
    "pycharm": {
     "name": "#%%\n"
    }
   },
   "execution_count": 5,
   "outputs": []
  },
  {
   "cell_type": "code",
   "source": [
    "train_y = to_categorical(rawtrain_y, num_classes=10)\n",
    "test_y = to_categorical(rawtest_y, num_classes=10)"
   ],
   "metadata": {
    "id": "uDunK-U_jO61",
    "pycharm": {
     "name": "#%%\n"
    }
   },
   "execution_count": 5,
   "outputs": []
  },
  {
   "cell_type": "markdown",
   "source": [
    "#CNN"
   ],
   "metadata": {
    "id": "ZyPDlBR-jf_B",
    "pycharm": {
     "name": "#%% md\n"
    }
   }
  },
  {
   "cell_type": "code",
   "source": [
    "import tensorflow as tf\n",
    "from tensorflow import keras\n",
    "from tensorflow.keras import layers\n"
   ],
   "metadata": {
    "id": "BoGNQnVfjib-",
    "pycharm": {
     "name": "#%%\n"
    }
   },
   "execution_count": 46,
   "outputs": []
  },
  {
   "cell_type": "markdown",
   "source": [
    "##First determine the best batch size for our datasets(choose from 128,64,32)"
   ],
   "metadata": {
    "id": "jGDWnoajGwl1",
    "pycharm": {
     "name": "#%% md\n"
    }
   }
  },
  {
   "cell_type": "code",
   "source": [
    "from sklearn.model_selection import train_test_split\n",
    "train_X = rawtrain_X.reshape(-1,28,28,1)\n",
    "test_X = rawtest_X.reshape(-1,28,28,1)\n",
    "#normalize the data\n",
    "train_X = train_X/255\n",
    "test_X = test_X/255\n"
   ],
   "metadata": {
    "id": "crkiq5h2Gv-w",
    "pycharm": {
     "name": "#%%\n"
    }
   },
   "execution_count": 6,
   "outputs": []
  },
  {
   "cell_type": "code",
   "source": [
    "\n",
    "\n",
    "model = keras.models.Sequential()\n",
    "model.add(layers.Conv2D(32,(3,3),padding='same',activation='relu',input_shape=(28,28,1)))\n",
    "#apply max pooling layers\n",
    "model.add(layers.MaxPool2D(2,2))\n",
    "model.add(layers.Conv2D(64,(3,3),padding='same',activation='relu'))\n",
    "#apply max pooling layers\n",
    "model.add(layers.MaxPool2D(2,2))\n",
    "\n",
    "#flatten\n",
    "model.add(layers.Flatten())\n",
    "model.add(layers.Dense(128,activation='relu'))\n",
    "model.add(layers.Dense(128,activation='relu'))\n",
    "model.add(layers.Dense(10,activation='softmax'))\n",
    "\n",
    "\n",
    "#compile the model \n",
    "model.compile(loss=keras.losses.categorical_crossentropy,optimizer=keras.optimizers.Adam(),metrics=['accuracy'])\n",
    "\n",
    "\n",
    "\n",
    "batchSize = 128\n",
    "epochs = 30\n",
    "#train the data on max pooling CNN\n",
    "model_train = model.fit(train_X, train_y, batch_size=batchSize,epochs=epochs,verbose=1)\n",
    "#evaluation on the test set\n"
   ],
   "metadata": {
    "colab": {
     "base_uri": "https://localhost:8080/"
    },
    "id": "FXSZGrF2E0SE",
    "outputId": "ad0bf8fb-2f88-42be-ad40-cfae451d5cdc",
    "pycharm": {
     "name": "#%%\n"
    }
   },
   "execution_count": 16,
   "outputs": [
    {
     "output_type": "stream",
     "name": "stdout",
     "text": [
      "Epoch 1/30\n",
      "469/469 [==============================] - 65s 137ms/step - loss: 0.5019 - accuracy: 0.8176\n",
      "Epoch 2/30\n",
      "469/469 [==============================] - 64s 136ms/step - loss: 0.3158 - accuracy: 0.8857\n",
      "Epoch 3/30\n",
      "469/469 [==============================] - 63s 134ms/step - loss: 0.2609 - accuracy: 0.9039\n",
      "Epoch 4/30\n",
      "469/469 [==============================] - 64s 137ms/step - loss: 0.2331 - accuracy: 0.9146\n",
      "Epoch 5/30\n",
      "469/469 [==============================] - 64s 136ms/step - loss: 0.2091 - accuracy: 0.9227\n",
      "Epoch 6/30\n",
      "469/469 [==============================] - 65s 138ms/step - loss: 0.1890 - accuracy: 0.9302\n",
      "Epoch 7/30\n",
      "469/469 [==============================] - 66s 140ms/step - loss: 0.1709 - accuracy: 0.9366\n",
      "Epoch 8/30\n",
      "469/469 [==============================] - 64s 137ms/step - loss: 0.1536 - accuracy: 0.9434\n",
      "Epoch 9/30\n",
      "469/469 [==============================] - 64s 136ms/step - loss: 0.1367 - accuracy: 0.9493\n",
      "Epoch 10/30\n",
      "469/469 [==============================] - 65s 138ms/step - loss: 0.1225 - accuracy: 0.9542\n",
      "Epoch 11/30\n",
      "469/469 [==============================] - 64s 137ms/step - loss: 0.1052 - accuracy: 0.9609\n",
      "Epoch 12/30\n",
      "469/469 [==============================] - 62s 133ms/step - loss: 0.0954 - accuracy: 0.9650\n",
      "Epoch 13/30\n",
      "469/469 [==============================] - 63s 133ms/step - loss: 0.0821 - accuracy: 0.9688\n",
      "Epoch 14/30\n",
      "469/469 [==============================] - 62s 132ms/step - loss: 0.0697 - accuracy: 0.9734\n",
      "Epoch 15/30\n",
      "469/469 [==============================] - 65s 138ms/step - loss: 0.0603 - accuracy: 0.9782\n",
      "Epoch 16/30\n",
      "469/469 [==============================] - 64s 137ms/step - loss: 0.0510 - accuracy: 0.9817\n",
      "Epoch 17/30\n",
      "469/469 [==============================] - 65s 139ms/step - loss: 0.0479 - accuracy: 0.9821\n",
      "Epoch 18/30\n",
      "469/469 [==============================] - 65s 138ms/step - loss: 0.0409 - accuracy: 0.9857\n",
      "Epoch 19/30\n",
      "469/469 [==============================] - 64s 136ms/step - loss: 0.0380 - accuracy: 0.9865\n",
      "Epoch 20/30\n",
      "469/469 [==============================] - 65s 138ms/step - loss: 0.0339 - accuracy: 0.9871\n",
      "Epoch 21/30\n",
      "469/469 [==============================] - 64s 137ms/step - loss: 0.0297 - accuracy: 0.9887\n",
      "Epoch 22/30\n",
      "469/469 [==============================] - 64s 138ms/step - loss: 0.0293 - accuracy: 0.9896\n",
      "Epoch 23/30\n",
      "469/469 [==============================] - 64s 136ms/step - loss: 0.0264 - accuracy: 0.9902\n",
      "Epoch 24/30\n",
      "469/469 [==============================] - 65s 138ms/step - loss: 0.0212 - accuracy: 0.9925\n",
      "Epoch 25/30\n",
      "469/469 [==============================] - 63s 135ms/step - loss: 0.0240 - accuracy: 0.9914\n",
      "Epoch 26/30\n",
      "469/469 [==============================] - 64s 136ms/step - loss: 0.0212 - accuracy: 0.9925\n",
      "Epoch 27/30\n",
      "469/469 [==============================] - 64s 136ms/step - loss: 0.0184 - accuracy: 0.9933\n",
      "Epoch 28/30\n",
      "469/469 [==============================] - 64s 137ms/step - loss: 0.0194 - accuracy: 0.9930\n",
      "Epoch 29/30\n",
      "469/469 [==============================] - 64s 137ms/step - loss: 0.0171 - accuracy: 0.9941\n",
      "Epoch 30/30\n",
      "469/469 [==============================] - 65s 138ms/step - loss: 0.0148 - accuracy: 0.9949\n"
     ]
    }
   ]
  },
  {
   "cell_type": "code",
   "source": [
    "test_result_batch128 = model.evaluate(test_X,test_y,verbose=1)\n",
    "test_result_batch128[1]"
   ],
   "metadata": {
    "colab": {
     "base_uri": "https://localhost:8080/"
    },
    "id": "aU13U-QtLFbR",
    "outputId": "593b05f2-c173-4fb5-fc0e-1c99e0a0874f",
    "pycharm": {
     "name": "#%%\n"
    }
   },
   "execution_count": 17,
   "outputs": [
    {
     "output_type": "stream",
     "name": "stdout",
     "text": [
      "313/313 [==============================] - 4s 12ms/step - loss: 0.5492 - accuracy: 0.9178\n"
     ]
    },
    {
     "output_type": "execute_result",
     "data": {
      "text/plain": [
       "0.9178000092506409"
      ]
     },
     "metadata": {},
     "execution_count": 17
    }
   ]
  },
  {
   "cell_type": "code",
   "source": [
    "model = keras.models.Sequential()\n",
    "model.add(layers.Conv2D(32,(3,3),padding='same',activation='relu',input_shape=(28,28,1)))\n",
    "#apply max pooling layers\n",
    "model.add(layers.MaxPool2D(2,2))\n",
    "model.add(layers.Conv2D(64,(3,3),padding='same',activation='relu'))\n",
    "#apply max pooling layers\n",
    "model.add(layers.MaxPool2D(2,2))\n",
    "\n",
    "#flatten\n",
    "model.add(layers.Flatten())\n",
    "model.add(layers.Dense(128,activation='relu'))\n",
    "model.add(layers.Dense(128,activation='relu'))\n",
    "model.add(layers.Dense(10,activation='softmax'))\n",
    "\n",
    "\n",
    "#compile the model \n",
    "model.compile(loss=keras.losses.categorical_crossentropy,optimizer=keras.optimizers.Adam(),metrics=['accuracy'])\n",
    "\n",
    "\n",
    "\n",
    "batchSize = 64\n",
    "epochs = 30\n",
    "#train the data on max pooling CNN\n",
    "model_train = model.fit(train_X, train_y, batch_size=batchSize,epochs=epochs,verbose=1)"
   ],
   "metadata": {
    "colab": {
     "base_uri": "https://localhost:8080/"
    },
    "id": "v3yGCjQ17WNo",
    "outputId": "dbd9c615-febe-4dc7-ca95-b45a27abd974",
    "pycharm": {
     "name": "#%%\n"
    }
   },
   "execution_count": 18,
   "outputs": [
    {
     "output_type": "stream",
     "name": "stdout",
     "text": [
      "Epoch 1/30\n",
      "938/938 [==============================] - 71s 75ms/step - loss: 0.4382 - accuracy: 0.8406\n",
      "Epoch 2/30\n",
      "938/938 [==============================] - 72s 77ms/step - loss: 0.2789 - accuracy: 0.8971\n",
      "Epoch 3/30\n",
      "938/938 [==============================] - 72s 77ms/step - loss: 0.2342 - accuracy: 0.9129\n",
      "Epoch 4/30\n",
      "938/938 [==============================] - 72s 76ms/step - loss: 0.2054 - accuracy: 0.9238\n",
      "Epoch 5/30\n",
      "938/938 [==============================] - 74s 79ms/step - loss: 0.1787 - accuracy: 0.9341\n",
      "Epoch 6/30\n",
      "938/938 [==============================] - 71s 76ms/step - loss: 0.1567 - accuracy: 0.9429\n",
      "Epoch 7/30\n",
      "938/938 [==============================] - 71s 76ms/step - loss: 0.1357 - accuracy: 0.9488\n",
      "Epoch 8/30\n",
      "938/938 [==============================] - 72s 77ms/step - loss: 0.1184 - accuracy: 0.9555\n",
      "Epoch 9/30\n",
      "938/938 [==============================] - 70s 74ms/step - loss: 0.1019 - accuracy: 0.9622\n",
      "Epoch 10/30\n",
      "938/938 [==============================] - 68s 73ms/step - loss: 0.0836 - accuracy: 0.9691\n",
      "Epoch 11/30\n",
      "938/938 [==============================] - 71s 76ms/step - loss: 0.0738 - accuracy: 0.9715\n",
      "Epoch 12/30\n",
      "938/938 [==============================] - 70s 75ms/step - loss: 0.0618 - accuracy: 0.9776\n",
      "Epoch 13/30\n",
      "938/938 [==============================] - 71s 76ms/step - loss: 0.0533 - accuracy: 0.9797\n",
      "Epoch 14/30\n",
      "938/938 [==============================] - 70s 74ms/step - loss: 0.0458 - accuracy: 0.9828\n",
      "Epoch 15/30\n",
      "938/938 [==============================] - 69s 74ms/step - loss: 0.0453 - accuracy: 0.9831\n",
      "Epoch 16/30\n",
      "938/938 [==============================] - 70s 75ms/step - loss: 0.0347 - accuracy: 0.9873\n",
      "Epoch 17/30\n",
      "938/938 [==============================] - 69s 73ms/step - loss: 0.0330 - accuracy: 0.9881\n",
      "Epoch 18/30\n",
      "938/938 [==============================] - 68s 73ms/step - loss: 0.0338 - accuracy: 0.9875\n",
      "Epoch 19/30\n",
      "938/938 [==============================] - 68s 72ms/step - loss: 0.0293 - accuracy: 0.9895\n",
      "Epoch 20/30\n",
      "938/938 [==============================] - 68s 72ms/step - loss: 0.0252 - accuracy: 0.9907\n",
      "Epoch 21/30\n",
      "938/938 [==============================] - 67s 72ms/step - loss: 0.0284 - accuracy: 0.9897\n",
      "Epoch 22/30\n",
      "938/938 [==============================] - 66s 70ms/step - loss: 0.0206 - accuracy: 0.9923\n",
      "Epoch 23/30\n",
      "938/938 [==============================] - 65s 69ms/step - loss: 0.0243 - accuracy: 0.9911\n",
      "Epoch 24/30\n",
      "938/938 [==============================] - 67s 72ms/step - loss: 0.0217 - accuracy: 0.9921\n",
      "Epoch 25/30\n",
      "938/938 [==============================] - 67s 71ms/step - loss: 0.0228 - accuracy: 0.9920\n",
      "Epoch 26/30\n",
      "938/938 [==============================] - 69s 74ms/step - loss: 0.0205 - accuracy: 0.9929\n",
      "Epoch 27/30\n",
      "938/938 [==============================] - 73s 78ms/step - loss: 0.0210 - accuracy: 0.9926\n",
      "Epoch 28/30\n",
      "938/938 [==============================] - 68s 73ms/step - loss: 0.0167 - accuracy: 0.9941\n",
      "Epoch 29/30\n",
      "938/938 [==============================] - 68s 73ms/step - loss: 0.0207 - accuracy: 0.9929\n",
      "Epoch 30/30\n",
      "938/938 [==============================] - 68s 72ms/step - loss: 0.0188 - accuracy: 0.9930\n"
     ]
    }
   ]
  },
  {
   "cell_type": "code",
   "source": [
    "test_result_batch64 = model.evaluate(test_X,test_y,verbose=1)\n",
    "test_result_batch64[1]"
   ],
   "metadata": {
    "colab": {
     "base_uri": "https://localhost:8080/"
    },
    "id": "JIFz8XVb1SQM",
    "outputId": "ce3145c9-902b-4d80-812d-87a45c72a2c7",
    "pycharm": {
     "name": "#%%\n"
    }
   },
   "execution_count": 19,
   "outputs": [
    {
     "output_type": "stream",
     "name": "stdout",
     "text": [
      "313/313 [==============================] - 4s 11ms/step - loss: 0.6436 - accuracy: 0.9172\n"
     ]
    },
    {
     "output_type": "execute_result",
     "data": {
      "text/plain": [
       "0.9172000288963318"
      ]
     },
     "metadata": {},
     "execution_count": 19
    }
   ]
  },
  {
   "cell_type": "code",
   "source": [
    "model = keras.models.Sequential()\n",
    "model.add(layers.Conv2D(32,(3,3),padding='same',activation='relu',input_shape=(28,28,1)))\n",
    "#apply max pooling layers\n",
    "model.add(layers.MaxPool2D(2,2))\n",
    "model.add(layers.Conv2D(64,(3,3),padding='same',activation='relu'))\n",
    "#apply max pooling layers\n",
    "model.add(layers.MaxPool2D(2,2))\n",
    "\n",
    "#flatten\n",
    "model.add(layers.Flatten())\n",
    "model.add(layers.Dense(128,activation='relu'))\n",
    "model.add(layers.Dense(128,activation='relu'))\n",
    "model.add(layers.Dense(10,activation='softmax'))\n",
    "\n",
    "\n",
    "#compile the model \n",
    "model.compile(loss=keras.losses.categorical_crossentropy,optimizer=keras.optimizers.Adam(),metrics=['accuracy'])\n",
    "\n",
    "\n",
    "\n",
    "batchSize = 32\n",
    "epochs = 30\n",
    "#train the data on max pooling CNN\n",
    "model_train = model.fit(train_X, train_y, batch_size=batchSize,epochs=epochs,verbose=1)"
   ],
   "metadata": {
    "colab": {
     "base_uri": "https://localhost:8080/"
    },
    "id": "riV2LUQUHPNa",
    "outputId": "b30904cd-7ebd-4c71-acea-92246b0596e5",
    "pycharm": {
     "name": "#%%\n"
    }
   },
   "execution_count": 20,
   "outputs": [
    {
     "output_type": "stream",
     "name": "stdout",
     "text": [
      "Epoch 1/30\n",
      "1875/1875 [==============================] - 74s 39ms/step - loss: 0.4205 - accuracy: 0.8453\n",
      "Epoch 2/30\n",
      "1875/1875 [==============================] - 74s 39ms/step - loss: 0.2714 - accuracy: 0.9003\n",
      "Epoch 3/30\n",
      "1875/1875 [==============================] - 71s 38ms/step - loss: 0.2246 - accuracy: 0.9165\n",
      "Epoch 4/30\n",
      "1875/1875 [==============================] - 75s 40ms/step - loss: 0.1941 - accuracy: 0.9280\n",
      "Epoch 5/30\n",
      "1875/1875 [==============================] - 75s 40ms/step - loss: 0.1689 - accuracy: 0.9366\n",
      "Epoch 6/30\n",
      "1875/1875 [==============================] - 76s 41ms/step - loss: 0.1454 - accuracy: 0.9456\n",
      "Epoch 7/30\n",
      "1875/1875 [==============================] - 74s 40ms/step - loss: 0.1274 - accuracy: 0.9524\n",
      "Epoch 8/30\n",
      "1875/1875 [==============================] - 73s 39ms/step - loss: 0.1105 - accuracy: 0.9583\n",
      "Epoch 9/30\n",
      "1875/1875 [==============================] - 71s 38ms/step - loss: 0.0937 - accuracy: 0.9654\n",
      "Epoch 10/30\n",
      "1875/1875 [==============================] - 75s 40ms/step - loss: 0.0833 - accuracy: 0.9687\n",
      "Epoch 11/30\n",
      "1875/1875 [==============================] - 73s 39ms/step - loss: 0.0736 - accuracy: 0.9722\n",
      "Epoch 12/30\n",
      "1875/1875 [==============================] - 72s 38ms/step - loss: 0.0663 - accuracy: 0.9748\n",
      "Epoch 13/30\n",
      "1875/1875 [==============================] - 71s 38ms/step - loss: 0.0579 - accuracy: 0.9785\n",
      "Epoch 14/30\n",
      "1875/1875 [==============================] - 73s 39ms/step - loss: 0.0517 - accuracy: 0.9804\n",
      "Epoch 15/30\n",
      "1875/1875 [==============================] - 73s 39ms/step - loss: 0.0448 - accuracy: 0.9833\n",
      "Epoch 16/30\n",
      "1875/1875 [==============================] - 73s 39ms/step - loss: 0.0431 - accuracy: 0.9843\n",
      "Epoch 17/30\n",
      "1875/1875 [==============================] - 75s 40ms/step - loss: 0.0401 - accuracy: 0.9854\n",
      "Epoch 18/30\n",
      "1875/1875 [==============================] - 74s 39ms/step - loss: 0.0375 - accuracy: 0.9857\n",
      "Epoch 19/30\n",
      "1875/1875 [==============================] - 74s 39ms/step - loss: 0.0361 - accuracy: 0.9869\n",
      "Epoch 20/30\n",
      "1875/1875 [==============================] - 75s 40ms/step - loss: 0.0319 - accuracy: 0.9888\n",
      "Epoch 21/30\n",
      "1875/1875 [==============================] - 74s 40ms/step - loss: 0.0306 - accuracy: 0.9888\n",
      "Epoch 22/30\n",
      "1875/1875 [==============================] - 73s 39ms/step - loss: 0.0296 - accuracy: 0.9897\n",
      "Epoch 23/30\n",
      "1875/1875 [==============================] - 73s 39ms/step - loss: 0.0279 - accuracy: 0.9901\n",
      "Epoch 24/30\n",
      "1875/1875 [==============================] - 72s 39ms/step - loss: 0.0254 - accuracy: 0.9914\n",
      "Epoch 25/30\n",
      "1875/1875 [==============================] - 75s 40ms/step - loss: 0.0260 - accuracy: 0.9908\n",
      "Epoch 26/30\n",
      "1875/1875 [==============================] - 78s 42ms/step - loss: 0.0260 - accuracy: 0.9905\n",
      "Epoch 27/30\n",
      "1875/1875 [==============================] - 78s 42ms/step - loss: 0.0199 - accuracy: 0.9934\n",
      "Epoch 28/30\n",
      "1875/1875 [==============================] - 77s 41ms/step - loss: 0.0247 - accuracy: 0.9919\n",
      "Epoch 29/30\n",
      "1875/1875 [==============================] - 75s 40ms/step - loss: 0.0215 - accuracy: 0.9923\n",
      "Epoch 30/30\n",
      "1875/1875 [==============================] - 78s 41ms/step - loss: 0.0222 - accuracy: 0.9928\n"
     ]
    }
   ]
  },
  {
   "cell_type": "code",
   "source": [
    "test_result_batch32 = model.evaluate(test_X,test_y,verbose=1)\n",
    "test_result_batch32[1]"
   ],
   "metadata": {
    "colab": {
     "base_uri": "https://localhost:8080/"
    },
    "id": "3MEfMWqZHM6T",
    "outputId": "20193a17-f3ca-4b90-a476-5bc354753117",
    "pycharm": {
     "name": "#%%\n"
    }
   },
   "execution_count": 21,
   "outputs": [
    {
     "output_type": "stream",
     "name": "stdout",
     "text": [
      "313/313 [==============================] - 4s 12ms/step - loss: 0.6367 - accuracy: 0.9141\n"
     ]
    },
    {
     "output_type": "execute_result",
     "data": {
      "text/plain": [
       "0.9140999913215637"
      ]
     },
     "metadata": {},
     "execution_count": 21
    }
   ]
  },
  {
   "cell_type": "markdown",
   "source": [
    "## choose the best batch size 128 and then test on different epochs 10 to 50"
   ],
   "metadata": {
    "id": "rqSqBXoKkNnc",
    "pycharm": {
     "name": "#%% md\n"
    }
   }
  },
  {
   "cell_type": "code",
   "source": [
    "model = keras.models.Sequential()\n",
    "model.add(layers.Conv2D(32,(3,3),padding='same',activation='relu',input_shape=(28,28,1)))\n",
    "#apply max pooling layers\n",
    "model.add(layers.MaxPool2D(2,2))\n",
    "model.add(layers.Conv2D(64,(3,3),padding='same',activation='relu'))\n",
    "#apply max pooling layers\n",
    "model.add(layers.MaxPool2D(2,2))\n",
    "\n",
    "#flatten\n",
    "model.add(layers.Flatten())\n",
    "model.add(layers.Dense(128,activation='relu'))\n",
    "model.add(layers.Dense(128,activation='relu'))\n",
    "model.add(layers.Dense(10,activation='softmax'))\n",
    "\n",
    "\n",
    "#compile the model \n",
    "model.compile(loss=keras.losses.categorical_crossentropy,optimizer=keras.optimizers.Adam(),metrics=['accuracy'])\n",
    "\n",
    "\n",
    "\n",
    "batchSize = 128\n",
    "epochs = 10\n",
    "#train the data on max pooling CNN\n",
    "model_train = model.fit(train_X, train_y, batch_size=batchSize,epochs=epochs,verbose=1)\n",
    "\n",
    "test_result = model.evaluate(test_X,test_y,verbose=1)\n",
    "test_result[1]"
   ],
   "metadata": {
    "colab": {
     "base_uri": "https://localhost:8080/"
    },
    "id": "kG79hb1FkNDS",
    "outputId": "a2fd0938-6203-4576-b323-62e13143c5e9",
    "pycharm": {
     "name": "#%%\n"
    }
   },
   "execution_count": 22,
   "outputs": [
    {
     "output_type": "stream",
     "name": "stdout",
     "text": [
      "Epoch 1/10\n",
      "469/469 [==============================] - 69s 146ms/step - loss: 0.4970 - accuracy: 0.8203\n",
      "Epoch 2/10\n",
      "469/469 [==============================] - 65s 139ms/step - loss: 0.3122 - accuracy: 0.8873\n",
      "Epoch 3/10\n",
      "469/469 [==============================] - 67s 143ms/step - loss: 0.2669 - accuracy: 0.9028\n",
      "Epoch 4/10\n",
      "469/469 [==============================] - 68s 146ms/step - loss: 0.2383 - accuracy: 0.9129\n",
      "Epoch 5/10\n",
      "469/469 [==============================] - 66s 141ms/step - loss: 0.2148 - accuracy: 0.9204\n",
      "Epoch 6/10\n",
      "469/469 [==============================] - 66s 142ms/step - loss: 0.1939 - accuracy: 0.9277\n",
      "Epoch 7/10\n",
      "469/469 [==============================] - 68s 145ms/step - loss: 0.1760 - accuracy: 0.9341\n",
      "Epoch 8/10\n",
      "469/469 [==============================] - 70s 149ms/step - loss: 0.1601 - accuracy: 0.9398\n",
      "Epoch 9/10\n",
      "469/469 [==============================] - 67s 142ms/step - loss: 0.1459 - accuracy: 0.9454\n",
      "Epoch 10/10\n",
      "469/469 [==============================] - 66s 141ms/step - loss: 0.1303 - accuracy: 0.9510\n",
      "313/313 [==============================] - 4s 13ms/step - loss: 0.2619 - accuracy: 0.9113\n"
     ]
    },
    {
     "output_type": "execute_result",
     "data": {
      "text/plain": [
       "0.911300003528595"
      ]
     },
     "metadata": {},
     "execution_count": 22
    }
   ]
  },
  {
   "cell_type": "code",
   "source": [
    "model = keras.models.Sequential()\n",
    "model.add(layers.Conv2D(32,(3,3),padding='same',activation='relu',input_shape=(28,28,1)))\n",
    "#apply max pooling layers\n",
    "model.add(layers.MaxPool2D(2,2))\n",
    "model.add(layers.Conv2D(64,(3,3),padding='same',activation='relu'))\n",
    "#apply max pooling layers\n",
    "model.add(layers.MaxPool2D(2,2))\n",
    "\n",
    "#flatten\n",
    "model.add(layers.Flatten())\n",
    "model.add(layers.Dense(128,activation='relu'))\n",
    "model.add(layers.Dense(128,activation='relu'))\n",
    "model.add(layers.Dense(10,activation='softmax'))\n",
    "\n",
    "\n",
    "#compile the model \n",
    "model.compile(loss=keras.losses.categorical_crossentropy,optimizer=keras.optimizers.Adam(),metrics=['accuracy'])\n",
    "\n",
    "\n",
    "\n",
    "batchSize = 128\n",
    "epochs = 20\n",
    "#train the data on max pooling CNN\n",
    "model_train = model.fit(train_X, train_y, batch_size=batchSize,epochs=epochs,verbose=1)\n",
    "\n",
    "test_result = model.evaluate(test_X,test_y,verbose=1)\n",
    "test_result[1]"
   ],
   "metadata": {
    "colab": {
     "base_uri": "https://localhost:8080/"
    },
    "id": "MArrkKEMk98O",
    "outputId": "b2fe01c7-6c18-47b4-d465-c2b52bea6001",
    "pycharm": {
     "name": "#%%\n"
    }
   },
   "execution_count": 23,
   "outputs": [
    {
     "output_type": "stream",
     "name": "stdout",
     "text": [
      "Epoch 1/20\n",
      "469/469 [==============================] - 72s 152ms/step - loss: 0.5069 - accuracy: 0.8162\n",
      "Epoch 2/20\n",
      "469/469 [==============================] - 70s 149ms/step - loss: 0.3115 - accuracy: 0.8878\n",
      "Epoch 3/20\n",
      "469/469 [==============================] - 67s 144ms/step - loss: 0.2639 - accuracy: 0.9041\n",
      "Epoch 4/20\n",
      "469/469 [==============================] - 69s 147ms/step - loss: 0.2325 - accuracy: 0.9149\n",
      "Epoch 5/20\n",
      "469/469 [==============================] - 69s 146ms/step - loss: 0.2086 - accuracy: 0.9231\n",
      "Epoch 6/20\n",
      "469/469 [==============================] - 67s 143ms/step - loss: 0.1905 - accuracy: 0.9296\n",
      "Epoch 7/20\n",
      "469/469 [==============================] - 67s 144ms/step - loss: 0.1687 - accuracy: 0.9379\n",
      "Epoch 8/20\n",
      "469/469 [==============================] - 67s 143ms/step - loss: 0.1532 - accuracy: 0.9435\n",
      "Epoch 9/20\n",
      "469/469 [==============================] - 69s 146ms/step - loss: 0.1353 - accuracy: 0.9494\n",
      "Epoch 10/20\n",
      "469/469 [==============================] - 69s 147ms/step - loss: 0.1208 - accuracy: 0.9540\n",
      "Epoch 11/20\n",
      "469/469 [==============================] - 68s 145ms/step - loss: 0.1066 - accuracy: 0.9609\n",
      "Epoch 12/20\n",
      "469/469 [==============================] - 68s 145ms/step - loss: 0.0928 - accuracy: 0.9653\n",
      "Epoch 13/20\n",
      "469/469 [==============================] - 68s 145ms/step - loss: 0.0818 - accuracy: 0.9693\n",
      "Epoch 14/20\n",
      "469/469 [==============================] - 69s 146ms/step - loss: 0.0701 - accuracy: 0.9743\n",
      "Epoch 15/20\n",
      "469/469 [==============================] - 69s 146ms/step - loss: 0.0616 - accuracy: 0.9772\n",
      "Epoch 16/20\n",
      "469/469 [==============================] - 68s 145ms/step - loss: 0.0528 - accuracy: 0.9804\n",
      "Epoch 17/20\n",
      "469/469 [==============================] - 68s 145ms/step - loss: 0.0446 - accuracy: 0.9834\n",
      "Epoch 18/20\n",
      "469/469 [==============================] - 64s 137ms/step - loss: 0.0440 - accuracy: 0.9834\n",
      "Epoch 19/20\n",
      "469/469 [==============================] - 64s 137ms/step - loss: 0.0365 - accuracy: 0.9864\n",
      "Epoch 20/20\n",
      "469/469 [==============================] - 64s 137ms/step - loss: 0.0326 - accuracy: 0.9880\n",
      "313/313 [==============================] - 3s 11ms/step - loss: 0.4060 - accuracy: 0.9203\n"
     ]
    },
    {
     "output_type": "execute_result",
     "data": {
      "text/plain": [
       "0.9203000068664551"
      ]
     },
     "metadata": {},
     "execution_count": 23
    }
   ]
  },
  {
   "cell_type": "code",
   "source": [
    "model = keras.models.Sequential()\n",
    "model.add(layers.Conv2D(32,(3,3),padding='same',activation='relu',input_shape=(28,28,1)))\n",
    "#apply max pooling layers\n",
    "model.add(layers.MaxPool2D(2,2))\n",
    "model.add(layers.Conv2D(64,(3,3),padding='same',activation='relu'))\n",
    "#apply max pooling layers\n",
    "model.add(layers.MaxPool2D(2,2))\n",
    "\n",
    "#flatten\n",
    "model.add(layers.Flatten())\n",
    "model.add(layers.Dense(128,activation='relu'))\n",
    "model.add(layers.Dense(128,activation='relu'))\n",
    "model.add(layers.Dense(10,activation='softmax'))\n",
    "\n",
    "\n",
    "#compile the model \n",
    "model.compile(loss=keras.losses.categorical_crossentropy,optimizer=keras.optimizers.Adam(),metrics=['accuracy'])\n",
    "\n",
    "\n",
    "\n",
    "batchSize = 128\n",
    "epochs = 30\n",
    "#train the data on max pooling CNN\n",
    "model_train = model.fit(train_X, train_y, batch_size=batchSize,epochs=epochs,verbose=1)\n",
    "\n",
    "test_result = model.evaluate(test_X,test_y,verbose=1)\n",
    "test_result[1]"
   ],
   "metadata": {
    "colab": {
     "base_uri": "https://localhost:8080/"
    },
    "id": "Go6FqxOyk_UZ",
    "outputId": "3c049ed5-4204-44dc-dbe8-c50a172e44fa",
    "pycharm": {
     "name": "#%%\n"
    }
   },
   "execution_count": 24,
   "outputs": [
    {
     "output_type": "stream",
     "name": "stdout",
     "text": [
      "Epoch 1/30\n",
      "469/469 [==============================] - 66s 140ms/step - loss: 0.4995 - accuracy: 0.8179\n",
      "Epoch 2/30\n",
      "469/469 [==============================] - 65s 138ms/step - loss: 0.3102 - accuracy: 0.8877\n",
      "Epoch 3/30\n",
      "469/469 [==============================] - 63s 135ms/step - loss: 0.2630 - accuracy: 0.9043\n",
      "Epoch 4/30\n",
      "469/469 [==============================] - 64s 137ms/step - loss: 0.2300 - accuracy: 0.9150\n",
      "Epoch 5/30\n",
      "469/469 [==============================] - 63s 134ms/step - loss: 0.2067 - accuracy: 0.9231\n",
      "Epoch 6/30\n",
      "469/469 [==============================] - 62s 131ms/step - loss: 0.1855 - accuracy: 0.9303\n",
      "Epoch 7/30\n",
      "469/469 [==============================] - 62s 131ms/step - loss: 0.1671 - accuracy: 0.9375\n",
      "Epoch 8/30\n",
      "469/469 [==============================] - 63s 135ms/step - loss: 0.1505 - accuracy: 0.9437\n",
      "Epoch 9/30\n",
      "469/469 [==============================] - 63s 134ms/step - loss: 0.1361 - accuracy: 0.9495\n",
      "Epoch 10/30\n",
      "469/469 [==============================] - 65s 138ms/step - loss: 0.1183 - accuracy: 0.9556\n",
      "Epoch 11/30\n",
      "469/469 [==============================] - 63s 135ms/step - loss: 0.1063 - accuracy: 0.9607\n",
      "Epoch 12/30\n",
      "469/469 [==============================] - 63s 135ms/step - loss: 0.0941 - accuracy: 0.9647\n",
      "Epoch 13/30\n",
      "469/469 [==============================] - 65s 139ms/step - loss: 0.0795 - accuracy: 0.9700\n",
      "Epoch 14/30\n",
      "469/469 [==============================] - 65s 138ms/step - loss: 0.0733 - accuracy: 0.9724\n",
      "Epoch 15/30\n",
      "469/469 [==============================] - 65s 139ms/step - loss: 0.0630 - accuracy: 0.9764\n",
      "Epoch 16/30\n",
      "469/469 [==============================] - 66s 140ms/step - loss: 0.0540 - accuracy: 0.9802\n",
      "Epoch 17/30\n",
      "469/469 [==============================] - 65s 139ms/step - loss: 0.0482 - accuracy: 0.9821\n",
      "Epoch 18/30\n",
      "469/469 [==============================] - 65s 138ms/step - loss: 0.0433 - accuracy: 0.9840\n",
      "Epoch 19/30\n",
      "469/469 [==============================] - 64s 137ms/step - loss: 0.0377 - accuracy: 0.9861\n",
      "Epoch 20/30\n",
      "469/469 [==============================] - 64s 136ms/step - loss: 0.0357 - accuracy: 0.9870\n",
      "Epoch 21/30\n",
      "469/469 [==============================] - 64s 138ms/step - loss: 0.0335 - accuracy: 0.9876\n",
      "Epoch 22/30\n",
      "469/469 [==============================] - 65s 138ms/step - loss: 0.0249 - accuracy: 0.9910\n",
      "Epoch 23/30\n",
      "469/469 [==============================] - 64s 137ms/step - loss: 0.0293 - accuracy: 0.9895\n",
      "Epoch 24/30\n",
      "469/469 [==============================] - 62s 133ms/step - loss: 0.0241 - accuracy: 0.9914\n",
      "Epoch 25/30\n",
      "469/469 [==============================] - 64s 136ms/step - loss: 0.0206 - accuracy: 0.9927\n",
      "Epoch 26/30\n",
      "469/469 [==============================] - 64s 136ms/step - loss: 0.0211 - accuracy: 0.9924\n",
      "Epoch 27/30\n",
      "469/469 [==============================] - 64s 136ms/step - loss: 0.0219 - accuracy: 0.9921\n",
      "Epoch 28/30\n",
      "469/469 [==============================] - 65s 138ms/step - loss: 0.0192 - accuracy: 0.9936\n",
      "Epoch 29/30\n",
      "469/469 [==============================] - 63s 135ms/step - loss: 0.0180 - accuracy: 0.9937\n",
      "Epoch 30/30\n",
      "469/469 [==============================] - 63s 135ms/step - loss: 0.0177 - accuracy: 0.9937\n",
      "313/313 [==============================] - 4s 12ms/step - loss: 0.6145 - accuracy: 0.9120\n"
     ]
    },
    {
     "output_type": "execute_result",
     "data": {
      "text/plain": [
       "0.9120000004768372"
      ]
     },
     "metadata": {},
     "execution_count": 24
    }
   ]
  },
  {
   "cell_type": "code",
   "source": [
    "model = keras.models.Sequential()\n",
    "model.add(layers.Conv2D(32,(3,3),padding='same',activation='relu',input_shape=(28,28,1)))\n",
    "#apply max pooling layers\n",
    "model.add(layers.MaxPool2D(2,2))\n",
    "model.add(layers.Conv2D(64,(3,3),padding='same',activation='relu'))\n",
    "#apply max pooling layers\n",
    "model.add(layers.MaxPool2D(2,2))\n",
    "\n",
    "#flatten\n",
    "model.add(layers.Flatten())\n",
    "model.add(layers.Dense(128,activation='relu'))\n",
    "model.add(layers.Dense(128,activation='relu'))\n",
    "model.add(layers.Dense(10,activation='softmax'))\n",
    "\n",
    "\n",
    "#compile the model \n",
    "model.compile(loss=keras.losses.categorical_crossentropy,optimizer=keras.optimizers.Adam(),metrics=['accuracy'])\n",
    "\n",
    "\n",
    "\n",
    "batchSize = 128\n",
    "epochs = 40\n",
    "#train the data on max pooling CNN\n",
    "model_train = model.fit(train_X, train_y, batch_size=batchSize,epochs=epochs,verbose=1)\n",
    "\n",
    "test_result = model.evaluate(test_X,test_y,verbose=1)\n",
    "test_result[1]"
   ],
   "metadata": {
    "colab": {
     "base_uri": "https://localhost:8080/"
    },
    "id": "CYKP8pyElGhB",
    "outputId": "28ffac9f-9c9d-4c5c-a9e3-f4f374c96446",
    "pycharm": {
     "name": "#%%\n"
    }
   },
   "execution_count": 25,
   "outputs": [
    {
     "output_type": "stream",
     "name": "stdout",
     "text": [
      "Epoch 1/40\n",
      "469/469 [==============================] - 68s 143ms/step - loss: 0.5034 - accuracy: 0.8189\n",
      "Epoch 2/40\n",
      "469/469 [==============================] - 67s 143ms/step - loss: 0.3152 - accuracy: 0.8871\n",
      "Epoch 3/40\n",
      "469/469 [==============================] - 68s 144ms/step - loss: 0.2659 - accuracy: 0.9039\n",
      "Epoch 4/40\n",
      "469/469 [==============================] - 66s 140ms/step - loss: 0.2341 - accuracy: 0.9142\n",
      "Epoch 5/40\n",
      "469/469 [==============================] - 64s 137ms/step - loss: 0.2062 - accuracy: 0.9252\n",
      "Epoch 6/40\n",
      "469/469 [==============================] - 64s 136ms/step - loss: 0.1879 - accuracy: 0.9310\n",
      "Epoch 7/40\n",
      "469/469 [==============================] - 63s 134ms/step - loss: 0.1707 - accuracy: 0.9363\n",
      "Epoch 8/40\n",
      "469/469 [==============================] - 65s 139ms/step - loss: 0.1554 - accuracy: 0.9419\n",
      "Epoch 9/40\n",
      "469/469 [==============================] - 66s 140ms/step - loss: 0.1370 - accuracy: 0.9492\n",
      "Epoch 10/40\n",
      "469/469 [==============================] - 66s 141ms/step - loss: 0.1243 - accuracy: 0.9544\n",
      "Epoch 11/40\n",
      "469/469 [==============================] - 66s 140ms/step - loss: 0.1066 - accuracy: 0.9604\n",
      "Epoch 12/40\n",
      "469/469 [==============================] - 65s 138ms/step - loss: 0.0937 - accuracy: 0.9654\n",
      "Epoch 13/40\n",
      "469/469 [==============================] - 65s 138ms/step - loss: 0.0825 - accuracy: 0.9691\n",
      "Epoch 14/40\n",
      "469/469 [==============================] - 66s 140ms/step - loss: 0.0698 - accuracy: 0.9738\n",
      "Epoch 15/40\n",
      "469/469 [==============================] - 65s 138ms/step - loss: 0.0605 - accuracy: 0.9781\n",
      "Epoch 16/40\n",
      "469/469 [==============================] - 65s 139ms/step - loss: 0.0517 - accuracy: 0.9806\n",
      "Epoch 17/40\n",
      "469/469 [==============================] - 64s 137ms/step - loss: 0.0462 - accuracy: 0.9832\n",
      "Epoch 18/40\n",
      "469/469 [==============================] - 64s 136ms/step - loss: 0.0416 - accuracy: 0.9850\n",
      "Epoch 19/40\n",
      "469/469 [==============================] - 63s 135ms/step - loss: 0.0333 - accuracy: 0.9877\n",
      "Epoch 20/40\n",
      "469/469 [==============================] - 64s 138ms/step - loss: 0.0336 - accuracy: 0.9876\n",
      "Epoch 21/40\n",
      "469/469 [==============================] - 64s 137ms/step - loss: 0.0270 - accuracy: 0.9898\n",
      "Epoch 22/40\n",
      "469/469 [==============================] - 64s 138ms/step - loss: 0.0264 - accuracy: 0.9903\n",
      "Epoch 23/40\n",
      "469/469 [==============================] - 65s 138ms/step - loss: 0.0271 - accuracy: 0.9899\n",
      "Epoch 24/40\n",
      "469/469 [==============================] - 65s 138ms/step - loss: 0.0257 - accuracy: 0.9906\n",
      "Epoch 25/40\n",
      "469/469 [==============================] - 66s 140ms/step - loss: 0.0183 - accuracy: 0.9931\n",
      "Epoch 26/40\n",
      "469/469 [==============================] - 65s 139ms/step - loss: 0.0239 - accuracy: 0.9913\n",
      "Epoch 27/40\n",
      "469/469 [==============================] - 65s 139ms/step - loss: 0.0190 - accuracy: 0.9933\n",
      "Epoch 28/40\n",
      "469/469 [==============================] - 64s 136ms/step - loss: 0.0187 - accuracy: 0.9937\n",
      "Epoch 29/40\n",
      "469/469 [==============================] - 63s 134ms/step - loss: 0.0151 - accuracy: 0.9946\n",
      "Epoch 30/40\n",
      "469/469 [==============================] - 64s 135ms/step - loss: 0.0216 - accuracy: 0.9919\n",
      "Epoch 31/40\n",
      "469/469 [==============================] - 64s 136ms/step - loss: 0.0140 - accuracy: 0.9952\n",
      "Epoch 32/40\n",
      "469/469 [==============================] - 63s 135ms/step - loss: 0.0148 - accuracy: 0.9951\n",
      "Epoch 33/40\n",
      "469/469 [==============================] - 63s 135ms/step - loss: 0.0142 - accuracy: 0.9952\n",
      "Epoch 34/40\n",
      "469/469 [==============================] - 66s 140ms/step - loss: 0.0167 - accuracy: 0.9940\n",
      "Epoch 35/40\n",
      "469/469 [==============================] - 65s 139ms/step - loss: 0.0171 - accuracy: 0.9943\n",
      "Epoch 36/40\n",
      "469/469 [==============================] - 65s 139ms/step - loss: 0.0149 - accuracy: 0.9948\n",
      "Epoch 37/40\n",
      "469/469 [==============================] - 64s 137ms/step - loss: 0.0141 - accuracy: 0.9951\n",
      "Epoch 38/40\n",
      "469/469 [==============================] - 65s 139ms/step - loss: 0.0120 - accuracy: 0.9957\n",
      "Epoch 39/40\n",
      "469/469 [==============================] - 65s 139ms/step - loss: 0.0143 - accuracy: 0.9952\n",
      "Epoch 40/40\n",
      "469/469 [==============================] - 65s 138ms/step - loss: 0.0150 - accuracy: 0.9952\n",
      "313/313 [==============================] - 4s 11ms/step - loss: 0.5973 - accuracy: 0.9142\n"
     ]
    },
    {
     "output_type": "execute_result",
     "data": {
      "text/plain": [
       "0.9142000079154968"
      ]
     },
     "metadata": {},
     "execution_count": 25
    }
   ]
  },
  {
   "cell_type": "code",
   "source": [
    "model = keras.models.Sequential()\n",
    "model.add(layers.Conv2D(32,(3,3),padding='same',activation='relu',input_shape=(28,28,1)))\n",
    "#apply max pooling layers\n",
    "model.add(layers.MaxPool2D(2,2))\n",
    "model.add(layers.Conv2D(64,(3,3),padding='same',activation='relu'))\n",
    "#apply max pooling layers\n",
    "model.add(layers.MaxPool2D(2,2))\n",
    "\n",
    "#flatten\n",
    "model.add(layers.Flatten())\n",
    "model.add(layers.Dense(128,activation='relu'))\n",
    "model.add(layers.Dense(128,activation='relu'))\n",
    "model.add(layers.Dense(10,activation='softmax'))\n",
    "\n",
    "\n",
    "#compile the model \n",
    "model.compile(loss=keras.losses.categorical_crossentropy,optimizer=keras.optimizers.Adam(),metrics=['accuracy'])\n",
    "\n",
    "\n",
    "\n",
    "batchSize = 128\n",
    "epochs = 50\n",
    "#train the data on max pooling CNN\n",
    "model_train = model.fit(train_X, train_y, batch_size=batchSize,epochs=epochs,verbose=1)\n",
    "\n",
    "test_result = model.evaluate(test_X,test_y,verbose=1)\n",
    "test_result[1]"
   ],
   "metadata": {
    "colab": {
     "base_uri": "https://localhost:8080/"
    },
    "id": "OEMNogwRlTfr",
    "outputId": "2e315b05-ca0b-4a36-dec8-454d0ee13299",
    "pycharm": {
     "name": "#%%\n"
    }
   },
   "execution_count": 26,
   "outputs": [
    {
     "output_type": "stream",
     "name": "stdout",
     "text": [
      "Epoch 1/50\n",
      "469/469 [==============================] - 64s 135ms/step - loss: 0.4994 - accuracy: 0.8196\n",
      "Epoch 2/50\n",
      "469/469 [==============================] - 63s 134ms/step - loss: 0.3050 - accuracy: 0.8903\n",
      "Epoch 3/50\n",
      "469/469 [==============================] - 63s 135ms/step - loss: 0.2590 - accuracy: 0.9049\n",
      "Epoch 4/50\n",
      "469/469 [==============================] - 64s 137ms/step - loss: 0.2285 - accuracy: 0.9153\n",
      "Epoch 5/50\n",
      "469/469 [==============================] - 64s 136ms/step - loss: 0.2027 - accuracy: 0.9247\n",
      "Epoch 6/50\n",
      "469/469 [==============================] - 63s 134ms/step - loss: 0.1800 - accuracy: 0.9331\n",
      "Epoch 7/50\n",
      "469/469 [==============================] - 62s 133ms/step - loss: 0.1624 - accuracy: 0.9388\n",
      "Epoch 8/50\n",
      "469/469 [==============================] - 64s 136ms/step - loss: 0.1470 - accuracy: 0.9445\n",
      "Epoch 9/50\n",
      "469/469 [==============================] - 64s 136ms/step - loss: 0.1280 - accuracy: 0.9521\n",
      "Epoch 10/50\n",
      "469/469 [==============================] - 64s 137ms/step - loss: 0.1158 - accuracy: 0.9570\n",
      "Epoch 11/50\n",
      "469/469 [==============================] - 63s 135ms/step - loss: 0.0987 - accuracy: 0.9640\n",
      "Epoch 12/50\n",
      "469/469 [==============================] - 64s 135ms/step - loss: 0.0882 - accuracy: 0.9677\n",
      "Epoch 13/50\n",
      "469/469 [==============================] - 64s 137ms/step - loss: 0.0759 - accuracy: 0.9726\n",
      "Epoch 14/50\n",
      "469/469 [==============================] - 64s 137ms/step - loss: 0.0665 - accuracy: 0.9757\n",
      "Epoch 15/50\n",
      "469/469 [==============================] - 65s 139ms/step - loss: 0.0568 - accuracy: 0.9793\n",
      "Epoch 16/50\n",
      "469/469 [==============================] - 65s 138ms/step - loss: 0.0491 - accuracy: 0.9818\n",
      "Epoch 17/50\n",
      "469/469 [==============================] - 67s 143ms/step - loss: 0.0416 - accuracy: 0.9847\n",
      "Epoch 18/50\n",
      "469/469 [==============================] - 63s 134ms/step - loss: 0.0397 - accuracy: 0.9853\n",
      "Epoch 19/50\n",
      "469/469 [==============================] - 64s 136ms/step - loss: 0.0324 - accuracy: 0.9880\n",
      "Epoch 20/50\n",
      "469/469 [==============================] - 64s 136ms/step - loss: 0.0333 - accuracy: 0.9880\n",
      "Epoch 21/50\n",
      "469/469 [==============================] - 62s 132ms/step - loss: 0.0279 - accuracy: 0.9900\n",
      "Epoch 22/50\n",
      "469/469 [==============================] - 62s 133ms/step - loss: 0.0235 - accuracy: 0.9915\n",
      "Epoch 23/50\n",
      "469/469 [==============================] - 64s 136ms/step - loss: 0.0263 - accuracy: 0.9906\n",
      "Epoch 24/50\n",
      "469/469 [==============================] - 61s 129ms/step - loss: 0.0205 - accuracy: 0.9926\n",
      "Epoch 25/50\n",
      "469/469 [==============================] - 60s 128ms/step - loss: 0.0258 - accuracy: 0.9901\n",
      "Epoch 26/50\n",
      "469/469 [==============================] - 61s 131ms/step - loss: 0.0195 - accuracy: 0.9928\n",
      "Epoch 27/50\n",
      "469/469 [==============================] - 61s 130ms/step - loss: 0.0161 - accuracy: 0.9948\n",
      "Epoch 28/50\n",
      "469/469 [==============================] - 61s 131ms/step - loss: 0.0175 - accuracy: 0.9938\n",
      "Epoch 29/50\n",
      "469/469 [==============================] - 62s 132ms/step - loss: 0.0153 - accuracy: 0.9945\n",
      "Epoch 30/50\n",
      "469/469 [==============================] - 63s 134ms/step - loss: 0.0195 - accuracy: 0.9935\n",
      "Epoch 31/50\n",
      "469/469 [==============================] - 62s 133ms/step - loss: 0.0176 - accuracy: 0.9940\n",
      "Epoch 32/50\n",
      "469/469 [==============================] - 61s 131ms/step - loss: 0.0192 - accuracy: 0.9931\n",
      "Epoch 33/50\n",
      "469/469 [==============================] - 61s 131ms/step - loss: 0.0109 - accuracy: 0.9961\n",
      "Epoch 34/50\n",
      "469/469 [==============================] - 62s 131ms/step - loss: 0.0151 - accuracy: 0.9948\n",
      "Epoch 35/50\n",
      "469/469 [==============================] - 63s 134ms/step - loss: 0.0174 - accuracy: 0.9937\n",
      "Epoch 36/50\n",
      "469/469 [==============================] - 62s 132ms/step - loss: 0.0130 - accuracy: 0.9955\n",
      "Epoch 37/50\n",
      "469/469 [==============================] - 65s 138ms/step - loss: 0.0097 - accuracy: 0.9971\n",
      "Epoch 38/50\n",
      "469/469 [==============================] - 63s 135ms/step - loss: 0.0180 - accuracy: 0.9936\n",
      "Epoch 39/50\n",
      "469/469 [==============================] - 62s 133ms/step - loss: 0.0079 - accuracy: 0.9977\n",
      "Epoch 40/50\n",
      "469/469 [==============================] - 62s 132ms/step - loss: 0.0174 - accuracy: 0.9940\n",
      "Epoch 41/50\n",
      "469/469 [==============================] - 62s 133ms/step - loss: 0.0137 - accuracy: 0.9954\n",
      "Epoch 42/50\n",
      "469/469 [==============================] - 61s 130ms/step - loss: 0.0106 - accuracy: 0.9963\n",
      "Epoch 43/50\n",
      "469/469 [==============================] - 63s 134ms/step - loss: 0.0107 - accuracy: 0.9960\n",
      "Epoch 44/50\n",
      "469/469 [==============================] - 63s 135ms/step - loss: 0.0158 - accuracy: 0.9948\n",
      "Epoch 45/50\n",
      "469/469 [==============================] - 63s 134ms/step - loss: 0.0097 - accuracy: 0.9968\n",
      "Epoch 46/50\n",
      "469/469 [==============================] - 65s 138ms/step - loss: 0.0131 - accuracy: 0.9954\n",
      "Epoch 47/50\n",
      "469/469 [==============================] - 64s 135ms/step - loss: 0.0082 - accuracy: 0.9971\n",
      "Epoch 48/50\n",
      "469/469 [==============================] - 62s 131ms/step - loss: 0.0113 - accuracy: 0.9963\n",
      "Epoch 49/50\n",
      "469/469 [==============================] - 63s 134ms/step - loss: 0.0080 - accuracy: 0.9974\n",
      "Epoch 50/50\n",
      "469/469 [==============================] - 62s 131ms/step - loss: 0.0122 - accuracy: 0.9961\n",
      "313/313 [==============================] - 4s 12ms/step - loss: 0.7451 - accuracy: 0.9096\n"
     ]
    },
    {
     "output_type": "execute_result",
     "data": {
      "text/plain": [
       "0.909600019454956"
      ]
     },
     "metadata": {},
     "execution_count": 26
    }
   ]
  },
  {
   "cell_type": "markdown",
   "source": [
    "## 128 batch size with 20 epochs"
   ],
   "metadata": {
    "id": "NNplLkNa1bBT",
    "pycharm": {
     "name": "#%% md\n"
    }
   }
  },
  {
   "cell_type": "code",
   "source": [
    "#now test for adjusting our model in order to get a best performance model\n",
    "#add drop out regularization to our model\n",
    "from keras.layers import Dropout"
   ],
   "metadata": {
    "id": "3a_G9THc1H8l",
    "pycharm": {
     "name": "#%%\n"
    }
   },
   "execution_count": 11,
   "outputs": []
  },
  {
   "cell_type": "code",
   "source": [
    "model = keras.models.Sequential()\n",
    "model.add(layers.Conv2D(32,(3,3),padding='same',activation='relu',input_shape=(28,28,1)))\n",
    "#apply max pooling layers\n",
    "model.add(layers.MaxPool2D(2,2))\n",
    "model.add(layers.Conv2D(64,(3,3),padding='same',activation='relu'))\n",
    "#apply max pooling layers\n",
    "model.add(layers.MaxPool2D(2,2))\n",
    "model.add(Dropout(0.25))\n",
    "#flatten\n",
    "model.add(layers.Flatten())\n",
    "model.add(layers.Dense(128,activation='relu'))\n",
    "model.add(layers.Dense(128,activation='relu'))\n",
    "model.add(Dropout(0.25))\n",
    "model.add(layers.Dense(10,activation='softmax'))\n",
    "model.summary()"
   ],
   "metadata": {
    "colab": {
     "base_uri": "https://localhost:8080/"
    },
    "id": "Tcdafxhe1yUw",
    "outputId": "7b50bb32-b344-43bf-cfbc-c61a81bf3aeb",
    "pycharm": {
     "name": "#%%\n"
    }
   },
   "execution_count": 8,
   "outputs": [
    {
     "output_type": "stream",
     "name": "stdout",
     "text": [
      "Model: \"sequential\"\n",
      "_________________________________________________________________\n",
      " Layer (type)                Output Shape              Param #   \n",
      "=================================================================\n",
      " conv2d (Conv2D)             (None, 28, 28, 32)        320       \n",
      "                                                                 \n",
      " max_pooling2d (MaxPooling2D  (None, 14, 14, 32)       0         \n",
      " )                                                               \n",
      "                                                                 \n",
      " conv2d_1 (Conv2D)           (None, 14, 14, 64)        18496     \n",
      "                                                                 \n",
      " max_pooling2d_1 (MaxPooling  (None, 7, 7, 64)         0         \n",
      " 2D)                                                             \n",
      "                                                                 \n",
      " dropout (Dropout)           (None, 7, 7, 64)          0         \n",
      "                                                                 \n",
      " flatten (Flatten)           (None, 3136)              0         \n",
      "                                                                 \n",
      " dense (Dense)               (None, 128)               401536    \n",
      "                                                                 \n",
      " dense_1 (Dense)             (None, 128)               16512     \n",
      "                                                                 \n",
      " dropout_1 (Dropout)         (None, 128)               0         \n",
      "                                                                 \n",
      " dense_2 (Dense)             (None, 10)                1290      \n",
      "                                                                 \n",
      "=================================================================\n",
      "Total params: 438,154\n",
      "Trainable params: 438,154\n",
      "Non-trainable params: 0\n",
      "_________________________________________________________________\n"
     ]
    }
   ]
  },
  {
   "cell_type": "code",
   "source": [
    "#regular model\n",
    "final_model = keras.models.Sequential()\n",
    "final_model.add(layers.Conv2D(32,(3,3),padding='same',activation='relu',input_shape=(28,28,1)))\n",
    "#apply max pooling layers\n",
    "final_model.add(layers.MaxPool2D(2,2))\n",
    "final_model.add(layers.Conv2D(64,(3,3),padding='same',activation='relu'))\n",
    "#apply max pooling layers\n",
    "final_model.add(layers.MaxPool2D(2,2))\n",
    "\n",
    "#flatten\n",
    "final_model.add(layers.Flatten())\n",
    "final_model.add(layers.Dense(128,activation='relu'))\n",
    "final_model.add(layers.Dense(128,activation='relu'))\n",
    "final_model.add(layers.Dense(10,activation='softmax'))\n",
    "\n",
    "\n",
    "#compile the model \n",
    "final_model.compile(loss=keras.losses.categorical_crossentropy,optimizer=keras.optimizers.Adam(),metrics=['accuracy'])\n",
    "\n",
    "\n",
    "\n",
    "batchSize = 128\n",
    "epochs = 20\n",
    "#train the data on max pooling CNN\n",
    "final_model_train = final_model.fit(train_X, train_y, batch_size=batchSize,epochs=epochs)\n",
    "\n",
    "test_result = final_model.evaluate(test_X,test_y,verbose=0)\n",
    "test_result[1]"
   ],
   "metadata": {
    "colab": {
     "base_uri": "https://localhost:8080/"
    },
    "id": "-KnKwP3q36le",
    "outputId": "bf6212b8-391b-4ea1-c517-9caf66cda69f",
    "pycharm": {
     "name": "#%%\n"
    }
   },
   "execution_count": 9,
   "outputs": [
    {
     "output_type": "stream",
     "name": "stdout",
     "text": [
      "Epoch 1/20\n",
      "469/469 [==============================] - 66s 140ms/step - loss: 0.4885 - accuracy: 0.8263\n",
      "Epoch 2/20\n",
      "469/469 [==============================] - 65s 140ms/step - loss: 0.3038 - accuracy: 0.8897\n",
      "Epoch 3/20\n",
      "469/469 [==============================] - 65s 139ms/step - loss: 0.2588 - accuracy: 0.9049\n",
      "Epoch 4/20\n",
      "469/469 [==============================] - 65s 139ms/step - loss: 0.2266 - accuracy: 0.9153\n",
      "Epoch 5/20\n",
      "469/469 [==============================] - 65s 139ms/step - loss: 0.2074 - accuracy: 0.9230\n",
      "Epoch 6/20\n",
      "469/469 [==============================] - 65s 138ms/step - loss: 0.1840 - accuracy: 0.9320\n",
      "Epoch 7/20\n",
      "469/469 [==============================] - 67s 142ms/step - loss: 0.1663 - accuracy: 0.9378\n",
      "Epoch 8/20\n",
      "469/469 [==============================] - 65s 139ms/step - loss: 0.1502 - accuracy: 0.9437\n",
      "Epoch 9/20\n",
      "469/469 [==============================] - 65s 139ms/step - loss: 0.1336 - accuracy: 0.9503\n",
      "Epoch 10/20\n",
      "469/469 [==============================] - 65s 139ms/step - loss: 0.1172 - accuracy: 0.9564\n",
      "Epoch 11/20\n",
      "469/469 [==============================] - 65s 139ms/step - loss: 0.1026 - accuracy: 0.9617\n",
      "Epoch 12/20\n",
      "469/469 [==============================] - 65s 138ms/step - loss: 0.0898 - accuracy: 0.9671\n",
      "Epoch 13/20\n",
      "469/469 [==============================] - 64s 137ms/step - loss: 0.0778 - accuracy: 0.9709\n",
      "Epoch 14/20\n",
      "469/469 [==============================] - 64s 137ms/step - loss: 0.0667 - accuracy: 0.9757\n",
      "Epoch 15/20\n",
      "469/469 [==============================] - 65s 138ms/step - loss: 0.0579 - accuracy: 0.9786\n",
      "Epoch 16/20\n",
      "469/469 [==============================] - 66s 141ms/step - loss: 0.0520 - accuracy: 0.9816\n",
      "Epoch 17/20\n",
      "469/469 [==============================] - 65s 138ms/step - loss: 0.0445 - accuracy: 0.9837\n",
      "Epoch 18/20\n",
      "469/469 [==============================] - 65s 138ms/step - loss: 0.0364 - accuracy: 0.9869\n",
      "Epoch 19/20\n",
      "469/469 [==============================] - 65s 139ms/step - loss: 0.0366 - accuracy: 0.9865\n",
      "Epoch 20/20\n",
      "469/469 [==============================] - 65s 139ms/step - loss: 0.0376 - accuracy: 0.9859\n"
     ]
    },
    {
     "output_type": "execute_result",
     "data": {
      "text/plain": [
       "0.9175999760627747"
      ]
     },
     "metadata": {},
     "execution_count": 9
    }
   ]
  },
  {
   "cell_type": "code",
   "source": [
    "#regular model\n",
    "final_model = keras.models.Sequential()\n",
    "final_model.add(layers.Conv2D(32,(3,3),padding='same',activation='relu',input_shape=(28,28,1)))\n",
    "#apply max pooling layers\n",
    "final_model.add(layers.MaxPool2D(2,2))\n",
    "final_model.add(layers.Conv2D(64,(3,3),padding='same',activation='relu'))\n",
    "#apply max pooling layers\n",
    "final_model.add(layers.MaxPool2D(2,2))\n",
    "final_model.add(Dropout(0.25))\n",
    "#flatten\n",
    "final_model.add(layers.Flatten())\n",
    "final_model.add(layers.Dense(128,activation='relu'))\n",
    "final_model.add(layers.Dense(128,activation='relu'))\n",
    "final_model.add(Dropout(0.25))\n",
    "final_model.add(layers.Dense(10,activation='softmax'))\n",
    "\n",
    "\n",
    "#compile the model \n",
    "final_model.compile(loss=keras.losses.categorical_crossentropy,optimizer=keras.optimizers.Adam(),metrics=['accuracy'])\n",
    "\n",
    "\n",
    "\n",
    "batchSize = 128\n",
    "epochs = 20\n",
    "#train the data on max pooling CNN\n",
    "final_model_train = final_model.fit(train_X, train_y, batch_size=batchSize,epochs=epochs,verbose=1)\n",
    "\n",
    "test_result = final_model.evaluate(test_X,test_y,batch_size=128)\n",
    "test_result[1]"
   ],
   "metadata": {
    "colab": {
     "base_uri": "https://localhost:8080/"
    },
    "id": "BL5thTu45Kl0",
    "outputId": "e7c835b3-59fa-4760-8288-99966b22729d",
    "pycharm": {
     "name": "#%%\n"
    }
   },
   "execution_count": 37,
   "outputs": [
    {
     "output_type": "stream",
     "name": "stdout",
     "text": [
      "Epoch 1/20\n",
      "469/469 [==============================] - 69s 146ms/step - loss: 0.5458 - accuracy: 0.8031\n",
      "Epoch 2/20\n",
      "469/469 [==============================] - 69s 148ms/step - loss: 0.3418 - accuracy: 0.8765\n",
      "Epoch 3/20\n",
      "469/469 [==============================] - 68s 145ms/step - loss: 0.2941 - accuracy: 0.8929\n",
      "Epoch 4/20\n",
      "469/469 [==============================] - 68s 145ms/step - loss: 0.2619 - accuracy: 0.9039\n",
      "Epoch 5/20\n",
      "469/469 [==============================] - 68s 146ms/step - loss: 0.2366 - accuracy: 0.9127\n",
      "Epoch 6/20\n",
      "469/469 [==============================] - 69s 147ms/step - loss: 0.2211 - accuracy: 0.9181\n",
      "Epoch 7/20\n",
      "469/469 [==============================] - 68s 146ms/step - loss: 0.2023 - accuracy: 0.9246\n",
      "Epoch 8/20\n",
      "469/469 [==============================] - 68s 144ms/step - loss: 0.1884 - accuracy: 0.9304\n",
      "Epoch 9/20\n",
      "469/469 [==============================] - 68s 144ms/step - loss: 0.1756 - accuracy: 0.9344\n",
      "Epoch 10/20\n",
      "469/469 [==============================] - 68s 144ms/step - loss: 0.1635 - accuracy: 0.9395\n",
      "Epoch 11/20\n",
      "469/469 [==============================] - 67s 144ms/step - loss: 0.1530 - accuracy: 0.9419\n",
      "Epoch 12/20\n",
      "469/469 [==============================] - 68s 144ms/step - loss: 0.1398 - accuracy: 0.9459\n",
      "Epoch 13/20\n",
      "469/469 [==============================] - 68s 145ms/step - loss: 0.1310 - accuracy: 0.9499\n",
      "Epoch 14/20\n",
      "469/469 [==============================] - 68s 145ms/step - loss: 0.1218 - accuracy: 0.9535\n",
      "Epoch 15/20\n",
      "469/469 [==============================] - 67s 144ms/step - loss: 0.1155 - accuracy: 0.9562\n",
      "Epoch 16/20\n",
      "469/469 [==============================] - 68s 145ms/step - loss: 0.1083 - accuracy: 0.9590\n",
      "Epoch 17/20\n",
      "469/469 [==============================] - 68s 145ms/step - loss: 0.1016 - accuracy: 0.9609\n",
      "Epoch 18/20\n",
      "469/469 [==============================] - 68s 144ms/step - loss: 0.0948 - accuracy: 0.9630\n",
      "Epoch 19/20\n",
      "469/469 [==============================] - 67s 144ms/step - loss: 0.0904 - accuracy: 0.9662\n",
      "Epoch 20/20\n",
      "469/469 [==============================] - 67s 144ms/step - loss: 0.0805 - accuracy: 0.9695\n",
      "79/79 [==============================] - 3s 40ms/step - loss: 0.2537 - accuracy: 0.9244\n"
     ]
    },
    {
     "output_type": "execute_result",
     "data": {
      "text/plain": [
       "0.9243999719619751"
      ]
     },
     "metadata": {},
     "execution_count": 37
    }
   ]
  },
  {
   "cell_type": "code",
   "source": [
    "test_result = final_model.evaluate(test_X,test_y)\n",
    "test_result[1]"
   ],
   "metadata": {
    "colab": {
     "base_uri": "https://localhost:8080/"
    },
    "id": "q6m_DW8FIwBw",
    "outputId": "bb1be226-4575-4bba-a04f-cfda01bcf89d",
    "pycharm": {
     "name": "#%%\n"
    }
   },
   "execution_count": 38,
   "outputs": [
    {
     "output_type": "stream",
     "name": "stdout",
     "text": [
      "313/313 [==============================] - 4s 13ms/step - loss: 0.2537 - accuracy: 0.9244\n"
     ]
    },
    {
     "output_type": "execute_result",
     "data": {
      "text/plain": [
       "0.9243999719619751"
      ]
     },
     "metadata": {},
     "execution_count": 38
    }
   ]
  },
  {
   "cell_type": "code",
   "source": [
    "#save the model for future use and loading\n",
    "final_model.save(\"DROPOUTmodel\")"
   ],
   "metadata": {
    "colab": {
     "base_uri": "https://localhost:8080/"
    },
    "id": "hs6eKrlyMaXz",
    "outputId": "d866f376-929a-4475-f9aa-245c8090bf9b",
    "pycharm": {
     "name": "#%%\n"
    }
   },
   "execution_count": 39,
   "outputs": [
    {
     "output_type": "stream",
     "name": "stdout",
     "text": [
      "INFO:tensorflow:Assets written to: DROPOUTmodel/assets\n"
     ]
    }
   ]
  },
  {
   "cell_type": "code",
   "source": [
    "test_result = final_model.evaluate(test_X,test_y)\n",
    "test_result[1]"
   ],
   "metadata": {
    "colab": {
     "base_uri": "https://localhost:8080/"
    },
    "id": "1JR0Y5tpNMGD",
    "outputId": "68fe792b-1adb-4928-8fef-c06070cda947",
    "pycharm": {
     "name": "#%%\n"
    }
   },
   "execution_count": 35,
   "outputs": [
    {
     "output_type": "stream",
     "name": "stdout",
     "text": [
      "313/313 [==============================] - 4s 12ms/step - loss: 0.2296 - accuracy: 0.9187\n"
     ]
    },
    {
     "output_type": "execute_result",
     "data": {
      "text/plain": [
       "0.9186999797821045"
      ]
     },
     "metadata": {},
     "execution_count": 35
    }
   ]
  },
  {
   "cell_type": "code",
   "source": [
    "reconstructed_model = keras.models.load_model(\"DROPOUTmodel\")"
   ],
   "metadata": {
    "id": "8yAbV2UWNQKy",
    "pycharm": {
     "name": "#%%\n"
    }
   },
   "execution_count": 18,
   "outputs": []
  },
  {
   "cell_type": "code",
   "source": [
    "test_result = reconstructed_model.evaluate(test_X,test_y)\n",
    "test_result[1]"
   ],
   "metadata": {
    "colab": {
     "base_uri": "https://localhost:8080/"
    },
    "id": "9-vkgTinNdTh",
    "outputId": "3bf267d9-fd4f-4d04-ea86-2a193af49378",
    "pycharm": {
     "name": "#%%\n"
    }
   },
   "execution_count": 19,
   "outputs": [
    {
     "output_type": "stream",
     "name": "stdout",
     "text": [
      "313/313 [==============================] - 4s 12ms/step - loss: 0.2539 - accuracy: 0.9264\n"
     ]
    },
    {
     "output_type": "execute_result",
     "data": {
      "text/plain": [
       "0.9264000058174133"
      ]
     },
     "metadata": {},
     "execution_count": 19
    }
   ]
  },
  {
   "cell_type": "markdown",
   "source": [
    "## hyperparameter different kernal size"
   ],
   "metadata": {
    "id": "b56jH-UNbuVW",
    "pycharm": {
     "name": "#%% md\n"
    }
   }
  },
  {
   "cell_type": "code",
   "source": [
    "#now we can test for different hyperparameter\n",
    "#for this lab I am going to test for different kernal size and how it influence the test acc"
   ],
   "metadata": {
    "id": "FD-tMxvGNjvO",
    "pycharm": {
     "name": "#%%\n"
    }
   },
   "execution_count": null,
   "outputs": []
  },
  {
   "cell_type": "code",
   "source": [
    "final_model = keras.models.Sequential()\n",
    "final_model.add(layers.Conv2D(32,(5,5),padding='same',activation='relu',input_shape=(28,28,1)))\n",
    "#apply max pooling layers\n",
    "final_model.add(layers.MaxPool2D(2,2))\n",
    "final_model.add(layers.Conv2D(64,(5,5),padding='same',activation='relu'))\n",
    "#apply max pooling layers\n",
    "final_model.add(layers.MaxPool2D(2,2))\n",
    "final_model.add(Dropout(0.25))\n",
    "#flatten\n",
    "final_model.add(layers.Flatten())\n",
    "final_model.add(layers.Dense(128,activation='relu'))\n",
    "final_model.add(layers.Dense(128,activation='relu'))\n",
    "final_model.add(Dropout(0.25))\n",
    "final_model.add(layers.Dense(10,activation='softmax'))\n",
    "\n",
    "\n",
    "#compile the model \n",
    "final_model.compile(loss=keras.losses.categorical_crossentropy,optimizer=keras.optimizers.Adam(),metrics=['accuracy'])\n",
    "\n",
    "\n",
    "\n",
    "batchSize = 128\n",
    "epochs = 20\n",
    "#train the data on max pooling CNN\n",
    "final_model_train = final_model.fit(train_X, train_y, batch_size=batchSize,epochs=epochs)\n",
    "\n",
    "test_result = final_model.evaluate(test_X,test_y,verbose=0)\n",
    "test_result[1]"
   ],
   "metadata": {
    "colab": {
     "base_uri": "https://localhost:8080/"
    },
    "id": "3ATSAutYVgUu",
    "outputId": "d36f8c98-e472-4f2e-b618-573c7875471b",
    "pycharm": {
     "name": "#%%\n"
    }
   },
   "execution_count": 22,
   "outputs": [
    {
     "output_type": "stream",
     "name": "stdout",
     "text": [
      "Epoch 1/20\n",
      "469/469 [==============================] - 144s 305ms/step - loss: 0.5281 - accuracy: 0.8110\n",
      "Epoch 2/20\n",
      "469/469 [==============================] - 142s 303ms/step - loss: 0.3224 - accuracy: 0.8843\n",
      "Epoch 3/20\n",
      "469/469 [==============================] - 141s 301ms/step - loss: 0.2769 - accuracy: 0.8992\n",
      "Epoch 4/20\n",
      "469/469 [==============================] - 140s 299ms/step - loss: 0.2456 - accuracy: 0.9101\n",
      "Epoch 5/20\n",
      "469/469 [==============================] - 142s 304ms/step - loss: 0.2245 - accuracy: 0.9164\n",
      "Epoch 6/20\n",
      "469/469 [==============================] - 142s 302ms/step - loss: 0.2063 - accuracy: 0.9232\n",
      "Epoch 7/20\n",
      "469/469 [==============================] - 141s 301ms/step - loss: 0.1908 - accuracy: 0.9292\n",
      "Epoch 8/20\n",
      "469/469 [==============================] - 141s 301ms/step - loss: 0.1793 - accuracy: 0.9331\n",
      "Epoch 9/20\n",
      "469/469 [==============================] - 142s 303ms/step - loss: 0.1645 - accuracy: 0.9388\n",
      "Epoch 10/20\n",
      "469/469 [==============================] - 142s 303ms/step - loss: 0.1520 - accuracy: 0.9428\n",
      "Epoch 11/20\n",
      "469/469 [==============================] - 141s 301ms/step - loss: 0.1436 - accuracy: 0.9456\n",
      "Epoch 12/20\n",
      "469/469 [==============================] - 142s 302ms/step - loss: 0.1341 - accuracy: 0.9491\n",
      "Epoch 13/20\n",
      "469/469 [==============================] - 143s 304ms/step - loss: 0.1242 - accuracy: 0.9534\n",
      "Epoch 14/20\n",
      "469/469 [==============================] - 142s 303ms/step - loss: 0.1164 - accuracy: 0.9559\n",
      "Epoch 15/20\n",
      "469/469 [==============================] - 141s 300ms/step - loss: 0.1108 - accuracy: 0.9584\n",
      "Epoch 16/20\n",
      "469/469 [==============================] - 141s 300ms/step - loss: 0.1037 - accuracy: 0.9601\n",
      "Epoch 17/20\n",
      "469/469 [==============================] - 140s 300ms/step - loss: 0.0960 - accuracy: 0.9628\n",
      "Epoch 18/20\n",
      "469/469 [==============================] - 142s 302ms/step - loss: 0.0893 - accuracy: 0.9653\n",
      "Epoch 19/20\n",
      "469/469 [==============================] - 142s 303ms/step - loss: 0.0867 - accuracy: 0.9666\n",
      "Epoch 20/20\n",
      "469/469 [==============================] - 141s 302ms/step - loss: 0.0780 - accuracy: 0.9700\n"
     ]
    },
    {
     "output_type": "execute_result",
     "data": {
      "text/plain": [
       "0.9215999841690063"
      ]
     },
     "metadata": {},
     "execution_count": 22
    }
   ]
  },
  {
   "cell_type": "code",
   "source": [
    "final_model = keras.models.Sequential()\n",
    "final_model.add(layers.Conv2D(32,(3,3),padding='same',activation='relu',input_shape=(28,28,1)))\n",
    "#apply max pooling layers\n",
    "final_model.add(layers.MaxPool2D(2,2))\n",
    "final_model.add(layers.Conv2D(64,(3,3),padding='same',activation='relu'))\n",
    "#apply max pooling layers\n",
    "final_model.add(layers.MaxPool2D(2,2))\n",
    "final_model.add(Dropout(0.25))\n",
    "#flatten\n",
    "final_model.add(layers.Flatten())\n",
    "final_model.add(layers.Dense(128,activation='relu'))\n",
    "final_model.add(layers.Dense(128,activation='relu'))\n",
    "final_model.add(Dropout(0.25))\n",
    "final_model.add(layers.Dense(10,activation='softmax'))\n",
    "\n",
    "\n",
    "#compile the model \n",
    "final_model.compile(loss=keras.losses.categorical_crossentropy,optimizer=keras.optimizers.Adam(),metrics=['accuracy'])\n",
    "\n",
    "\n",
    "\n",
    "batchSize = 128\n",
    "epochs = 20\n",
    "#train the data on max pooling CNN\n",
    "final_model_train = final_model.fit(train_X, train_y, batch_size=batchSize,epochs=epochs)\n",
    "\n",
    "test_result = final_model.evaluate(test_X,test_y,verbose=0)\n",
    "test_result[1]"
   ],
   "metadata": {
    "colab": {
     "base_uri": "https://localhost:8080/"
    },
    "id": "jnYRgRQoVj1a",
    "outputId": "aaf8b950-24bc-42fa-842e-7b16d7626d14",
    "pycharm": {
     "name": "#%%\n"
    }
   },
   "execution_count": 26,
   "outputs": [
    {
     "output_type": "stream",
     "name": "stdout",
     "text": [
      "Epoch 1/20\n",
      "469/469 [==============================] - 71s 150ms/step - loss: 0.5285 - accuracy: 0.8091\n",
      "Epoch 2/20\n",
      "469/469 [==============================] - 71s 151ms/step - loss: 0.3313 - accuracy: 0.8803\n",
      "Epoch 3/20\n",
      "469/469 [==============================] - 71s 151ms/step - loss: 0.2896 - accuracy: 0.8944\n",
      "Epoch 4/20\n",
      "469/469 [==============================] - 70s 149ms/step - loss: 0.2584 - accuracy: 0.9051\n",
      "Epoch 5/20\n",
      "469/469 [==============================] - 70s 149ms/step - loss: 0.2410 - accuracy: 0.9104\n",
      "Epoch 6/20\n",
      "469/469 [==============================] - 69s 148ms/step - loss: 0.2180 - accuracy: 0.9179\n",
      "Epoch 7/20\n",
      "469/469 [==============================] - 71s 151ms/step - loss: 0.2048 - accuracy: 0.9240\n",
      "Epoch 8/20\n",
      "469/469 [==============================] - 69s 148ms/step - loss: 0.1888 - accuracy: 0.9299\n",
      "Epoch 9/20\n",
      "469/469 [==============================] - 70s 149ms/step - loss: 0.1748 - accuracy: 0.9332\n",
      "Epoch 10/20\n",
      "469/469 [==============================] - 70s 149ms/step - loss: 0.1643 - accuracy: 0.9380\n",
      "Epoch 11/20\n",
      "469/469 [==============================] - 70s 149ms/step - loss: 0.1511 - accuracy: 0.9442\n",
      "Epoch 12/20\n",
      "469/469 [==============================] - 70s 149ms/step - loss: 0.1426 - accuracy: 0.9460\n",
      "Epoch 13/20\n",
      "469/469 [==============================] - 70s 148ms/step - loss: 0.1348 - accuracy: 0.9486\n",
      "Epoch 14/20\n",
      "469/469 [==============================] - 70s 149ms/step - loss: 0.1250 - accuracy: 0.9524\n",
      "Epoch 15/20\n",
      "469/469 [==============================] - 70s 149ms/step - loss: 0.1150 - accuracy: 0.9564\n",
      "Epoch 16/20\n",
      "469/469 [==============================] - 71s 152ms/step - loss: 0.1072 - accuracy: 0.9594\n",
      "Epoch 17/20\n",
      "469/469 [==============================] - 69s 148ms/step - loss: 0.0989 - accuracy: 0.9622\n",
      "Epoch 18/20\n",
      "469/469 [==============================] - 70s 149ms/step - loss: 0.0940 - accuracy: 0.9634\n",
      "Epoch 19/20\n",
      "469/469 [==============================] - 70s 149ms/step - loss: 0.0864 - accuracy: 0.9675\n",
      "Epoch 20/20\n",
      "469/469 [==============================] - 70s 148ms/step - loss: 0.0812 - accuracy: 0.9690\n"
     ]
    },
    {
     "output_type": "execute_result",
     "data": {
      "text/plain": [
       "0.9269000291824341"
      ]
     },
     "metadata": {},
     "execution_count": 26
    }
   ]
  },
  {
   "cell_type": "code",
   "source": [
    "final_model = keras.models.Sequential()\n",
    "final_model.add(layers.Conv2D(32,(7,7),padding='same',activation='relu',input_shape=(28,28,1)))\n",
    "#apply max pooling layers\n",
    "final_model.add(layers.MaxPool2D(2,2))\n",
    "final_model.add(layers.Conv2D(64,(7,7),padding='same',activation='relu'))\n",
    "#apply max pooling layers\n",
    "final_model.add(layers.MaxPool2D(2,2))\n",
    "final_model.add(Dropout(0.25))\n",
    "#flatten\n",
    "final_model.add(layers.Flatten())\n",
    "final_model.add(layers.Dense(128,activation='relu'))\n",
    "final_model.add(layers.Dense(128,activation='relu'))\n",
    "final_model.add(Dropout(0.25))\n",
    "final_model.add(layers.Dense(10,activation='softmax'))\n",
    "\n",
    "\n",
    "#compile the model \n",
    "final_model.compile(loss=keras.losses.categorical_crossentropy,optimizer=keras.optimizers.Adam(),metrics=['accuracy'])\n",
    "\n",
    "\n",
    "\n",
    "batchSize = 128\n",
    "epochs = 20\n",
    "#train the data on max pooling CNN\n",
    "final_model_train = final_model.fit(train_X, train_y, batch_size=batchSize,epochs=epochs)\n",
    "\n",
    "test_result = final_model.evaluate(test_X,test_y,verbose=0)\n",
    "test_result[1]"
   ],
   "metadata": {
    "colab": {
     "base_uri": "https://localhost:8080/"
    },
    "id": "xl8ktzAqzypH",
    "outputId": "8e70a390-c8eb-48bd-ba11-293c796b5eee",
    "pycharm": {
     "name": "#%%\n"
    }
   },
   "execution_count": 25,
   "outputs": [
    {
     "output_type": "stream",
     "name": "stdout",
     "text": [
      "Epoch 1/20\n",
      "469/469 [==============================] - 246s 523ms/step - loss: 0.5492 - accuracy: 0.7975\n",
      "Epoch 2/20\n",
      "469/469 [==============================] - 245s 522ms/step - loss: 0.3341 - accuracy: 0.8795\n",
      "Epoch 3/20\n",
      "469/469 [==============================] - 244s 520ms/step - loss: 0.2861 - accuracy: 0.8954\n",
      "Epoch 4/20\n",
      "469/469 [==============================] - 244s 521ms/step - loss: 0.2569 - accuracy: 0.9052\n",
      "Epoch 5/20\n",
      "469/469 [==============================] - 243s 519ms/step - loss: 0.2332 - accuracy: 0.9134\n",
      "Epoch 6/20\n",
      "469/469 [==============================] - 245s 523ms/step - loss: 0.2145 - accuracy: 0.9199\n",
      "Epoch 7/20\n",
      "469/469 [==============================] - 243s 519ms/step - loss: 0.2012 - accuracy: 0.9254\n",
      "Epoch 8/20\n",
      "469/469 [==============================] - 243s 518ms/step - loss: 0.1831 - accuracy: 0.9319\n",
      "Epoch 9/20\n",
      "469/469 [==============================] - 243s 519ms/step - loss: 0.1721 - accuracy: 0.9343\n",
      "Epoch 10/20\n",
      "469/469 [==============================] - 243s 518ms/step - loss: 0.1632 - accuracy: 0.9377\n",
      "Epoch 11/20\n",
      "469/469 [==============================] - 242s 517ms/step - loss: 0.1498 - accuracy: 0.9428\n",
      "Epoch 12/20\n",
      "469/469 [==============================] - 243s 518ms/step - loss: 0.1413 - accuracy: 0.9456\n",
      "Epoch 13/20\n",
      "469/469 [==============================] - 245s 523ms/step - loss: 0.1325 - accuracy: 0.9494\n",
      "Epoch 14/20\n",
      "469/469 [==============================] - 243s 519ms/step - loss: 0.1261 - accuracy: 0.9520\n",
      "Epoch 15/20\n",
      "469/469 [==============================] - 245s 523ms/step - loss: 0.1154 - accuracy: 0.9558\n",
      "Epoch 16/20\n",
      "469/469 [==============================] - 242s 517ms/step - loss: 0.1078 - accuracy: 0.9588\n",
      "Epoch 17/20\n",
      "469/469 [==============================] - 243s 518ms/step - loss: 0.1046 - accuracy: 0.9600\n",
      "Epoch 18/20\n",
      "469/469 [==============================] - 243s 518ms/step - loss: 0.0985 - accuracy: 0.9619\n",
      "Epoch 19/20\n",
      "469/469 [==============================] - 245s 522ms/step - loss: 0.0932 - accuracy: 0.9640\n",
      "Epoch 20/20\n",
      "469/469 [==============================] - 246s 524ms/step - loss: 0.0866 - accuracy: 0.9675\n"
     ]
    },
    {
     "output_type": "execute_result",
     "data": {
      "text/plain": [
       "0.9218000173568726"
      ]
     },
     "metadata": {},
     "execution_count": 25
    }
   ]
  },
  {
   "cell_type": "code",
   "source": [],
   "metadata": {
    "id": "f56QXcEyz2BJ",
    "pycharm": {
     "name": "#%%\n"
    }
   },
   "execution_count": null,
   "outputs": []
  },
  {
   "cell_type": "markdown",
   "source": [
    "##different dropout rate"
   ],
   "metadata": {
    "id": "bolKuniXRMaT",
    "pycharm": {
     "name": "#%% md\n"
    }
   }
  },
  {
   "cell_type": "code",
   "source": [
    "final_model = keras.models.Sequential()\n",
    "final_model.add(layers.Conv2D(32,(3,3),padding='same',activation='relu',input_shape=(28,28,1)))\n",
    "#apply max pooling layers\n",
    "final_model.add(layers.MaxPool2D(2,2))\n",
    "final_model.add(layers.Conv2D(64,(3,3),padding='same',activation='relu'))\n",
    "#apply max pooling layers\n",
    "final_model.add(layers.MaxPool2D(2,2))\n",
    "final_model.add(Dropout(0.25))\n",
    "#flatten\n",
    "final_model.add(layers.Flatten())\n",
    "final_model.add(layers.Dense(128,activation='relu'))\n",
    "final_model.add(layers.Dense(128,activation='relu'))\n",
    "final_model.add(Dropout(0.25))\n",
    "final_model.add(layers.Dense(10,activation='softmax'))\n",
    "\n",
    "\n",
    "#compile the model \n",
    "final_model.compile(loss=keras.losses.categorical_crossentropy,optimizer=keras.optimizers.Adam(),metrics=['accuracy'])\n",
    "\n",
    "\n",
    "\n",
    "batchSize = 128\n",
    "epochs = 20\n",
    "#train the data on max pooling CNN\n",
    "final_model_train = final_model.fit(train_X, train_y, batch_size=batchSize,epochs=epochs)\n",
    "\n",
    "test_result = final_model.evaluate(test_X,test_y,verbose=0)\n",
    "test_result[1]"
   ],
   "metadata": {
    "id": "Yu8ZgaH8RPea",
    "pycharm": {
     "name": "#%%\n"
    }
   },
   "execution_count": null,
   "outputs": []
  },
  {
   "cell_type": "code",
   "source": [
    "final_model = keras.models.Sequential()\n",
    "final_model.add(layers.Conv2D(32,(3,3),padding='same',activation='relu',input_shape=(28,28,1)))\n",
    "#apply max pooling layers\n",
    "final_model.add(layers.MaxPool2D(2,2))\n",
    "final_model.add(layers.Conv2D(64,(3,3),padding='same',activation='relu'))\n",
    "#apply max pooling layers\n",
    "final_model.add(layers.MaxPool2D(2,2))\n",
    "final_model.add(Dropout(0.5))\n",
    "#flatten\n",
    "final_model.add(layers.Flatten())\n",
    "final_model.add(layers.Dense(128,activation='relu'))\n",
    "final_model.add(layers.Dense(128,activation='relu'))\n",
    "final_model.add(Dropout(0.5))\n",
    "final_model.add(layers.Dense(10,activation='softmax'))\n",
    "\n",
    "\n",
    "#compile the model \n",
    "final_model.compile(loss=keras.losses.categorical_crossentropy,optimizer=keras.optimizers.Adam(),metrics=['accuracy'])\n",
    "\n",
    "\n",
    "\n",
    "batchSize = 128\n",
    "epochs = 20\n",
    "#train the data on max pooling CNN\n",
    "final_model_train = final_model.fit(train_X, train_y, batch_size=batchSize,epochs=epochs)\n",
    "\n",
    "test_result = final_model.evaluate(test_X,test_y,verbose=0)\n",
    "test_result[1]"
   ],
   "metadata": {
    "colab": {
     "base_uri": "https://localhost:8080/"
    },
    "id": "6k1_nT98RQ4m",
    "outputId": "21fd6957-f522-4b14-98cc-c1bb3936862a",
    "pycharm": {
     "name": "#%%\n"
    }
   },
   "execution_count": 27,
   "outputs": [
    {
     "output_type": "stream",
     "name": "stdout",
     "text": [
      "Epoch 1/20\n",
      "469/469 [==============================] - 72s 151ms/step - loss: 0.6081 - accuracy: 0.7805\n",
      "Epoch 2/20\n",
      "469/469 [==============================] - 71s 151ms/step - loss: 0.3810 - accuracy: 0.8653\n",
      "Epoch 3/20\n",
      "469/469 [==============================] - 70s 149ms/step - loss: 0.3291 - accuracy: 0.8814\n",
      "Epoch 4/20\n",
      "469/469 [==============================] - 70s 149ms/step - loss: 0.2977 - accuracy: 0.8925\n",
      "Epoch 5/20\n",
      "469/469 [==============================] - 69s 148ms/step - loss: 0.2759 - accuracy: 0.9000\n",
      "Epoch 6/20\n",
      "469/469 [==============================] - 69s 148ms/step - loss: 0.2576 - accuracy: 0.9050\n",
      "Epoch 7/20\n",
      "469/469 [==============================] - 70s 150ms/step - loss: 0.2419 - accuracy: 0.9129\n",
      "Epoch 8/20\n",
      "469/469 [==============================] - 70s 149ms/step - loss: 0.2293 - accuracy: 0.9170\n",
      "Epoch 9/20\n",
      "469/469 [==============================] - 69s 148ms/step - loss: 0.2194 - accuracy: 0.9194\n",
      "Epoch 10/20\n",
      "469/469 [==============================] - 69s 148ms/step - loss: 0.2105 - accuracy: 0.9232\n",
      "Epoch 11/20\n",
      "469/469 [==============================] - 69s 146ms/step - loss: 0.2004 - accuracy: 0.9267\n",
      "Epoch 12/20\n",
      "469/469 [==============================] - 69s 147ms/step - loss: 0.1918 - accuracy: 0.9285\n",
      "Epoch 13/20\n",
      "469/469 [==============================] - 69s 147ms/step - loss: 0.1850 - accuracy: 0.9315\n",
      "Epoch 14/20\n",
      "469/469 [==============================] - 69s 147ms/step - loss: 0.1794 - accuracy: 0.9328\n",
      "Epoch 15/20\n",
      "469/469 [==============================] - 70s 148ms/step - loss: 0.1734 - accuracy: 0.9358\n",
      "Epoch 16/20\n",
      "469/469 [==============================] - 70s 149ms/step - loss: 0.1679 - accuracy: 0.9369\n",
      "Epoch 17/20\n",
      "469/469 [==============================] - 70s 148ms/step - loss: 0.1590 - accuracy: 0.9409\n",
      "Epoch 18/20\n",
      "469/469 [==============================] - 70s 149ms/step - loss: 0.1538 - accuracy: 0.9424\n",
      "Epoch 19/20\n",
      "469/469 [==============================] - 70s 149ms/step - loss: 0.1501 - accuracy: 0.9443\n",
      "Epoch 20/20\n",
      "469/469 [==============================] - 70s 149ms/step - loss: 0.1476 - accuracy: 0.9445\n"
     ]
    },
    {
     "output_type": "execute_result",
     "data": {
      "text/plain": [
       "0.9204999804496765"
      ]
     },
     "metadata": {},
     "execution_count": 27
    }
   ]
  },
  {
   "cell_type": "code",
   "source": [
    "final_model = keras.models.Sequential()\n",
    "final_model.add(layers.Conv2D(32,(3,3),padding='same',activation='relu',input_shape=(28,28,1)))\n",
    "#apply max pooling layers\n",
    "final_model.add(layers.MaxPool2D(2,2))\n",
    "final_model.add(layers.Conv2D(64,(3,3),padding='same',activation='relu'))\n",
    "#apply max pooling layers\n",
    "final_model.add(layers.MaxPool2D(2,2))\n",
    "final_model.add(Dropout(0.75))\n",
    "#flatten\n",
    "final_model.add(layers.Flatten())\n",
    "final_model.add(layers.Dense(128,activation='relu'))\n",
    "final_model.add(layers.Dense(128,activation='relu'))\n",
    "final_model.add(Dropout(0.75))\n",
    "final_model.add(layers.Dense(10,activation='softmax'))\n",
    "\n",
    "\n",
    "#compile the model \n",
    "final_model.compile(loss=keras.losses.categorical_crossentropy,optimizer=keras.optimizers.Adam(),metrics=['accuracy'])\n",
    "\n",
    "\n",
    "\n",
    "batchSize = 128\n",
    "epochs = 20\n",
    "#train the data on max pooling CNN\n",
    "final_model_train = final_model.fit(train_X, train_y, batch_size=batchSize,epochs=epochs)\n",
    "\n",
    "test_result = final_model.evaluate(test_X,test_y,verbose=0)\n",
    "test_result[1]"
   ],
   "metadata": {
    "colab": {
     "base_uri": "https://localhost:8080/"
    },
    "id": "mkDgD4edRV5M",
    "outputId": "9c72f88e-20e5-4960-f11e-e3b6243604c6",
    "pycharm": {
     "name": "#%%\n"
    }
   },
   "execution_count": 28,
   "outputs": [
    {
     "output_type": "stream",
     "name": "stdout",
     "text": [
      "Epoch 1/20\n",
      "469/469 [==============================] - 70s 149ms/step - loss: 0.8375 - accuracy: 0.6957\n",
      "Epoch 2/20\n",
      "469/469 [==============================] - 69s 148ms/step - loss: 0.5248 - accuracy: 0.8184\n",
      "Epoch 3/20\n",
      "469/469 [==============================] - 69s 146ms/step - loss: 0.4586 - accuracy: 0.8408\n",
      "Epoch 4/20\n",
      "469/469 [==============================] - 69s 147ms/step - loss: 0.4162 - accuracy: 0.8554\n",
      "Epoch 5/20\n",
      "469/469 [==============================] - 69s 147ms/step - loss: 0.3910 - accuracy: 0.8656\n",
      "Epoch 6/20\n",
      "469/469 [==============================] - 70s 149ms/step - loss: 0.3662 - accuracy: 0.8733\n",
      "Epoch 7/20\n",
      "469/469 [==============================] - 69s 146ms/step - loss: 0.3502 - accuracy: 0.8795\n",
      "Epoch 8/20\n",
      "469/469 [==============================] - 69s 147ms/step - loss: 0.3372 - accuracy: 0.8817\n",
      "Epoch 9/20\n",
      "469/469 [==============================] - 69s 146ms/step - loss: 0.3259 - accuracy: 0.8847\n",
      "Epoch 10/20\n",
      "469/469 [==============================] - 68s 144ms/step - loss: 0.3185 - accuracy: 0.8888\n",
      "Epoch 11/20\n",
      "469/469 [==============================] - 68s 144ms/step - loss: 0.3083 - accuracy: 0.8918\n",
      "Epoch 12/20\n",
      "469/469 [==============================] - 68s 144ms/step - loss: 0.3001 - accuracy: 0.8946\n",
      "Epoch 13/20\n",
      "469/469 [==============================] - 68s 145ms/step - loss: 0.2905 - accuracy: 0.8979\n",
      "Epoch 14/20\n",
      "469/469 [==============================] - 68s 145ms/step - loss: 0.2856 - accuracy: 0.9003\n",
      "Epoch 15/20\n",
      "469/469 [==============================] - 68s 145ms/step - loss: 0.2838 - accuracy: 0.8995\n",
      "Epoch 16/20\n",
      "469/469 [==============================] - 68s 144ms/step - loss: 0.2777 - accuracy: 0.9021\n",
      "Epoch 17/20\n",
      "469/469 [==============================] - 68s 144ms/step - loss: 0.2717 - accuracy: 0.9046\n",
      "Epoch 18/20\n",
      "469/469 [==============================] - 67s 143ms/step - loss: 0.2643 - accuracy: 0.9072\n",
      "Epoch 19/20\n",
      "469/469 [==============================] - 67s 143ms/step - loss: 0.2614 - accuracy: 0.9056\n",
      "Epoch 20/20\n",
      "469/469 [==============================] - 67s 143ms/step - loss: 0.2550 - accuracy: 0.9092\n"
     ]
    },
    {
     "output_type": "execute_result",
     "data": {
      "text/plain": [
       "0.9186999797821045"
      ]
     },
     "metadata": {},
     "execution_count": 28
    }
   ]
  },
  {
   "cell_type": "code",
   "source": [],
   "metadata": {
    "id": "DrxWqm3gflGy",
    "pycharm": {
     "name": "#%%\n"
    }
   },
   "execution_count": null,
   "outputs": []
  },
  {
   "cell_type": "code",
   "source": [
    "final_model_1 = keras.models.Sequential()\n",
    "final_model_1.add(layers.Conv2D(32,(3,3),padding='same',activation='relu',input_shape=(28,28,1)))\n",
    "#apply max pooling layers\n",
    "final_model_1.add(layers.MaxPool2D(2,2))\n",
    "final_model_1.add(layers.Conv2D(64,(3,3),padding='same',activation='relu'))\n",
    "#apply max pooling layers\n",
    "final_model_1.add(layers.MaxPool2D(2,2))\n",
    "final_model_1.add(Dropout(0.25))\n",
    "#flatten\n",
    "final_model_1.add(layers.Flatten())\n",
    "final_model_1.add(layers.Dense(128,activation='relu'))\n",
    "final_model_1.add(layers.Dense(128,activation='relu'))\n",
    "final_model_1.add(Dropout(0.25))\n",
    "final_model_1.add(layers.Dense(10,activation='softmax'))\n",
    "\n",
    "\n",
    "#compile the model \n",
    "final_model_1.compile(loss=keras.losses.categorical_crossentropy,optimizer=keras.optimizers.Adam(),metrics=['accuracy'])\n",
    "\n",
    "\n",
    "\n",
    "batchSize = 128\n",
    "epochs = 20\n",
    "#train the data on max pooling CNN\n",
    "final_model_train_1 = final_model_1.fit(train_X, train_y, batch_size=batchSize,epochs=epochs,verbose=1)\n",
    "\n",
    "test_result = final_model_1.evaluate(test_X,test_y,batch_size=128)\n",
    "test_result[1]"
   ],
   "metadata": {
    "colab": {
     "base_uri": "https://localhost:8080/"
    },
    "id": "HlVY43QZ9T6-",
    "outputId": "3d73cec9-2150-4717-c13b-6a36f778ecb8",
    "pycharm": {
     "name": "#%%\n"
    }
   },
   "execution_count": 42,
   "outputs": [
    {
     "output_type": "stream",
     "name": "stdout",
     "text": [
      "Epoch 1/20\n",
      "469/469 [==============================] - 69s 146ms/step - loss: 0.5387 - accuracy: 0.8025\n",
      "Epoch 2/20\n",
      "469/469 [==============================] - 69s 147ms/step - loss: 0.3390 - accuracy: 0.8774\n",
      "Epoch 3/20\n",
      "469/469 [==============================] - 69s 147ms/step - loss: 0.2879 - accuracy: 0.8959\n",
      "Epoch 4/20\n",
      "469/469 [==============================] - 68s 144ms/step - loss: 0.2599 - accuracy: 0.9055\n",
      "Epoch 5/20\n",
      "469/469 [==============================] - 68s 144ms/step - loss: 0.2335 - accuracy: 0.9139\n",
      "Epoch 6/20\n",
      "469/469 [==============================] - 69s 146ms/step - loss: 0.2187 - accuracy: 0.9186\n",
      "Epoch 7/20\n",
      "469/469 [==============================] - 69s 146ms/step - loss: 0.2002 - accuracy: 0.9256\n",
      "Epoch 8/20\n",
      "469/469 [==============================] - 69s 148ms/step - loss: 0.1856 - accuracy: 0.9303\n",
      "Epoch 9/20\n",
      "469/469 [==============================] - 68s 144ms/step - loss: 0.1746 - accuracy: 0.9344\n",
      "Epoch 10/20\n",
      "469/469 [==============================] - 68s 145ms/step - loss: 0.1597 - accuracy: 0.9400\n",
      "Epoch 11/20\n",
      "469/469 [==============================] - 68s 144ms/step - loss: 0.1509 - accuracy: 0.9426\n",
      "Epoch 12/20\n",
      "469/469 [==============================] - 68s 144ms/step - loss: 0.1386 - accuracy: 0.9470\n",
      "Epoch 13/20\n",
      "469/469 [==============================] - 68s 145ms/step - loss: 0.1294 - accuracy: 0.9507\n",
      "Epoch 14/20\n",
      "469/469 [==============================] - 67s 143ms/step - loss: 0.1217 - accuracy: 0.9541\n",
      "Epoch 15/20\n",
      "469/469 [==============================] - 68s 144ms/step - loss: 0.1135 - accuracy: 0.9565\n",
      "Epoch 16/20\n",
      "469/469 [==============================] - 67s 144ms/step - loss: 0.1072 - accuracy: 0.9590\n",
      "Epoch 17/20\n",
      "469/469 [==============================] - 67s 143ms/step - loss: 0.1020 - accuracy: 0.9611\n",
      "Epoch 18/20\n",
      "469/469 [==============================] - 66s 142ms/step - loss: 0.0934 - accuracy: 0.9638\n",
      "Epoch 19/20\n",
      "469/469 [==============================] - 66s 142ms/step - loss: 0.0875 - accuracy: 0.9666\n",
      "Epoch 20/20\n",
      "469/469 [==============================] - 66s 142ms/step - loss: 0.0824 - accuracy: 0.9688\n",
      "79/79 [==============================] - 3s 39ms/step - loss: 0.2671 - accuracy: 0.9248\n"
     ]
    },
    {
     "output_type": "execute_result",
     "data": {
      "text/plain": [
       "0.9247999787330627"
      ]
     },
     "metadata": {},
     "execution_count": 42
    }
   ]
  },
  {
   "cell_type": "code",
   "source": [
    "reconstructed_model = keras.models.load_model(\"DROPOUTmodel\")\n",
    "test_result = reconstructed_model.evaluate(test_X,test_y)\n",
    "test_result[1]"
   ],
   "metadata": {
    "colab": {
     "base_uri": "https://localhost:8080/"
    },
    "id": "67awTXGBzWMu",
    "outputId": "03e17a3b-e736-4010-9009-f58025efc96c",
    "pycharm": {
     "name": "#%%\n"
    }
   },
   "execution_count": 44,
   "outputs": [
    {
     "output_type": "stream",
     "name": "stdout",
     "text": [
      "313/313 [==============================] - 4s 13ms/step - loss: 0.2537 - accuracy: 0.9244\n"
     ]
    },
    {
     "output_type": "execute_result",
     "data": {
      "text/plain": [
       "0.9243999719619751"
      ]
     },
     "metadata": {},
     "execution_count": 44
    }
   ]
  },
  {
   "cell_type": "markdown",
   "source": [
    "##plot the best model with training epochs"
   ],
   "metadata": {
    "id": "S4BvNj95Ikdd",
    "pycharm": {
     "name": "#%% md\n"
    }
   }
  },
  {
   "cell_type": "code",
   "source": [
    "train_acc = [0.8025,0.8774,0.8959,0.9055,0.9139,0.9186,0.9256,0.9303,0.9344,0.9400,0.9426,0.9470,0.9507,0.9541,0.9565,0.9590,0.9611,0.9638,0.9666,0.9688]"
   ],
   "metadata": {
    "id": "owIsNTnF0NEG",
    "pycharm": {
     "name": "#%%\n"
    }
   },
   "execution_count": 52,
   "outputs": []
  },
  {
   "cell_type": "code",
   "source": [
    "#plot the graph\n",
    "x = list(range(1,21))\n",
    "train_acc\n",
    "plt.plot(x,train_acc)\n",
    "plt.xlabel('training epochs')\n",
    "plt.ylabel('training accuracy')\n",
    "plt.title('Training accuracy with number epochs')"
   ],
   "metadata": {
    "colab": {
     "base_uri": "https://localhost:8080/",
     "height": 313
    },
    "id": "6t0Ab2geJtYZ",
    "outputId": "f683326e-58c3-4e56-ca42-bee575933191",
    "pycharm": {
     "name": "#%%\n"
    }
   },
   "execution_count": 60,
   "outputs": [
    {
     "output_type": "execute_result",
     "data": {
      "text/plain": [
       "Text(0.5, 1.0, 'Training accuracy with number epochs')"
      ]
     },
     "metadata": {},
     "execution_count": 60
    },
    {
     "output_type": "display_data",
     "data": {
      "text/plain": [
       "<Figure size 432x288 with 1 Axes>"
      ],
      "image/png": "[encoded data removed]"
     },
     "metadata": {
      "needs_background": "light"
     }
    }
   ]
  }
 ]
}