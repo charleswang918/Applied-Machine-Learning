{
  "cells": [
    {
      "cell_type": "markdown",
      "metadata": {
        "id": "vd5BVB0ZExvE"
      },
      "source": [
        "COMP 551 MiniPeoject3"
      ]
    },
    {
      "cell_type": "code",
      "execution_count": null,
      "metadata": {
        "id": "JwqkfvLVJXLG"
      },
      "outputs": [],
      "source": [
        "import numpy as np\n",
        "import pandas as pd\n",
        "import matplotlib.pyplot as plt\n",
        "import seaborn as sns\n",
        "from random import random"
      ]
    },
    {
      "cell_type": "markdown",
      "metadata": {
        "id": "KN94-bxbE5T_"
      },
      "source": [
        "# Task1: Acquire the data"
      ]
    },
    {
      "cell_type": "code",
      "execution_count": null,
      "metadata": {
        "id": "f9zm1eCoxlr2",
        "colab": {
          "base_uri": "https://localhost:8080/"
        },
        "outputId": "8cb51261-c13e-4004-c0b6-609cc733010b"
      },
      "outputs": [
        {
          "output_type": "stream",
          "name": "stdout",
          "text": [
            "Downloading data from https://storage.googleapis.com/tensorflow/tf-keras-datasets/train-labels-idx1-ubyte.gz\n",
            "32768/29515 [=================================] - 0s 0us/step\n",
            "40960/29515 [=========================================] - 0s 0us/step\n",
            "Downloading data from https://storage.googleapis.com/tensorflow/tf-keras-datasets/train-images-idx3-ubyte.gz\n",
            "26427392/26421880 [==============================] - 0s 0us/step\n",
            "26435584/26421880 [==============================] - 0s 0us/step\n",
            "Downloading data from https://storage.googleapis.com/tensorflow/tf-keras-datasets/t10k-labels-idx1-ubyte.gz\n",
            "16384/5148 [===============================================================================================] - 0s 0us/step\n",
            "Downloading data from https://storage.googleapis.com/tensorflow/tf-keras-datasets/t10k-images-idx3-ubyte.gz\n",
            "4423680/4422102 [==============================] - 0s 0us/step\n",
            "4431872/4422102 [==============================] - 0s 0us/step\n",
            "The shape of the training iamges are: (60000, 28, 28)\n",
            "The shape of the training labels are: (60000,)\n"
          ]
        }
      ],
      "source": [
        "from keras.datasets import fashion_mnist\n",
        "from tensorflow.keras.utils import to_categorical\n",
        "(rawtrain_X, rawtrain_y), (rawtest_X, rawtest_y) = fashion_mnist.load_data()\n",
        "print(\"The shape of the training iamges are:\", rawtrain_X.shape)\n",
        "print(\"The shape of the training labels are:\", rawtrain_y.shape)"
      ]
    },
    {
      "cell_type": "code",
      "execution_count": null,
      "metadata": {
        "id": "VBRADJPhUjap",
        "colab": {
          "base_uri": "https://localhost:8080/"
        },
        "outputId": "f2bf1470-4e82-4336-9611-8b9490f132f7"
      },
      "outputs": [
        {
          "output_type": "stream",
          "name": "stdout",
          "text": [
            "The shape of the test images are: (10000, 28, 28)\n",
            "The shape of the test labels are: (10000,)\n"
          ]
        }
      ],
      "source": [
        "print(\"The shape of the test images are:\", rawtest_X.shape)\n",
        "print(\"The shape of the test labels are:\", rawtest_y.shape)"
      ]
    },
    {
      "cell_type": "code",
      "execution_count": null,
      "metadata": {
        "id": "Hg-vO6z7Ux0Q",
        "colab": {
          "base_uri": "https://localhost:8080/"
        },
        "outputId": "e43dc148-251f-407e-e683-88c56d6c60db"
      },
      "outputs": [
        {
          "output_type": "execute_result",
          "data": {
            "text/plain": [
              "array([0, 1, 2, 3, 4, 5, 6, 7, 8, 9], dtype=uint8)"
            ]
          },
          "metadata": {},
          "execution_count": 6
        }
      ],
      "source": [
        "np.unique(rawtrain_y) # the number of classes"
      ]
    },
    {
      "cell_type": "code",
      "execution_count": null,
      "metadata": {
        "id": "yTc8Nq1_U3ZK",
        "colab": {
          "base_uri": "https://localhost:8080/",
          "height": 282
        },
        "outputId": "1a7f624e-c393-4201-8475-039d0a40c687"
      },
      "outputs": [
        {
          "output_type": "execute_result",
          "data": {
            "text/plain": [
              "<matplotlib.colorbar.Colorbar at 0x7fb44128c250>"
            ]
          },
          "metadata": {},
          "execution_count": 7
        },
        {
          "output_type": "display_data",
          "data": {
            "text/plain": [
              "<Figure size 432x288 with 2 Axes>"
            ],
            "image/png": "[encoded data removed]"
          },
          "metadata": {
            "needs_background": "light"
          }
        }
      ],
      "source": [
        "plt.figure()\n",
        "plt.imshow(rawtrain_X[0], cmap='gray')\n",
        "plt.colorbar()"
      ]
    },
    {
      "cell_type": "code",
      "execution_count": null,
      "metadata": {
        "id": "Hr79Bfiaarfg"
      },
      "outputs": [],
      "source": [
        "train_X = rawtrain_X.reshape(rawtrain_X.shape[0], rawtrain_X.shape[1] * rawtrain_X.shape[2])\n",
        "test_X = rawtest_X.reshape(rawtest_X.shape[0], rawtest_X.shape[1] * rawtest_X.shape[2])"
      ]
    },
    {
      "cell_type": "code",
      "execution_count": null,
      "metadata": {
        "id": "Bp2969D7crTL"
      },
      "outputs": [],
      "source": [
        "train_y = to_categorical(rawtrain_y, num_classes=10)\n",
        "test_y = to_categorical(rawtest_y, num_classes=10)"
      ]
    },
    {
      "cell_type": "code",
      "execution_count": null,
      "metadata": {
        "id": "OIT-aQgCs9ny",
        "colab": {
          "base_uri": "https://localhost:8080/"
        },
        "outputId": "fd06b229-ced4-406b-a5a6-abe1b081fb2e"
      },
      "outputs": [
        {
          "output_type": "stream",
          "name": "stdout",
          "text": [
            "The shape of train_X: (60000, 784)\n",
            "The shape of train_y: (60000, 10)\n",
            "The shape of test_X: (10000, 784)\n",
            "The shape of test_y: (10000, 10)\n"
          ]
        }
      ],
      "source": [
        "print(\"The shape of train_X:\",train_X.shape)\n",
        "print(\"The shape of train_y:\", train_y.shape)\n",
        "print(\"The shape of test_X:\", test_X.shape)\n",
        "print(\"The shape of test_y:\", test_y.shape)"
      ]
    },
    {
      "cell_type": "code",
      "execution_count": null,
      "metadata": {
        "id": "aiBQGIAfHpyb"
      },
      "outputs": [],
      "source": [
        "train_X = train_X.T\n",
        "train_y = train_y.T\n",
        "test_X = test_X.T\n",
        "test_y = test_y.T"
      ]
    },
    {
      "cell_type": "markdown",
      "metadata": {
        "id": "16W9FeBeTaII"
      },
      "source": [
        "normalizing tarin and test data:"
      ]
    },
    {
      "cell_type": "code",
      "execution_count": null,
      "metadata": {
        "id": "Bjh5ZvzX7eyG"
      },
      "outputs": [],
      "source": [
        "norm_train_X = train_X / 255\n",
        "norm_test_X = test_X / 255"
      ]
    },
    {
      "cell_type": "code",
      "execution_count": null,
      "metadata": {
        "id": "PVhVa3ZD8k1I",
        "colab": {
          "base_uri": "https://localhost:8080/"
        },
        "outputId": "f1505b56-dbf7-4835-b710-3b1de0dcdda4"
      },
      "outputs": [
        {
          "output_type": "stream",
          "name": "stdout",
          "text": [
            "{0: 6000, 1: 6000, 2: 6000, 3: 6000, 4: 6000, 5: 6000, 6: 6000, 7: 6000, 8: 6000, 9: 6000}\n"
          ]
        }
      ],
      "source": [
        "train_label_count = {}\n",
        "for i in range(len(np.unique(rawtrain_y))):\n",
        "  train_label_count[i] = rawtrain_y.tolist().count(i)\n",
        "print(train_label_count)"
      ]
    },
    {
      "cell_type": "code",
      "execution_count": null,
      "metadata": {
        "id": "is1VM4A-9r3B",
        "colab": {
          "base_uri": "https://localhost:8080/"
        },
        "outputId": "7b033605-936c-4cb7-fb36-94883fdaff97"
      },
      "outputs": [
        {
          "output_type": "stream",
          "name": "stdout",
          "text": [
            "{0: 1000, 1: 1000, 2: 1000, 3: 1000, 4: 1000, 5: 1000, 6: 1000, 7: 1000, 8: 1000, 9: 1000}\n"
          ]
        }
      ],
      "source": [
        "test_label_count = {}\n",
        "for i in range(len(np.unique(rawtest_y))):\n",
        "  test_label_count[i] = rawtest_y.tolist().count(i)\n",
        "print(test_label_count)"
      ]
    },
    {
      "cell_type": "markdown",
      "metadata": {
        "id": "R6zsk_9CE_WB"
      },
      "source": [
        "# Task 2: Implement a Multilayer Perceptron"
      ]
    },
    {
      "cell_type": "code",
      "execution_count": null,
      "metadata": {
        "id": "c7kof9eGFO0R"
      },
      "outputs": [],
      "source": [
        "class MLP:\n",
        "  def __init__(self, num_inputs, num_hidden, num_outputs, act_fun, epochs, learning_rate, dropout_keeprate = 1.0):\n",
        "    self.num_inputs = num_inputs\n",
        "    self.num_hidden = num_hidden\n",
        "    self.num_outputs = num_outputs\n",
        "    self.act_fun = act_fun\n",
        "    self.epochs = epochs\n",
        "    self.learning_rate = learning_rate\n",
        "    self.dropout_keeprate = dropout_keeprate\n",
        "\n",
        "    self.num_hidden = [int(x * self.dropout_keeprate) for x in self.num_hidden]\n",
        "    layers = [self.num_inputs] + self.num_hidden + [self.num_outputs]\n",
        "    \n",
        "    layers = [i for i in layers if i!=0]\n",
        "    \n",
        "    self.num_layers = len(layers)\n",
        "  \n",
        "  def initialization(self):\n",
        "    np.random.seed(10)\n",
        "    parameters = {}\n",
        "    if (self.num_layers == 2):\n",
        "      w1 = np.random.randn(self.num_outputs, self.num_inputs) * 0.1\n",
        "      b1 = np.zeros((self.num_outputs, 1))\n",
        "      parameters['w1'] = w1\n",
        "      parameters['b1'] = b1\n",
        "    elif(self.num_layers == 3):\n",
        "      w1 = np.random.randn(self.num_hidden[0], self.num_inputs) * 0.1\n",
        "      b1 = np.zeros((self.num_hidden[0], 1))\n",
        "      w2 = np.random.randn(self.num_outputs, self.num_hidden[0]) * 0.1\n",
        "      b2 = np.zeros((self.num_outputs, 1))\n",
        "      parameters['w1'] = w1\n",
        "      parameters['b1'] = b1\n",
        "      parameters['w2'] = w2\n",
        "      parameters['b2'] = b2\n",
        "    elif(self.num_layers == 4):\n",
        "      w1 = np.random.randn(self.num_hidden[0], self.num_inputs) * 0.1\n",
        "      b1 = np.zeros((self.num_hidden[0], 1))\n",
        "      w2 = np.random.randn(self.num_hidden[1], self.num_hidden[0]) * 0.1\n",
        "      b2 = np.zeros((self.num_hidden[1], 1))\n",
        "      w3 = np.random.randn(self.num_outputs, self.num_hidden[1]) * 0.1\n",
        "      b3 = np.zeros((self.num_outputs, 1))\n",
        "      parameters['w1'] = w1\n",
        "      parameters['b1'] = b1\n",
        "      parameters['w2'] = w2\n",
        "      parameters['b2'] = b2\n",
        "      parameters['w3'] = w3\n",
        "      parameters['b3'] = b3\n",
        "    \n",
        "    return parameters\n",
        "            \n",
        "\n",
        "  def forward_prop(self, inputs, parameters):\n",
        "    outputs = {}\n",
        "    if (self.num_layers == 2):\n",
        "      w1 = parameters['w1']\n",
        "      b1 = parameters['b1']\n",
        "      z1 = np.dot(w1, inputs) + b1\n",
        "      a1 = self.softmax(z1)\n",
        "      outputs[\"z1\"] = z1\n",
        "      outputs[\"a1\"] = a1\n",
        "    elif (self.num_layers == 3):\n",
        "      w1 = parameters['w1']\n",
        "      b1 = parameters['b1']\n",
        "      w2 = parameters['w2']\n",
        "      b2 = parameters['b2']\n",
        "      z1 = np.dot(w1, inputs) + b1\n",
        "      if(self.act_fun.upper() == \"relu\".upper()):\n",
        "        a1 = self.relu(z1)\n",
        "      elif(self.act_fun.upper() == \"tanh\".upper()):\n",
        "        a1 = self.tanh(z1)\n",
        "      elif(self.act_fun.upper() == \"leakyrelu\".upper()):\n",
        "        a1 = self.leakyrelu(z1)\n",
        "      z2 = np.dot(w2, a1) + b2\n",
        "      a2 = self.softmax(z2)\n",
        "      outputs[\"z1\"] = z1\n",
        "      outputs[\"a1\"] = a1\n",
        "      outputs[\"z2\"] = z2\n",
        "      outputs[\"a2\"] = a2\n",
        "    elif(self.num_layers == 4):\n",
        "      w1 = parameters['w1']\n",
        "      b1 = parameters['b1']\n",
        "      w2 = parameters['w2']\n",
        "      b2 = parameters['b2']\n",
        "      w3 = parameters['w3']\n",
        "      b3 = parameters['b3']\n",
        "      z1 = np.dot(w1, inputs) + b1\n",
        "      if(self.act_fun.upper() == \"relu\".upper()):\n",
        "        a1 = self.relu(z1)\n",
        "      elif(self.act_fun.upper() == \"tanh\".upper()):\n",
        "        a1 = self.tanh(z1)\n",
        "      elif(self.act_fun.upper() == \"leakyrelu\".upper()):\n",
        "        a1 = self.leakyrelu(z1)\n",
        "      z2 = np.dot(w2, a1) + b2\n",
        "      if(self.act_fun.upper() == \"relu\".upper()):\n",
        "        a2 = self.relu(z2)\n",
        "      elif(self.act_fun.upper() == \"tanh\".upper()):\n",
        "        a2 = self.tanh(z2)\n",
        "      elif(self.act_fun.upper() == \"leakyrelu\".upper()):\n",
        "        a2 = self.leakyrelu(z2)\n",
        "      z3 = np.dot(w3, a2) + b3\n",
        "      a3 = self.softmax(z3)\n",
        "      outputs[\"z1\"] = z1\n",
        "      outputs[\"a1\"] = a1\n",
        "      outputs[\"z2\"] = z2\n",
        "      outputs[\"a2\"] = a2\n",
        "      outputs[\"z3\"] = z3\n",
        "      outputs[\"a3\"] = a3\n",
        "    return outputs\n",
        "  \n",
        "  def backward_prop(self, inputs, targets, parameters, outputs):\n",
        "    gradients = {}\n",
        "    m = self.num_inputs\n",
        "    if (self.num_layers == 2):\n",
        "      w1 = parameters[\"w1\"]\n",
        "      b1 = parameters[\"b1\"]\n",
        "      a1 = outputs[\"a1\"]\n",
        "      dz1 = (a1-targets)\n",
        "      dw1 = (1/m) * np.dot(dz1, inputs.T)\n",
        "      db1 = (1/m) * np.sum(dz1, axis = 1, keepdims=True)\n",
        "      gradients[\"dw1\"] = dw1\n",
        "      gradients[\"db1\"] = db1\n",
        "    elif (self.num_layers == 3):\n",
        "      w1 = parameters[\"w1\"]\n",
        "      b1 = parameters[\"b1\"]\n",
        "      w2 = parameters[\"w2\"]\n",
        "      b2 = parameters[\"b2\"]\n",
        "      a1 = outputs[\"a1\"]\n",
        "      a2 = outputs[\"a2\"]\n",
        "      dz2 = (a2 - targets)\n",
        "      dw2 = (1/m) * np.dot(dz2, a1.T) \n",
        "      db2 = (1/m) * np.sum(dz2, axis = 1, keepdims = True)\n",
        "      if(self.act_fun.upper() == \"relu\".upper()):\n",
        "        dz1 = (1/m) * np.dot(w2.T, dz2) * self.derivative_relu(a1)\n",
        "      elif(self.act_fun.upper() == \"tanh\".upper()):\n",
        "        dz1 = (1/m) * np.dot(w2.T, dz2) * self.derivative_tanh(a1)\n",
        "      elif(self.act_fun.upper() == \"leakyrelu\".upper()):\n",
        "        dz1 = (1/m) * np.dot(w2.T, dz2) * self.derivative_leakyrelu(a1)\n",
        "      dw1 = (1/m) * np.dot(dz1, inputs.T)\n",
        "      db1 = (1/m) * np.sum(dz1, axis = 1, keepdims = True)\n",
        "      gradients[\"dw1\"] = dw1\n",
        "      gradients[\"db1\"] = db1\n",
        "      gradients[\"dw2\"] = dw2\n",
        "      gradients[\"db2\"] = db2\n",
        "    elif (self.num_layers == 4):\n",
        "      w1 = parameters[\"w1\"]\n",
        "      b1 = parameters[\"b1\"]\n",
        "      w2 = parameters[\"w2\"]\n",
        "      b2 = parameters[\"b2\"]\n",
        "      w3 = parameters[\"w3\"]\n",
        "      b3 = parameters[\"b3\"]\n",
        "      a1 = outputs[\"a1\"]\n",
        "      a2 = outputs[\"a2\"]\n",
        "      a3 = outputs[\"a3\"]\n",
        "      dz3 = (a3 - targets)\n",
        "      dw3 = (1/m) * np.dot(dz3, a2.T)\n",
        "      db3 = (1/m) * np.sum(dz3, axis = 1, keepdims = True)\n",
        "      if(self.act_fun.upper() == \"relu\".upper()):\n",
        "        dz2 = (1/m) * np.dot(w3.T, dz3) * self.derivative_relu(a2)\n",
        "      elif(self.act_fun.upper() == \"tanh\".upper()):\n",
        "        dz2 = (1/m) * np.dot(w3.T, dz3) * self.derivative_tanh(a2)\n",
        "      elif(self.act_fun.upper() == \"leakyrelu\".upper()):\n",
        "        dz2 = (1/m) * np.dot(w3.T, dz3) * self.derivative_leakyrelu(a2)\n",
        "      dw2 = (1/m) * np.dot(dz2, a1.T)\n",
        "      db2 = (1/m) * np.sum(dz2, axis = 1, keepdims = True)\n",
        "      if(self.act_fun.upper() == \"relu\".upper()):\n",
        "        dz1 = (1/m) * np.dot(w2.T, dz2) * self.derivative_relu(a1)\n",
        "      elif(self.act_fun.upper() == \"tanh\".upper()):\n",
        "        dz1 = (1/m) * np.dot(w2.T, dz2) * self.derivative_tanh(a1)\n",
        "      elif(self.act_fun.upper() == \"leakyrelu\".upper()):\n",
        "        dz1 = (1/m) * np.dot(w2.T, dz2) * self.derivative_leakyrelu(a1)\n",
        "      dw1 = (1/m) * np.dot(dz1, inputs.T)\n",
        "      db1 = (1/m) * np.sum(dz1, axis = 1, keepdims = True)\n",
        "      gradients[\"dw1\"] = dw1\n",
        "      gradients[\"db1\"] = db1\n",
        "      gradients[\"dw2\"] = dw2\n",
        "      gradients[\"db2\"] = db2\n",
        "      gradients[\"dw3\"] = dw3\n",
        "      gradients[\"db3\"] = db3\n",
        "    return gradients\n",
        "\n",
        "  def gradient_descent(self, parameters, gradients):\n",
        "    update_parameters = {}\n",
        "    if (self.num_layers == 2):\n",
        "      w1 = parameters[\"w1\"]\n",
        "      b1 = parameters[\"b1\"]\n",
        "      dw1 = gradients[\"dw1\"]\n",
        "      db1 = gradients[\"db1\"]\n",
        "      w1 -= self.learning_rate * dw1\n",
        "      b1 -= self.learning_rate * db1\n",
        "      update_parameters[\"w1\"] = w1\n",
        "      update_parameters[\"b1\"] = b1\n",
        "    elif (self.num_layers == 3):\n",
        "      w1 = parameters[\"w1\"]\n",
        "      b1 = parameters[\"b1\"]\n",
        "      w2 = parameters[\"w2\"]\n",
        "      b2 = parameters[\"b2\"]\n",
        "      dw1 = gradients[\"dw1\"]\n",
        "      db1 = gradients[\"db1\"]\n",
        "      dw2 = gradients[\"dw2\"]\n",
        "      db2 = gradients[\"db2\"]\n",
        "      w1 -= self.learning_rate * dw1\n",
        "      b1 -= self.learning_rate * db1\n",
        "      w2 -= self.learning_rate * dw2\n",
        "      b2 -= self.learning_rate * db2\n",
        "      update_parameters[\"w1\"] = w1\n",
        "      update_parameters[\"b1\"] = b1\n",
        "      update_parameters[\"w2\"] = w2\n",
        "      update_parameters[\"b2\"] = b2\n",
        "    elif (self.num_layers == 4):\n",
        "      w1 = parameters[\"w1\"]\n",
        "      b1 = parameters[\"b1\"]\n",
        "      w2 = parameters[\"w2\"]\n",
        "      b2 = parameters[\"b2\"]\n",
        "      w3 = parameters[\"w3\"]\n",
        "      b3 = parameters[\"b3\"]\n",
        "      dw1 = gradients[\"dw1\"]\n",
        "      db1 = gradients[\"db1\"]\n",
        "      dw2 = gradients[\"dw2\"]\n",
        "      db2 = gradients[\"db2\"]\n",
        "      dw3 = gradients[\"dw3\"]\n",
        "      db3 = gradients[\"db3\"]\n",
        "      w1 -= self.learning_rate * dw1\n",
        "      b1 -= self.learning_rate * db1\n",
        "      w2 -= self.learning_rate * dw2\n",
        "      b2 -= self.learning_rate * db2\n",
        "      w3 -= self.learning_rate * dw3\n",
        "      b3 -= self.learning_rate * db3\n",
        "      update_parameters[\"w1\"] = w1\n",
        "      update_parameters[\"b1\"] = b1\n",
        "      update_parameters[\"w2\"] = w2\n",
        "      update_parameters[\"b2\"] = b2\n",
        "      update_parameters[\"w3\"] = w3\n",
        "      update_parameters[\"b3\"] = b3\n",
        "    return update_parameters\n",
        "\n",
        "  def fit(self, inputs, targets):\n",
        "    cost_list=[]\n",
        "    parameters = self.initialization()\n",
        "    for i in range(self.epochs):\n",
        "      outputs = self.forward_prop(inputs, parameters)\n",
        "      if (self.num_layers == 2):\n",
        "        cost = self.cost(outputs['a1'], targets)\n",
        "      elif (self.num_layers == 3):\n",
        "        cost = self.cost(outputs['a2'], targets)\n",
        "      elif (self.num_layers == 4):\n",
        "        cost = self.cost(outputs['a3'], targets)\n",
        "      gradients = self.backward_prop(inputs, targets, parameters, outputs)\n",
        "      parameters = self.gradient_descent(parameters, gradients)\n",
        "      cost_list.append(cost)\n",
        "      if (i % (self.epochs/10) == 0):\n",
        "        print(\"Cost after\", i, \"iteration is:\", cost)\n",
        "      \n",
        "    return parameters, cost_list\n",
        "  \n",
        "  def predict(self, inputs, parameters):\n",
        "    outputs = self.forward_prop(inputs, parameters)\n",
        "    if (self.num_layers == 2):\n",
        "      a_out = outputs['a1']\n",
        "    elif (self.num_layers == 3):\n",
        "      a_out = outputs['a2']\n",
        "    elif (self.num_layers == 4):\n",
        "      a_out = outputs['a3']\n",
        "    a_out = np.argmax(a_out, 0)\n",
        "    return a_out \n",
        "  \n",
        "  def evaluate_acc(self, parameters, inputs, labels):\n",
        "    a_out = self.predict(inputs, parameters)\n",
        "    labels = np.argmax(labels, 0)\n",
        "    acc = np.mean(a_out == labels) * 100\n",
        "    return acc\n",
        "\n",
        "  def cost(self, output, target):\n",
        "    m = self.num_outputs\n",
        "    cost = -(1/m)*np.sum(target*np.log(output))\n",
        "    return cost\n",
        "\n",
        "  def relu(self, x):\n",
        "    return np.maximum(x,0)\n",
        "  \n",
        "  def softmax(self, x):\n",
        "    exp_x = np.exp(x)\n",
        "    return exp_x / np.sum(exp_x, axis=0)\n",
        "  \n",
        "  def tanh(self, x):\n",
        "    return np.tanh(x)\n",
        "\n",
        "  def leakyrelu(self, x, alpha=0.01):\n",
        "    return np.maximum(x,0) + alpha * np.minimum(x,0)\n",
        "\n",
        "  def derivative_tanh(self,x):\n",
        "    return (1-np.power(np.tanh(x), 2))\n",
        "\n",
        "  def derivative_relu(self, x):\n",
        "    return np.array(x > 0, dtype=float)\n",
        "\n",
        "  def derivative_leakyrelu(self, x, alpha=0.01):\n",
        "    return np.clip(x > 0 , alpha, 1.0)\n",
        "\n"
      ]
    },
    {
      "cell_type": "markdown",
      "metadata": {
        "id": "WzrgV_ZtFHUX"
      },
      "source": [
        "# Task 3: Run the experiments"
      ]
    },
    {
      "cell_type": "code",
      "execution_count": null,
      "metadata": {
        "id": "YO4WKbYCFWLO"
      },
      "outputs": [],
      "source": [
        "from sklearn.model_selection import GridSearchCV\n"
      ]
    },
    {
      "cell_type": "markdown",
      "metadata": {
        "id": "uNP54lQwD_y7"
      },
      "source": [
        "Q1-(1): an MLP with no hidden layers"
      ]
    },
    {
      "cell_type": "code",
      "execution_count": null,
      "metadata": {
        "id": "OOUW45KUD-0Y",
        "colab": {
          "base_uri": "https://localhost:8080/"
        },
        "outputId": "3a9ac95e-752e-4e17-e0ea-9ffa13063665"
      },
      "outputs": [
        {
          "output_type": "stream",
          "name": "stdout",
          "text": [
            "Cost after 0 iteration is: 17047.440103026867\n"
          ]
        },
        {
          "output_type": "stream",
          "name": "stderr",
          "text": [
            "/usr/local/lib/python3.7/dist-packages/ipykernel_launcher.py:274: RuntimeWarning: divide by zero encountered in log\n",
            "/usr/local/lib/python3.7/dist-packages/ipykernel_launcher.py:274: RuntimeWarning: invalid value encountered in multiply\n"
          ]
        },
        {
          "output_type": "stream",
          "name": "stdout",
          "text": [
            "Cost after 10 iteration is: nan\n",
            "Cost after 20 iteration is: 188241.8296528203\n",
            "Cost after 30 iteration is: 100310.00986761568\n",
            "Cost after 40 iteration is: 286735.632045194\n",
            "Cost after 50 iteration is: 246782.5347581564\n",
            "Cost after 60 iteration is: 156665.86681572278\n",
            "Cost after 70 iteration is: 133311.65226884512\n",
            "Cost after 80 iteration is: 303210.4169383803\n",
            "Cost after 90 iteration is: 115528.89983982989\n",
            "The train accruacy is 67.59833333333334\n",
            "The test accuracy is 66.45\n"
          ]
        }
      ],
      "source": [
        "mlp = MLP(784, [0], 10, act_fun='relu', epochs=100, learning_rate=0.1)\n",
        "parameters, cost_list = mlp.fit(norm_train_X, train_y)\n",
        "print(\"The train accruacy is\", mlp.evaluate_acc(parameters, norm_train_X, train_y))\n",
        "print(\"The test accuracy is\", mlp.evaluate_acc(parameters, norm_test_X, test_y))"
      ]
    },
    {
      "cell_type": "markdown",
      "metadata": {
        "id": "DlqsIWBFE4Vd"
      },
      "source": [
        "Q1-(2): an MLP with a single hidden layer having 128 units and ReLU activations"
      ]
    },
    {
      "cell_type": "code",
      "execution_count": null,
      "metadata": {
        "id": "ljIc4ijtE0wZ",
        "colab": {
          "base_uri": "https://localhost:8080/"
        },
        "outputId": "49826349-8b3c-420a-db94-c93bef5e5a2d"
      },
      "outputs": [
        {
          "output_type": "stream",
          "name": "stdout",
          "text": [
            "Cost after 0 iteration is: 15977.29734054028\n",
            "Cost after 10 iteration is: 5919.948413031368\n",
            "Cost after 20 iteration is: 4785.156081126072\n",
            "Cost after 30 iteration is: 4342.797552251962\n",
            "Cost after 40 iteration is: 4574.337841087333\n",
            "Cost after 50 iteration is: 4163.303187265375\n",
            "Cost after 60 iteration is: 4010.011077329607\n",
            "Cost after 70 iteration is: 3895.981750864858\n",
            "Cost after 80 iteration is: 3800.401777811623\n",
            "Cost after 90 iteration is: 3719.982580892367\n",
            "The train accruacy is 77.98\n",
            "The test accuracy is 76.86\n"
          ]
        }
      ],
      "source": [
        "mlp = MLP(784, [128], 10, act_fun='relu', epochs=100, learning_rate=0.1)\n",
        "parameters, cost_list = mlp.fit(norm_train_X, train_y)\n",
        "print(\"The train accruacy is\", mlp.evaluate_acc(parameters, norm_train_X, train_y))\n",
        "print(\"The test accuracy is\", mlp.evaluate_acc(parameters, norm_test_X, test_y))"
      ]
    },
    {
      "cell_type": "markdown",
      "metadata": {
        "id": "wy6H9SY0FdkE"
      },
      "source": [
        "Q1-(3): an MLP with 2 hidden layers each having 128 units with ReLU activations"
      ]
    },
    {
      "cell_type": "code",
      "execution_count": null,
      "metadata": {
        "id": "fZLkuTmOFmMx",
        "colab": {
          "base_uri": "https://localhost:8080/"
        },
        "outputId": "b13259f2-572c-4528-ebf2-f7c9a58320a4"
      },
      "outputs": [
        {
          "output_type": "stream",
          "name": "stdout",
          "text": [
            "Cost after 0 iteration is: 14630.37274952446\n",
            "Cost after 10 iteration is: 6028.304099364451\n",
            "Cost after 20 iteration is: 4992.121455232766\n",
            "Cost after 30 iteration is: 4602.343974118573\n",
            "Cost after 40 iteration is: 4372.863552354705\n",
            "Cost after 50 iteration is: 4213.831725076664\n",
            "Cost after 60 iteration is: 4094.9614059254295\n",
            "Cost after 70 iteration is: 4349.516848013037\n",
            "Cost after 80 iteration is: 4159.815800177595\n",
            "Cost after 90 iteration is: 4035.187968542564\n",
            "The train accruacy is 76.28666666666668\n",
            "The test accuracy is 75.2\n"
          ]
        }
      ],
      "source": [
        "mlp = MLP(784, [128, 128], 10, act_fun='relu', epochs=100, learning_rate=0.1)\n",
        "parameters, cost_list = mlp.fit(norm_train_X, train_y)\n",
        "print(\"The train accruacy is\", mlp.evaluate_acc(parameters, norm_train_X, train_y))\n",
        "print(\"The test accuracy is\", mlp.evaluate_acc(parameters, norm_test_X, test_y))"
      ]
    },
    {
      "cell_type": "markdown",
      "metadata": {
        "id": "sLbDcuKEKkSo"
      },
      "source": [
        "Q2: an MLP with 2 hidden layers each having 128 units with tanh activations"
      ]
    },
    {
      "cell_type": "code",
      "execution_count": null,
      "metadata": {
        "id": "E646AP6NK0f3",
        "colab": {
          "base_uri": "https://localhost:8080/"
        },
        "outputId": "612cd739-5ab4-45eb-b556-2e8e200ac7f6"
      },
      "outputs": [
        {
          "output_type": "stream",
          "name": "stdout",
          "text": [
            "Cost after 0 iteration is: 14353.550037695191\n",
            "Cost after 10 iteration is: 11109.443590782143\n",
            "Cost after 20 iteration is: 5723.024412320851\n",
            "Cost after 30 iteration is: 4932.549840669002\n",
            "Cost after 40 iteration is: 4416.028456472478\n",
            "Cost after 50 iteration is: 4116.3706222862675\n",
            "Cost after 60 iteration is: 3917.9299924054694\n",
            "Cost after 70 iteration is: 3773.5042745965497\n",
            "Cost after 80 iteration is: 3664.1160521074994\n",
            "Cost after 90 iteration is: 3577.184971337161\n",
            "The train accruacy is 78.89333333333333\n",
            "The test accuracy is 77.7\n"
          ]
        }
      ],
      "source": [
        "mlp = MLP(784, [128, 128], 10, act_fun='tanh', epochs=100, learning_rate=0.1)\n",
        "parameters, cost_list = mlp.fit(norm_train_X, train_y)\n",
        "print(\"The train accruacy is\", mlp.evaluate_acc(parameters, norm_train_X, train_y))\n",
        "print(\"The test accuracy is\", mlp.evaluate_acc(parameters, norm_test_X, test_y))"
      ]
    },
    {
      "cell_type": "markdown",
      "metadata": {
        "id": "YgKKo0H1K3gF"
      },
      "source": [
        "Q2: an MLP with 2 hidden layers each having 128 units with Leaky-ReLU activations"
      ]
    },
    {
      "cell_type": "code",
      "execution_count": null,
      "metadata": {
        "id": "2dp7aBA3K9KU",
        "colab": {
          "base_uri": "https://localhost:8080/"
        },
        "outputId": "24bab4b5-421a-492e-d5c9-64d0247a5892"
      },
      "outputs": [
        {
          "output_type": "stream",
          "name": "stdout",
          "text": [
            "Cost after 0 iteration is: 14620.088351232711\n",
            "Cost after 10 iteration is: 5970.949852522295\n",
            "Cost after 20 iteration is: 4960.75837510531\n",
            "Cost after 30 iteration is: 4573.785213115373\n",
            "Cost after 40 iteration is: 4346.329493571487\n",
            "Cost after 50 iteration is: 4188.65572047622\n",
            "Cost after 60 iteration is: 4070.4181066007495\n",
            "Cost after 70 iteration is: 3980.487938014052\n",
            "Cost after 80 iteration is: 4288.351126235781\n",
            "Cost after 90 iteration is: 4006.0011081869884\n",
            "The train accruacy is 77.40666666666667\n",
            "The test accuracy is 76.73\n"
          ]
        }
      ],
      "source": [
        "mlp = MLP(784, [128, 128], 10, act_fun='leakyrelu', epochs=100, learning_rate=0.1)\n",
        "parameters, cost_list = mlp.fit(norm_train_X, train_y)\n",
        "print(\"The train accruacy is\", mlp.evaluate_acc(parameters, norm_train_X, train_y))\n",
        "print(\"The test accuracy is\", mlp.evaluate_acc(parameters, norm_test_X, test_y))"
      ]
    },
    {
      "cell_type": "markdown",
      "metadata": {
        "id": "hXk574RuL4uX"
      },
      "source": [
        "Q3: an MLP with 2 hidden layers each having 128 units with ReLU activations, adding dropout regularization."
      ]
    },
    {
      "cell_type": "code",
      "execution_count": null,
      "metadata": {
        "id": "vaOAVhZ_txd0",
        "colab": {
          "base_uri": "https://localhost:8080/"
        },
        "outputId": "b481e7c6-05b2-4ae8-e066-5de695f55657"
      },
      "outputs": [
        {
          "output_type": "stream",
          "name": "stdout",
          "text": [
            "Cost after 0 iteration is: 15185.964458294842\n",
            "Cost after 10 iteration is: 6779.317838032844\n",
            "Cost after 20 iteration is: 5573.694359930276\n",
            "Cost after 30 iteration is: 5080.048635702795\n",
            "Cost after 40 iteration is: 4781.712174491879\n",
            "Cost after 50 iteration is: 4574.733409434987\n",
            "Cost after 60 iteration is: 4851.668094296523\n",
            "Cost after 70 iteration is: 4780.974874294385\n",
            "Cost after 80 iteration is: 4560.657251682659\n",
            "Cost after 90 iteration is: 4448.87406697282\n",
            "The train accruacy is 73.9\n",
            "The test accuracy is 73.03\n"
          ]
        }
      ],
      "source": [
        "mlp = MLP(784, [128, 128], 10, act_fun='relu', epochs=100, learning_rate=0.1, dropout_keeprate=0.9)\n",
        "parameters, cost_list = mlp.fit(norm_train_X, train_y)\n",
        "print(\"The train accruacy is\", mlp.evaluate_acc(parameters, norm_train_X, train_y))\n",
        "print(\"The test accuracy is\", mlp.evaluate_acc(parameters, norm_test_X, test_y))"
      ]
    },
    {
      "cell_type": "code",
      "execution_count": null,
      "metadata": {
        "id": "bBABI-hbuiIe",
        "colab": {
          "base_uri": "https://localhost:8080/"
        },
        "outputId": "db0636f1-998d-437a-cfe3-b731e891b127"
      },
      "outputs": [
        {
          "output_type": "stream",
          "name": "stdout",
          "text": [
            "Cost after 0 iteration is: 14680.58361517955\n",
            "Cost after 10 iteration is: 8568.694175673189\n",
            "Cost after 20 iteration is: 6121.953754301621\n",
            "Cost after 30 iteration is: 5416.920086198611\n",
            "Cost after 40 iteration is: 5037.7433474172185\n",
            "Cost after 50 iteration is: 4790.724628147053\n",
            "Cost after 60 iteration is: 4618.696758263225\n",
            "Cost after 70 iteration is: 4492.428458563437\n",
            "Cost after 80 iteration is: 4929.3994844536255\n",
            "Cost after 90 iteration is: 4599.524359086954\n",
            "The train accruacy is 72.67833333333333\n",
            "The test accuracy is 71.67\n"
          ]
        }
      ],
      "source": [
        "mlp = MLP(784, [128, 128], 10, act_fun='relu', epochs=100, learning_rate=0.1, dropout_keeprate=0.8)\n",
        "parameters, cost_list = mlp.fit(norm_train_X, train_y)\n",
        "print(\"The train accruacy is\", mlp.evaluate_acc(parameters, norm_train_X, train_y))\n",
        "print(\"The test accuracy is\", mlp.evaluate_acc(parameters, norm_test_X, test_y))"
      ]
    },
    {
      "cell_type": "code",
      "execution_count": null,
      "metadata": {
        "id": "cPdg6w44ukdF",
        "colab": {
          "base_uri": "https://localhost:8080/"
        },
        "outputId": "fb0af7b7-9a81-436f-e36d-71030871f1a2"
      },
      "outputs": [
        {
          "output_type": "stream",
          "name": "stdout",
          "text": [
            "Cost after 0 iteration is: 15066.819499193785\n",
            "Cost after 10 iteration is: 6271.099601474017\n",
            "Cost after 20 iteration is: 5259.059973932678\n",
            "Cost after 30 iteration is: 4846.349183401406\n",
            "Cost after 40 iteration is: 5405.683089618898\n",
            "Cost after 50 iteration is: 4989.588669436147\n",
            "Cost after 60 iteration is: 4788.108201668495\n",
            "Cost after 70 iteration is: 4668.563792385918\n",
            "Cost after 80 iteration is: 4579.068279082884\n",
            "Cost after 90 iteration is: 4503.667603398374\n",
            "The train accruacy is 73.02499999999999\n",
            "The test accuracy is 72.1\n"
          ]
        }
      ],
      "source": [
        "mlp = MLP(784, [128, 128], 10, act_fun='relu', epochs=100, learning_rate=0.1, dropout_keeprate=0.7)\n",
        "parameters, cost_list = mlp.fit(norm_train_X, train_y)\n",
        "print(\"The train accruacy is\", mlp.evaluate_acc(parameters, norm_train_X, train_y))\n",
        "print(\"The test accuracy is\", mlp.evaluate_acc(parameters, norm_test_X, test_y))"
      ]
    },
    {
      "cell_type": "code",
      "execution_count": null,
      "metadata": {
        "id": "S-_Gy-9xvj6L",
        "colab": {
          "base_uri": "https://localhost:8080/"
        },
        "outputId": "392375cd-d3c1-422e-86ba-384189a64836"
      },
      "outputs": [
        {
          "output_type": "stream",
          "name": "stdout",
          "text": [
            "Cost after 0 iteration is: 15073.612564188472\n",
            "Cost after 10 iteration is: 7192.134124206228\n",
            "Cost after 20 iteration is: 5804.017670666799\n",
            "Cost after 30 iteration is: 5226.933588660878\n",
            "Cost after 40 iteration is: 4896.726726998396\n",
            "Cost after 50 iteration is: 4681.85760098107\n",
            "Cost after 60 iteration is: 4971.839997283736\n",
            "Cost after 70 iteration is: 5072.686829577884\n",
            "Cost after 80 iteration is: 4750.124309908763\n",
            "Cost after 90 iteration is: 4600.400683416493\n",
            "The train accruacy is 72.40833333333333\n",
            "The test accuracy is 72.16\n"
          ]
        }
      ],
      "source": [
        "mlp = MLP(784, [128, 128], 10, act_fun='relu', epochs=100, learning_rate=0.1, dropout_keeprate=0.6)\n",
        "parameters, cost_list = mlp.fit(norm_train_X, train_y)\n",
        "print(\"The train accruacy is\", mlp.evaluate_acc(parameters, norm_train_X, train_y))\n",
        "print(\"The test accuracy is\", mlp.evaluate_acc(parameters, norm_test_X, test_y))"
      ]
    },
    {
      "cell_type": "code",
      "execution_count": null,
      "metadata": {
        "id": "B4ZVJ96Wvm3p",
        "colab": {
          "base_uri": "https://localhost:8080/"
        },
        "outputId": "66ea906c-db75-4d54-8537-a35a83ffe234"
      },
      "outputs": [
        {
          "output_type": "stream",
          "name": "stdout",
          "text": [
            "Cost after 0 iteration is: 14342.886218581314\n",
            "Cost after 10 iteration is: 7488.519266418666\n",
            "Cost after 20 iteration is: 6290.525165931461\n",
            "Cost after 30 iteration is: 5834.875248407675\n",
            "Cost after 40 iteration is: 5521.8084753476405\n",
            "Cost after 50 iteration is: 5308.938715578817\n",
            "Cost after 60 iteration is: 5152.672550542195\n",
            "Cost after 70 iteration is: 5033.99109592843\n",
            "Cost after 80 iteration is: 4937.438681172241\n",
            "Cost after 90 iteration is: 4855.53059614474\n",
            "The train accruacy is 71.055\n",
            "The test accuracy is 70.73\n"
          ]
        }
      ],
      "source": [
        "mlp = MLP(784, [128, 128], 10, act_fun='relu', epochs=100, learning_rate=0.1, dropout_keeprate=0.5)\n",
        "parameters, cost_list = mlp.fit(norm_train_X, train_y)\n",
        "print(\"The train accruacy is\", mlp.evaluate_acc(parameters, norm_train_X, train_y))\n",
        "print(\"The test accuracy is\", mlp.evaluate_acc(parameters, norm_test_X, test_y))"
      ]
    },
    {
      "cell_type": "markdown",
      "metadata": {
        "id": "R6FyH7V5NoGC"
      },
      "source": [
        "Q4: an MLP with 2 hidden layers each having 128 units with ReLU activations, using unnormalized images"
      ]
    },
    {
      "cell_type": "code",
      "execution_count": null,
      "metadata": {
        "id": "FRK2F9KjN76a",
        "colab": {
          "base_uri": "https://localhost:8080/"
        },
        "outputId": "5a9d50e7-b69b-4693-cbcc-4bdff8b6cf32"
      },
      "outputs": [
        {
          "output_type": "stream",
          "name": "stdout",
          "text": [
            "Cost after 0 iteration is: 14630.37274952446\n",
            "Cost after 10 iteration is: 6028.304099364451\n",
            "Cost after 20 iteration is: 4992.121455232766\n",
            "Cost after 30 iteration is: 4602.343974118573\n",
            "Cost after 40 iteration is: 4372.863552354705\n",
            "Cost after 50 iteration is: 4213.831725076664\n",
            "Cost after 60 iteration is: 4094.9614059254295\n",
            "Cost after 70 iteration is: 4349.516848013037\n",
            "Cost after 80 iteration is: 4159.815800177595\n",
            "Cost after 90 iteration is: 4035.187968542564\n",
            "The train accruacy is 52.129999999999995\n",
            "The test accuracy is 51.41\n"
          ]
        },
        {
          "output_type": "stream",
          "name": "stderr",
          "text": [
            "/usr/local/lib/python3.7/dist-packages/ipykernel_launcher.py:281: RuntimeWarning: overflow encountered in exp\n",
            "/usr/local/lib/python3.7/dist-packages/ipykernel_launcher.py:282: RuntimeWarning: invalid value encountered in true_divide\n"
          ]
        }
      ],
      "source": [
        "mlp = MLP(784, [128, 128], 10, act_fun='relu', epochs=100, learning_rate=0.1)\n",
        "parameters, cost_list = mlp.fit(norm_train_X, train_y)\n",
        "print(\"The train accruacy is\", mlp.evaluate_acc(parameters, train_X, train_y))\n",
        "print(\"The test accuracy is\", mlp.evaluate_acc(parameters, test_X, test_y))"
      ]
    },
    {
      "cell_type": "markdown",
      "metadata": {
        "id": "tBpFcrhjSsLI"
      },
      "source": [
        "Q6: the best MLP model(changing learning rate and increasing iterations)"
      ]
    },
    {
      "cell_type": "markdown",
      "source": [
        "MLP with two hidden layers"
      ],
      "metadata": {
        "id": "plvaxKndG9cm"
      }
    },
    {
      "cell_type": "code",
      "source": [
        "mlp = MLP(784, [128, 128], 10, act_fun='tanh', epochs=100, learning_rate=0.16)\n",
        "parameters, cost_list_2016 = mlp.fit(norm_train_X, train_y)\n",
        "print(\"The train accruacy is\", mlp.evaluate_acc(parameters, norm_train_X, train_y))\n",
        "print(\"The test accuracy is\", mlp.evaluate_acc(parameters, norm_test_X, test_y))"
      ],
      "metadata": {
        "colab": {
          "base_uri": "https://localhost:8080/"
        },
        "id": "ntovFfEGPV7Y",
        "outputId": "2e6d3bec-d912-40a0-f943-a2d2c2b74ff9"
      },
      "execution_count": null,
      "outputs": [
        {
          "output_type": "stream",
          "name": "stdout",
          "text": [
            "Cost after 0 iteration is: 14353.550037695191\n",
            "Cost after 10 iteration is: 267067.2594783816\n",
            "Cost after 20 iteration is: 58015.72060149343\n",
            "Cost after 30 iteration is: 18729.759358007617\n",
            "Cost after 40 iteration is: 13105.280344241291\n",
            "Cost after 50 iteration is: 10492.480633831105\n",
            "Cost after 60 iteration is: 6508.146453197303\n",
            "Cost after 70 iteration is: 7262.644875240549\n",
            "Cost after 80 iteration is: 8291.118274225852\n",
            "Cost after 90 iteration is: 7877.581589999526\n",
            "The train accruacy is 74.64833333333334\n",
            "The test accuracy is 73.7\n"
          ]
        }
      ]
    },
    {
      "cell_type": "code",
      "execution_count": null,
      "metadata": {
        "id": "IQR2zSEPSpFL",
        "colab": {
          "base_uri": "https://localhost:8080/"
        },
        "outputId": "a598eebc-5479-4d2c-ad49-1ad5c3ab6d95"
      },
      "outputs": [
        {
          "output_type": "stream",
          "name": "stdout",
          "text": [
            "Cost after 0 iteration is: 14353.550037695191\n",
            "Cost after 10 iteration is: 33989.80883076697\n",
            "Cost after 20 iteration is: 10036.381875588979\n",
            "Cost after 30 iteration is: 7047.152154043998\n",
            "Cost after 40 iteration is: 5793.826554019312\n",
            "Cost after 50 iteration is: 5169.517589035762\n",
            "Cost after 60 iteration is: 5038.6385958010105\n",
            "Cost after 70 iteration is: 4235.96836886712\n",
            "Cost after 80 iteration is: 4778.5143476225785\n",
            "Cost after 90 iteration is: 4168.455305985782\n",
            "The train accruacy is 76.37333333333333\n",
            "The test accuracy is 75.03\n"
          ]
        }
      ],
      "source": [
        "mlp = MLP(784, [128, 128], 10, act_fun='tanh', epochs=100, learning_rate=0.15)\n",
        "parameters, cost_list_2015 = mlp.fit(norm_train_X, train_y)\n",
        "print(\"The train accruacy is\", mlp.evaluate_acc(parameters, norm_train_X, train_y))\n",
        "print(\"The test accuracy is\", mlp.evaluate_acc(parameters, norm_test_X, test_y))"
      ]
    },
    {
      "cell_type": "code",
      "execution_count": null,
      "metadata": {
        "id": "RrrGGShCw_qL",
        "colab": {
          "base_uri": "https://localhost:8080/"
        },
        "outputId": "e50ab8e5-b58b-4cf2-dd95-764e71730d50"
      },
      "outputs": [
        {
          "output_type": "stream",
          "name": "stdout",
          "text": [
            "Cost after 0 iteration is: 14353.550037695191\n",
            "Cost after 10 iteration is: 73023.45441955094\n",
            "Cost after 20 iteration is: 8427.700070169745\n",
            "Cost after 30 iteration is: 5825.274381999134\n",
            "Cost after 40 iteration is: 4932.772754093095\n",
            "Cost after 50 iteration is: 6022.797252128814\n",
            "Cost after 60 iteration is: 4502.371255042742\n",
            "Cost after 70 iteration is: 4355.900176369311\n",
            "Cost after 80 iteration is: 4124.64002088725\n",
            "Cost after 90 iteration is: 4039.785829569505\n",
            "The train accruacy is 77.27166666666668\n",
            "The test accuracy is 75.99000000000001\n"
          ]
        }
      ],
      "source": [
        "mlp = MLP(784, [128, 128], 10, act_fun='tanh', epochs=100, learning_rate=0.14)\n",
        "parameters, cost_list_2014 = mlp.fit(norm_train_X, train_y)\n",
        "print(\"The train accruacy is\", mlp.evaluate_acc(parameters, norm_train_X, train_y))\n",
        "print(\"The test accuracy is\", mlp.evaluate_acc(parameters, norm_test_X, test_y))"
      ]
    },
    {
      "cell_type": "code",
      "execution_count": null,
      "metadata": {
        "id": "mV_hv-Upxf83",
        "colab": {
          "base_uri": "https://localhost:8080/"
        },
        "outputId": "f7911790-57d3-47fa-aa2c-50e28305db3d"
      },
      "outputs": [
        {
          "output_type": "stream",
          "name": "stdout",
          "text": [
            "Cost after 0 iteration is: 14353.550037695191\n",
            "Cost after 10 iteration is: 7412.113033208106\n",
            "Cost after 20 iteration is: 6366.859862860445\n",
            "Cost after 30 iteration is: 4983.619820482247\n",
            "Cost after 40 iteration is: 4551.095427635333\n",
            "Cost after 50 iteration is: 4288.907161887342\n",
            "Cost after 60 iteration is: 4100.260707175098\n",
            "Cost after 70 iteration is: 3966.648130204492\n",
            "Cost after 80 iteration is: 4008.8379529343338\n",
            "Cost after 90 iteration is: 4006.881003790493\n",
            "The train accruacy is 77.92999999999999\n",
            "The test accuracy is 76.78\n"
          ]
        }
      ],
      "source": [
        "mlp = MLP(784, [128, 128], 10, act_fun='tanh', epochs=100, learning_rate=0.13)\n",
        "parameters, cost_list_2013 = mlp.fit(norm_train_X, train_y)\n",
        "print(\"The train accruacy is\", mlp.evaluate_acc(parameters, norm_train_X, train_y))\n",
        "print(\"The test accuracy is\", mlp.evaluate_acc(parameters, norm_test_X, test_y))"
      ]
    },
    {
      "cell_type": "code",
      "execution_count": null,
      "metadata": {
        "colab": {
          "base_uri": "https://localhost:8080/"
        },
        "id": "de0FNFv6xiXZ",
        "outputId": "4871032f-b1b2-46e6-aca5-1e40ad04f1eb"
      },
      "outputs": [
        {
          "output_type": "stream",
          "name": "stdout",
          "text": [
            "Cost after 0 iteration is: 14353.550037695191\n",
            "Cost after 10 iteration is: 7860.2242124190325\n",
            "Cost after 20 iteration is: 6151.1507185047\n",
            "Cost after 30 iteration is: 4915.318945338971\n",
            "Cost after 40 iteration is: 4478.223316144357\n",
            "Cost after 50 iteration is: 4222.869443641537\n",
            "Cost after 60 iteration is: 4036.6811280316324\n",
            "Cost after 70 iteration is: 3899.2429562506813\n",
            "Cost after 80 iteration is: 3826.272335283082\n",
            "Cost after 90 iteration is: 4251.94588570337\n",
            "The train accruacy is 78.03166666666667\n",
            "The test accuracy is 76.75\n"
          ]
        }
      ],
      "source": [
        "mlp = MLP(784, [128, 128], 10, act_fun='tanh', epochs=100, learning_rate=0.12)\n",
        "parameters, cost_list_2012 = mlp.fit(norm_train_X, train_y)\n",
        "print(\"The train accruacy is\", mlp.evaluate_acc(parameters, norm_train_X, train_y))\n",
        "print(\"The test accuracy is\", mlp.evaluate_acc(parameters, norm_test_X, test_y))"
      ]
    },
    {
      "cell_type": "code",
      "execution_count": null,
      "metadata": {
        "id": "c0F0MKsg4la_",
        "colab": {
          "base_uri": "https://localhost:8080/"
        },
        "outputId": "6e31d199-4c3c-46ea-b608-24c6202464a2"
      },
      "outputs": [
        {
          "output_type": "stream",
          "name": "stdout",
          "text": [
            "Cost after 0 iteration is: 14353.550037695191\n",
            "Cost after 10 iteration is: 11056.546789291177\n",
            "Cost after 20 iteration is: 6145.970256635572\n",
            "Cost after 30 iteration is: 5140.556886201368\n",
            "Cost after 40 iteration is: 4513.360777114471\n",
            "Cost after 50 iteration is: 4174.909287619525\n",
            "Cost after 60 iteration is: 3959.837344996991\n",
            "Cost after 70 iteration is: 3812.352550412421\n",
            "Cost after 80 iteration is: 3703.874754299362\n",
            "Cost after 90 iteration is: 3620.709146899258\n",
            "The train accruacy is 79.13666666666667\n",
            "The test accuracy is 78.23\n"
          ]
        }
      ],
      "source": [
        "mlp = MLP(784, [128, 128], 10, act_fun='tanh', epochs=100, learning_rate=0.11)\n",
        "parameters, cost_list_2011 = mlp.fit(norm_train_X, train_y)\n",
        "print(\"The train accruacy is\", mlp.evaluate_acc(parameters, norm_train_X, train_y))\n",
        "print(\"The test accuracy is\", mlp.evaluate_acc(parameters, norm_test_X, test_y))"
      ]
    },
    {
      "cell_type": "code",
      "execution_count": null,
      "metadata": {
        "id": "ZESRtLOM4m2w",
        "colab": {
          "base_uri": "https://localhost:8080/"
        },
        "outputId": "2848398c-6053-4e0e-c4d0-a2316168151a"
      },
      "outputs": [
        {
          "output_type": "stream",
          "name": "stdout",
          "text": [
            "Cost after 0 iteration is: 14353.550037695191\n",
            "Cost after 10 iteration is: 11109.443590782143\n",
            "Cost after 20 iteration is: 5723.024412320851\n",
            "Cost after 30 iteration is: 4932.549840669002\n",
            "Cost after 40 iteration is: 4416.028456472478\n",
            "Cost after 50 iteration is: 4116.3706222862675\n",
            "Cost after 60 iteration is: 3917.9299924054694\n",
            "Cost after 70 iteration is: 3773.5042745965497\n",
            "Cost after 80 iteration is: 3664.1160521074994\n",
            "Cost after 90 iteration is: 3577.184971337161\n",
            "The train accruacy is 78.89333333333333\n",
            "The test accuracy is 77.7\n"
          ]
        }
      ],
      "source": [
        "mlp = MLP(784, [128, 128], 10, act_fun='tanh', epochs=100, learning_rate=0.10)\n",
        "parameters, cost_list_2010 = mlp.fit(norm_train_X, train_y)\n",
        "print(\"The train accruacy is\", mlp.evaluate_acc(parameters, norm_train_X, train_y))\n",
        "print(\"The test accuracy is\", mlp.evaluate_acc(parameters, norm_test_X, test_y))"
      ]
    },
    {
      "cell_type": "code",
      "execution_count": null,
      "metadata": {
        "id": "J_2nBvz46Ojs",
        "colab": {
          "base_uri": "https://localhost:8080/"
        },
        "outputId": "5e1af5e3-59c1-4477-df31-51fa4a7b34eb"
      },
      "outputs": [
        {
          "output_type": "stream",
          "name": "stdout",
          "text": [
            "Cost after 0 iteration is: 14353.550037695191\n",
            "Cost after 10 iteration is: 14325.067337463119\n",
            "Cost after 20 iteration is: 6413.865338040271\n",
            "Cost after 30 iteration is: 5001.236547021426\n",
            "Cost after 40 iteration is: 4411.045104622522\n",
            "Cost after 50 iteration is: 4068.081086563306\n",
            "Cost after 60 iteration is: 3852.3993132086384\n",
            "Cost after 70 iteration is: 3706.4737614310384\n",
            "Cost after 80 iteration is: 3601.2877183415508\n",
            "Cost after 90 iteration is: 3521.799264745756\n",
            "The train accruacy is 79.64333333333333\n",
            "The test accuracy is 78.59\n"
          ]
        }
      ],
      "source": [
        "mlp = MLP(784, [128, 128], 10, act_fun='tanh', epochs=100, learning_rate=0.09)\n",
        "parameters, cost_list_2009 = mlp.fit(norm_train_X, train_y)\n",
        "print(\"The train accruacy is\", mlp.evaluate_acc(parameters, norm_train_X, train_y))\n",
        "print(\"The test accuracy is\", mlp.evaluate_acc(parameters, norm_test_X, test_y))"
      ]
    },
    {
      "cell_type": "code",
      "execution_count": null,
      "metadata": {
        "id": "ALoPFCYp6ROo",
        "colab": {
          "base_uri": "https://localhost:8080/"
        },
        "outputId": "531cf944-7325-463f-b3b2-784f4723a16e"
      },
      "outputs": [
        {
          "output_type": "stream",
          "name": "stdout",
          "text": [
            "Cost after 0 iteration is: 14353.550037695191\n",
            "Cost after 10 iteration is: 10165.15079104613\n",
            "Cost after 20 iteration is: 6231.980742022279\n",
            "Cost after 30 iteration is: 5431.655935581622\n",
            "Cost after 40 iteration is: 4621.250573246868\n",
            "Cost after 50 iteration is: 4218.517896864894\n",
            "Cost after 60 iteration is: 3955.8623534982785\n",
            "Cost after 70 iteration is: 3777.2018156938557\n",
            "Cost after 80 iteration is: 3649.4921710473027\n",
            "Cost after 90 iteration is: 3554.204015761854\n",
            "The train accruacy is 79.43\n",
            "The test accuracy is 78.53\n"
          ]
        }
      ],
      "source": [
        "mlp = MLP(784, [128, 128], 10, act_fun='tanh', epochs=100, learning_rate=0.08)\n",
        "parameters, cost_list_2008 = mlp.fit(norm_train_X, train_y)\n",
        "print(\"The train accruacy is\", mlp.evaluate_acc(parameters, norm_train_X, train_y))\n",
        "print(\"The test accuracy is\", mlp.evaluate_acc(parameters, norm_test_X, test_y))"
      ]
    },
    {
      "cell_type": "code",
      "execution_count": null,
      "metadata": {
        "id": "TbTIqc1K6SE5",
        "colab": {
          "base_uri": "https://localhost:8080/"
        },
        "outputId": "9cfe50c1-aad8-48d6-85b5-228352ffcecf"
      },
      "outputs": [
        {
          "output_type": "stream",
          "name": "stdout",
          "text": [
            "Cost after 0 iteration is: 14353.550037695191\n",
            "Cost after 10 iteration is: 13678.005319736498\n",
            "Cost after 20 iteration is: 8398.169421060298\n",
            "Cost after 30 iteration is: 5027.231915032804\n",
            "Cost after 40 iteration is: 5114.6043980898785\n",
            "Cost after 50 iteration is: 4457.465542890354\n",
            "Cost after 60 iteration is: 4135.064695913949\n",
            "Cost after 70 iteration is: 3902.3294285127313\n",
            "Cost after 80 iteration is: 3738.194627645047\n",
            "Cost after 90 iteration is: 3617.675656109275\n",
            "The train accruacy is 79.39666666666668\n",
            "The test accuracy is 78.36\n"
          ]
        }
      ],
      "source": [
        "mlp = MLP(784, [128, 128], 10, act_fun='tanh', epochs=100, learning_rate=0.07)\n",
        "parameters, cost_list_2007 = mlp.fit(norm_train_X, train_y)\n",
        "print(\"The train accruacy is\", mlp.evaluate_acc(parameters, norm_train_X, train_y))\n",
        "print(\"The test accuracy is\", mlp.evaluate_acc(parameters, norm_test_X, test_y))"
      ]
    },
    {
      "cell_type": "code",
      "execution_count": null,
      "metadata": {
        "id": "duGTbbAr6TTC",
        "colab": {
          "base_uri": "https://localhost:8080/"
        },
        "outputId": "1e01567e-7b9f-451a-c643-96f6c42a90a4"
      },
      "outputs": [
        {
          "output_type": "stream",
          "name": "stdout",
          "text": [
            "Cost after 0 iteration is: 14353.550037695191\n",
            "Cost after 10 iteration is: 18499.93282611812\n",
            "Cost after 20 iteration is: 5337.905147705366\n",
            "Cost after 30 iteration is: 5625.172746165327\n",
            "Cost after 40 iteration is: 5214.631198933501\n",
            "Cost after 50 iteration is: 4960.5636868002675\n",
            "Cost after 60 iteration is: 4423.199015635078\n",
            "Cost after 70 iteration is: 4177.5193107468285\n",
            "Cost after 80 iteration is: 3971.6827855431493\n",
            "Cost after 90 iteration is: 3825.834961722453\n",
            "The train accruacy is 78.855\n",
            "The test accuracy is 78.06\n"
          ]
        }
      ],
      "source": [
        "mlp = MLP(784, [128, 128], 10, act_fun='tanh', epochs=100, learning_rate=0.06)\n",
        "parameters, cost_list_2006 = mlp.fit(norm_train_X, train_y)\n",
        "print(\"The train accruacy is\", mlp.evaluate_acc(parameters, norm_train_X, train_y))\n",
        "print(\"The test accuracy is\", mlp.evaluate_acc(parameters, norm_test_X, test_y))"
      ]
    },
    {
      "cell_type": "code",
      "execution_count": null,
      "metadata": {
        "id": "c6yBteTa6UYX",
        "colab": {
          "base_uri": "https://localhost:8080/"
        },
        "outputId": "9f34d5e7-aeab-4fec-b4f1-1edc742a38fc"
      },
      "outputs": [
        {
          "output_type": "stream",
          "name": "stdout",
          "text": [
            "Cost after 0 iteration is: 14353.550037695191\n",
            "Cost after 10 iteration is: 18334.136356734372\n",
            "Cost after 20 iteration is: 13137.743305472393\n",
            "Cost after 30 iteration is: 7107.80023452153\n",
            "Cost after 40 iteration is: 5846.412077635291\n",
            "Cost after 50 iteration is: 5823.700049286313\n",
            "Cost after 60 iteration is: 4668.941768476034\n",
            "Cost after 70 iteration is: 5131.072899206554\n",
            "Cost after 80 iteration is: 4320.296279708861\n",
            "Cost after 90 iteration is: 4491.699433041688\n",
            "The train accruacy is 77.91166666666666\n",
            "The test accuracy is 77.27000000000001\n"
          ]
        }
      ],
      "source": [
        "mlp = MLP(784, [128, 128], 10, act_fun='tanh', epochs=100, learning_rate=0.05)\n",
        "parameters, cost_list_2005 = mlp.fit(norm_train_X, train_y)\n",
        "print(\"The train accruacy is\", mlp.evaluate_acc(parameters, norm_train_X, train_y))\n",
        "print(\"The test accuracy is\", mlp.evaluate_acc(parameters, norm_test_X, test_y))"
      ]
    },
    {
      "cell_type": "code",
      "execution_count": null,
      "metadata": {
        "id": "2opyQ3ac6ViW",
        "colab": {
          "base_uri": "https://localhost:8080/"
        },
        "outputId": "3a2c70ab-80dc-412b-ca41-371493cdb746"
      },
      "outputs": [
        {
          "output_type": "stream",
          "name": "stdout",
          "text": [
            "Cost after 0 iteration is: 14353.550037695191\n",
            "Cost after 10 iteration is: 25784.532539634343\n",
            "Cost after 20 iteration is: 11880.497080022647\n",
            "Cost after 30 iteration is: 7355.066313042684\n",
            "Cost after 40 iteration is: 5221.475662971396\n",
            "Cost after 50 iteration is: 7793.279016569919\n",
            "Cost after 60 iteration is: 6889.48773852539\n",
            "Cost after 70 iteration is: 4636.516343423708\n",
            "Cost after 80 iteration is: 5964.182756122047\n",
            "Cost after 90 iteration is: 5482.5493550923675\n",
            "The train accruacy is 76.36500000000001\n",
            "The test accuracy is 75.29\n"
          ]
        }
      ],
      "source": [
        "mlp = MLP(784, [128, 128], 10, act_fun='tanh', epochs=100, learning_rate=0.04)\n",
        "parameters, cost_list_2004 = mlp.fit(norm_train_X, train_y)\n",
        "print(\"The train accruacy is\", mlp.evaluate_acc(parameters, norm_train_X, train_y))\n",
        "print(\"The test accuracy is\", mlp.evaluate_acc(parameters, norm_test_X, test_y))"
      ]
    },
    {
      "cell_type": "code",
      "execution_count": null,
      "metadata": {
        "id": "4HXbIWRw6Xfd",
        "colab": {
          "base_uri": "https://localhost:8080/"
        },
        "outputId": "7019ac50-2a96-422e-ee40-da2f0582f990"
      },
      "outputs": [
        {
          "output_type": "stream",
          "name": "stdout",
          "text": [
            "Cost after 0 iteration is: 14353.550037695191\n",
            "Cost after 10 iteration is: 41539.212386367435\n",
            "Cost after 20 iteration is: 10137.0760166885\n",
            "Cost after 30 iteration is: 4601.693458728509\n",
            "Cost after 40 iteration is: 8323.957135773862\n",
            "Cost after 50 iteration is: 6656.485979900615\n",
            "Cost after 60 iteration is: 5504.560800113848\n",
            "Cost after 70 iteration is: 5540.730134001554\n",
            "Cost after 80 iteration is: 4028.244750323469\n",
            "Cost after 90 iteration is: 5095.605651507564\n",
            "The train accruacy is 76.00833333333334\n",
            "The test accuracy is 75.02\n"
          ]
        }
      ],
      "source": [
        "mlp = MLP(784, [128, 128], 10, act_fun='tanh', epochs=100, learning_rate=0.03)\n",
        "parameters, cost_list_2003 = mlp.fit(norm_train_X, train_y)\n",
        "print(\"The train accruacy is\", mlp.evaluate_acc(parameters, norm_train_X, train_y))\n",
        "print(\"The test accuracy is\", mlp.evaluate_acc(parameters, norm_test_X, test_y))"
      ]
    },
    {
      "cell_type": "code",
      "execution_count": null,
      "metadata": {
        "id": "DuCM4qmS6Yd0",
        "colab": {
          "base_uri": "https://localhost:8080/"
        },
        "outputId": "6aa480ca-12ab-4e31-d8d7-10628e63fc0b"
      },
      "outputs": [
        {
          "output_type": "stream",
          "name": "stdout",
          "text": [
            "Cost after 0 iteration is: 14353.550037695191\n",
            "Cost after 10 iteration is: 11617.848438985731\n",
            "Cost after 20 iteration is: 8990.706054268469\n",
            "Cost after 30 iteration is: 6224.781560345071\n",
            "Cost after 40 iteration is: 4804.978145150466\n",
            "Cost after 50 iteration is: 5770.665649835713\n",
            "Cost after 60 iteration is: 5893.840674800962\n",
            "Cost after 70 iteration is: 5494.606934230294\n",
            "Cost after 80 iteration is: 4962.582931984703\n",
            "Cost after 90 iteration is: 5198.119386831296\n",
            "The train accruacy is 73.15333333333334\n",
            "The test accuracy is 72.3\n"
          ]
        }
      ],
      "source": [
        "mlp = MLP(784, [128, 128], 10, act_fun='tanh', epochs=100, learning_rate=0.02)\n",
        "parameters, cost_list_2002 = mlp.fit(norm_train_X, train_y)\n",
        "print(\"The train accruacy is\", mlp.evaluate_acc(parameters, norm_train_X, train_y))\n",
        "print(\"The test accuracy is\", mlp.evaluate_acc(parameters, norm_test_X, test_y))"
      ]
    },
    {
      "cell_type": "code",
      "execution_count": null,
      "metadata": {
        "id": "xj329C0-6ZVt",
        "colab": {
          "base_uri": "https://localhost:8080/"
        },
        "outputId": "77be6713-70cc-4296-9e2d-76c1866746a2"
      },
      "outputs": [
        {
          "output_type": "stream",
          "name": "stdout",
          "text": [
            "Cost after 0 iteration is: 14353.550037695191\n",
            "Cost after 10 iteration is: 7000.497734050021\n",
            "Cost after 20 iteration is: 6164.318744855265\n",
            "Cost after 30 iteration is: 5450.756023661621\n",
            "Cost after 40 iteration is: 5006.319356404454\n",
            "Cost after 50 iteration is: 4702.304142464856\n",
            "Cost after 60 iteration is: 4735.016164155829\n",
            "Cost after 70 iteration is: 4613.79327775766\n",
            "Cost after 80 iteration is: 4481.088551876465\n",
            "Cost after 90 iteration is: 4372.625883947882\n",
            "The train accruacy is 73.81166666666667\n",
            "The test accuracy is 72.39\n"
          ]
        }
      ],
      "source": [
        "mlp = MLP(784, [128, 128], 10, act_fun='tanh', epochs=100, learning_rate=0.01)\n",
        "parameters, cost_list_2001 = mlp.fit(norm_train_X, train_y)\n",
        "print(\"The train accruacy is\", mlp.evaluate_acc(parameters, norm_train_X, train_y))\n",
        "print(\"The test accuracy is\", mlp.evaluate_acc(parameters, norm_test_X, test_y))"
      ]
    },
    {
      "cell_type": "code",
      "source": [
        "mlp = MLP(784, [128, 128], 10, act_fun='tanh', epochs=100, learning_rate=0.001)\n",
        "parameters, cost_list_20001 = mlp.fit(norm_train_X, train_y)\n",
        "print(\"The train accruacy is\", mlp.evaluate_acc(parameters, norm_train_X, train_y))\n",
        "print(\"The test accuracy is\", mlp.evaluate_acc(parameters, norm_test_X, test_y))"
      ],
      "metadata": {
        "colab": {
          "base_uri": "https://localhost:8080/"
        },
        "id": "jToRlDUoOXj6",
        "outputId": "44964027-06f6-489b-dd0c-e53daf9565cb"
      },
      "execution_count": null,
      "outputs": [
        {
          "output_type": "stream",
          "name": "stdout",
          "text": [
            "Cost after 0 iteration is: 14353.550037695191\n",
            "Cost after 10 iteration is: 11529.216746281827\n",
            "Cost after 20 iteration is: 10212.613428547897\n",
            "Cost after 30 iteration is: 9324.926346689423\n",
            "Cost after 40 iteration is: 8676.767620185376\n",
            "Cost after 50 iteration is: 8179.170971229245\n",
            "Cost after 60 iteration is: 7782.562407579774\n",
            "Cost after 70 iteration is: 7457.262115089317\n",
            "Cost after 80 iteration is: 7184.424672527267\n",
            "Cost after 90 iteration is: 6951.484952632706\n",
            "The train accruacy is 66.13666666666667\n",
            "The test accuracy is 65.36999999999999\n"
          ]
        }
      ]
    },
    {
      "cell_type": "code",
      "source": [
        "x = list(range(0,100))\n",
        "plt.figure(figsize=(10, 8))\n",
        "plt.plot(x, cost_list_20001)\n",
        "plt.plot(x, cost_list_2001)\n",
        "plt.plot(x, cost_list_2002)\n",
        "plt.plot(x, cost_list_2003)\n",
        "plt.plot(x, cost_list_2004)\n",
        "plt.xlabel(\"iterations\", fontsize=15)\n",
        "plt.ylabel(\"cost\", fontsize=15)\n",
        "plt.title(\"MLP with 2 hidden layers with 128 units and tanh activation function training curves\", fontsize=20)\n",
        "plt.legend(['learning rate=0.001', 'learning rate=0.01','learning rate=0.02','learning rate=0.03','learning rate=0.04'])"
      ],
      "metadata": {
        "colab": {
          "base_uri": "https://localhost:8080/",
          "height": 540
        },
        "id": "q_MxO3XitxqE",
        "outputId": "831de7e3-f29f-4802-962e-51baec832883"
      },
      "execution_count": null,
      "outputs": [
        {
          "output_type": "execute_result",
          "data": {
            "text/plain": [
              "<matplotlib.legend.Legend at 0x7fb4399d7fd0>"
            ]
          },
          "metadata": {},
          "execution_count": 89
        },
        {
          "output_type": "display_data",
          "data": {
            "text/plain": [
              "<Figure size 720x576 with 1 Axes>"
            ],
            "image/png": "[encoded data removed]"
          },
          "metadata": {
            "needs_background": "light"
          }
        }
      ]
    },
    {
      "cell_type": "code",
      "source": [
        "lr2 = [0.001, 0.01, 0.02, 0.03, 0.04, 0.05, 0.06, 0.07, 0.08, 0.09, 0.10, 0.11, 0.12, 0.13, 0.14, 0.15, 0.16]\n",
        "trainacc2 = [0.6614, 0.7382, 0.7315, 0.7600, 0.7637, 0.7791, 0.7886, 0.7940, 0.7943, 0.7964, 0.7889, 0.7914, 0.7803, 0.7793, 0.7727, 0.7637, 0.7465]\n",
        "testacc2 = [0.6537, 0.7239, 0.723, 0.7502, 0.7529, 0.7727, 0.7806, 0.7836, 0.7853, 0.7829, 0.777, 0.7823, 0.7675, 0.7678, 0.7599, 0.7503, 0.737]\n",
        "plt.plot(lr2, trainacc2, marker='o', label='train accuracy')\n",
        "plt.plot(lr2, testacc2, marker='o', label='test accuracy')\n",
        "plt.legend()\n",
        "plt.xlabel('learning rate', fontsize=15)\n",
        "plt.ylabel('accuracy', fontsize=15)\n",
        "plt.title('train accuracy/test accuracy v.s. learning rate(2 hidden layers MLP)')"
      ],
      "metadata": {
        "colab": {
          "base_uri": "https://localhost:8080/",
          "height": 317
        },
        "id": "qm3yqWh_lGcl",
        "outputId": "bcc556d5-9100-4c87-faac-2cc6a14cb067"
      },
      "execution_count": null,
      "outputs": [
        {
          "output_type": "execute_result",
          "data": {
            "text/plain": [
              "Text(0.5, 1.0, 'train accuracy/test accuracy v.s. learning rate(2 hidden layers MLP)')"
            ]
          },
          "metadata": {},
          "execution_count": 39
        },
        {
          "output_type": "display_data",
          "data": {
            "text/plain": [
              "<Figure size 432x288 with 1 Axes>"
            ],
            "image/png": "[encoded data removed]"
          },
          "metadata": {
            "needs_background": "light"
          }
        }
      ]
    },
    {
      "cell_type": "markdown",
      "source": [
        "MLP with one hidden layer"
      ],
      "metadata": {
        "id": "schMPKtU2KLS"
      }
    },
    {
      "cell_type": "code",
      "source": [
        "mlp = MLP(784, [128], 10, act_fun='tanh', epochs=100, learning_rate=0.15)\n",
        "print(\"The train accruacy is\", mlp.eparameters, cost_list_1015 = mlp.fit(norm_train_X, train_y)\n",
        "aluate_acc(parameters, norm_train_X, train_y))\n",
        "print(\"The test accuracy is\", mlp.evaluate_acc(parameters, norm_test_X, test_y))"
      ],
      "metadata": {
        "colab": {
          "base_uri": "https://localhost:8080/"
        },
        "id": "qQtjG0oikoDj",
        "outputId": "127a2759-cad3-4404-9f25-646593c9041d"
      },
      "execution_count": null,
      "outputs": [
        {
          "output_type": "stream",
          "name": "stdout",
          "text": [
            "Cost after 0 iteration is: 16725.692904214957\n",
            "Cost after 10 iteration is: 313851.35684143816\n",
            "Cost after 20 iteration is: 336244.5641292622\n",
            "Cost after 30 iteration is: 44943.91895838265\n",
            "Cost after 40 iteration is: 18183.424612093975\n",
            "Cost after 50 iteration is: 14014.293677828575\n",
            "Cost after 60 iteration is: 13635.384419210743\n",
            "Cost after 70 iteration is: 11209.48923075603\n",
            "Cost after 80 iteration is: 9772.992924309227\n",
            "Cost after 90 iteration is: 8087.407354194859\n",
            "The train accruacy is 74.78333333333333\n",
            "The test accuracy is 74.21\n"
          ]
        }
      ]
    },
    {
      "cell_type": "code",
      "source": [
        "mlp = MLP(784, [128], 10, act_fun='tanh', epochs=100, learning_rate=0.14)\n",
        "parameters, cost_list_1014 = mlp.fit(norm_train_X, train_y)\n",
        "print(\"The train accruacy is\", mlp.evaluate_acc(parameters, norm_train_X, train_y))\n",
        "print(\"The test accuracy is\", mlp.evaluate_acc(parameters, norm_test_X, test_y))"
      ],
      "metadata": {
        "id": "D3d5wVRD2fZI",
        "colab": {
          "base_uri": "https://localhost:8080/"
        },
        "outputId": "24df8d39-4511-4af2-9c13-f6efbe665f22"
      },
      "execution_count": null,
      "outputs": [
        {
          "output_type": "stream",
          "name": "stdout",
          "text": [
            "Cost after 0 iteration is: 16725.692904214957\n",
            "Cost after 10 iteration is: 364784.34690771665\n",
            "Cost after 20 iteration is: 76072.4216978587\n",
            "Cost after 30 iteration is: 13918.940124705181\n",
            "Cost after 40 iteration is: 7731.200762488947\n",
            "Cost after 50 iteration is: 7206.312352781577\n",
            "Cost after 60 iteration is: 10685.702495090598\n",
            "Cost after 70 iteration is: 6265.247849483983\n",
            "Cost after 80 iteration is: 5354.861160385604\n",
            "Cost after 90 iteration is: 4329.518673904539\n",
            "The train accruacy is 73.605\n",
            "The test accuracy is 72.64\n"
          ]
        }
      ]
    },
    {
      "cell_type": "code",
      "source": [
        "mlp = MLP(784, [128], 10, act_fun='tanh', epochs=100, learning_rate=0.13)\n",
        "parameters, cost_list_1013 = mlp.fit(norm_train_X, train_y)\n",
        "print(\"The train accruacy is\", mlp.evaluate_acc(parameters, norm_train_X, train_y))\n",
        "print(\"The test accuracy is\", mlp.evaluate_acc(parameters, norm_test_X, test_y))"
      ],
      "metadata": {
        "id": "zJ5kJcVc2lBU",
        "colab": {
          "base_uri": "https://localhost:8080/"
        },
        "outputId": "3d89ce36-9979-4134-8de9-49565a168881"
      },
      "execution_count": null,
      "outputs": [
        {
          "output_type": "stream",
          "name": "stdout",
          "text": [
            "Cost after 0 iteration is: 16725.692904214957\n",
            "Cost after 10 iteration is: 98291.15611731293\n",
            "Cost after 20 iteration is: 44369.72023768478\n",
            "Cost after 30 iteration is: 12149.335969697247\n",
            "Cost after 40 iteration is: 7190.872353425322\n",
            "Cost after 50 iteration is: 6049.238240133201\n",
            "Cost after 60 iteration is: 5691.347735538193\n",
            "Cost after 70 iteration is: 5211.329294171699\n",
            "Cost after 80 iteration is: 4743.091449196428\n",
            "Cost after 90 iteration is: 4512.290356032165\n",
            "The train accruacy is 76.28333333333333\n",
            "The test accuracy is 75.16000000000001\n"
          ]
        }
      ]
    },
    {
      "cell_type": "code",
      "source": [
        "mlp = MLP(784, [128], 10, act_fun='tanh', epochs=100, learning_rate=0.12)\n",
        "parameters, cost_list_1012 = mlp.fit(norm_train_X, train_y)\n",
        "print(\"The train accruacy is\", mlp.evaluate_acc(parameters, norm_train_X, train_y))\n",
        "print(\"The test accuracy is\", mlp.evaluate_acc(parameters, norm_test_X, test_y))"
      ],
      "metadata": {
        "id": "YvNH9PJ22okZ",
        "colab": {
          "base_uri": "https://localhost:8080/"
        },
        "outputId": "658e4d5b-8232-4954-ab54-fb0aeea36d54"
      },
      "execution_count": null,
      "outputs": [
        {
          "output_type": "stream",
          "name": "stdout",
          "text": [
            "Cost after 0 iteration is: 16725.692904214957\n",
            "Cost after 10 iteration is: 20414.424406646358\n",
            "Cost after 20 iteration is: 7687.079171201654\n",
            "Cost after 30 iteration is: 5968.837813218031\n",
            "Cost after 40 iteration is: 5207.581156496154\n",
            "Cost after 50 iteration is: 4829.8384926867\n",
            "Cost after 60 iteration is: 5204.055262341208\n",
            "Cost after 70 iteration is: 6039.455324533432\n",
            "Cost after 80 iteration is: 4417.12494221594\n",
            "Cost after 90 iteration is: 4161.501212225844\n",
            "The train accruacy is 77.10333333333334\n",
            "The test accuracy is 75.41\n"
          ]
        }
      ]
    },
    {
      "cell_type": "code",
      "source": [
        "mlp = MLP(784, [128], 10, act_fun='tanh', epochs=100, learning_rate=0.11)\n",
        "parameters, cost_list_1011 = mlp.fit(norm_train_X, train_y)\n",
        "print(\"The train accruacy is\", mlp.evaluate_acc(parameters, norm_train_X, train_y))\n",
        "print(\"The test accuracy is\", mlp.evaluate_acc(parameters, norm_test_X, test_y))"
      ],
      "metadata": {
        "id": "BXN0JFpr2reR",
        "colab": {
          "base_uri": "https://localhost:8080/"
        },
        "outputId": "7656f98f-1b14-4e87-9487-74daef487d4b"
      },
      "execution_count": null,
      "outputs": [
        {
          "output_type": "stream",
          "name": "stdout",
          "text": [
            "Cost after 0 iteration is: 16725.692904214957\n",
            "Cost after 10 iteration is: 11727.37289273794\n",
            "Cost after 20 iteration is: 6502.214526237825\n",
            "Cost after 30 iteration is: 4987.651930788724\n",
            "Cost after 40 iteration is: 4499.794082687305\n",
            "Cost after 50 iteration is: 4203.422531634494\n",
            "Cost after 60 iteration is: 3971.481193834429\n",
            "Cost after 70 iteration is: 3916.9809093157146\n",
            "Cost after 80 iteration is: 4066.1391917283445\n",
            "Cost after 90 iteration is: 3811.692082786187\n",
            "The train accruacy is 78.95166666666667\n",
            "The test accuracy is 77.58\n"
          ]
        }
      ]
    },
    {
      "cell_type": "code",
      "source": [
        "mlp = MLP(784, [128], 10, act_fun='tanh', epochs=100, learning_rate=0.10)\n",
        "parameters, cost_list_1010 = mlp.fit(norm_train_X, train_y)\n",
        "print(\"The train accruacy is\", mlp.evaluate_acc(parameters, norm_train_X, train_y))\n",
        "print(\"The test accuracy is\", mlp.evaluate_acc(parameters, norm_test_X, test_y))"
      ],
      "metadata": {
        "id": "bImqtvK-2tTL",
        "colab": {
          "base_uri": "https://localhost:8080/"
        },
        "outputId": "764e6f20-6389-4d38-b769-f096cc2e874c"
      },
      "execution_count": null,
      "outputs": [
        {
          "output_type": "stream",
          "name": "stdout",
          "text": [
            "Cost after 0 iteration is: 16725.692904214957\n",
            "Cost after 10 iteration is: 8163.516984050775\n",
            "Cost after 20 iteration is: 6422.293611344767\n",
            "Cost after 30 iteration is: 5054.005064438038\n",
            "Cost after 40 iteration is: 4484.4641266270755\n",
            "Cost after 50 iteration is: 4135.427656582402\n",
            "Cost after 60 iteration is: 4052.9413307413192\n",
            "Cost after 70 iteration is: 3862.9831024625696\n",
            "Cost after 80 iteration is: 3641.603442625529\n",
            "Cost after 90 iteration is: 3615.8580324714612\n",
            "The train accruacy is 78.73833333333333\n",
            "The test accuracy is 77.36\n"
          ]
        }
      ]
    },
    {
      "cell_type": "code",
      "source": [
        "mlp = MLP(784, [128], 10, act_fun='tanh', epochs=100, learning_rate=0.09)\n",
        "parameters, cost_list_1009 = mlp.fit(norm_train_X, train_y)\n",
        "print(\"The train accruacy is\", mlp.evaluate_acc(parameters, norm_train_X, train_y))\n",
        "print(\"The test accuracy is\", mlp.evaluate_acc(parameters, norm_test_X, test_y))"
      ],
      "metadata": {
        "id": "ffWTOg-o2v5p",
        "colab": {
          "base_uri": "https://localhost:8080/"
        },
        "outputId": "38328e20-6b3e-4410-bb8d-3b9f45f5a3f7"
      },
      "execution_count": null,
      "outputs": [
        {
          "output_type": "stream",
          "name": "stdout",
          "text": [
            "Cost after 0 iteration is: 16725.692904214957\n",
            "Cost after 10 iteration is: 15225.56527912055\n",
            "Cost after 20 iteration is: 6445.424037136336\n",
            "Cost after 30 iteration is: 4655.482076575087\n",
            "Cost after 40 iteration is: 4078.962364654076\n",
            "Cost after 50 iteration is: 3918.075316538303\n",
            "Cost after 60 iteration is: 4098.459696654819\n",
            "Cost after 70 iteration is: 3734.9050696453396\n",
            "Cost after 80 iteration is: 3643.0493135662714\n",
            "Cost after 90 iteration is: 3499.3894706310293\n",
            "The train accruacy is 79.91166666666668\n",
            "The test accuracy is 79.05\n"
          ]
        }
      ]
    },
    {
      "cell_type": "code",
      "source": [
        "mlp = MLP(784, [128], 10, act_fun='tanh', epochs=100, learning_rate=0.08)\n",
        "parameters, cost_list_1008 = mlp.fit(norm_train_X, train_y)\n",
        "print(\"The train accruacy is\", mlp.evaluate_acc(parameters, norm_train_X, train_y))\n",
        "print(\"The test accuracy is\", mlp.evaluate_acc(parameters, norm_test_X, test_y))"
      ],
      "metadata": {
        "id": "QQQZVwf32zgi",
        "colab": {
          "base_uri": "https://localhost:8080/"
        },
        "outputId": "64e7370e-fae2-4d83-a675-2236d894c772"
      },
      "execution_count": null,
      "outputs": [
        {
          "output_type": "stream",
          "name": "stdout",
          "text": [
            "Cost after 0 iteration is: 16725.692904214957\n",
            "Cost after 10 iteration is: 8889.60459568074\n",
            "Cost after 20 iteration is: 7795.305664808609\n",
            "Cost after 30 iteration is: 4729.366812000763\n",
            "Cost after 40 iteration is: 4555.743400850987\n",
            "Cost after 50 iteration is: 4096.286769445486\n",
            "Cost after 60 iteration is: 3792.2980446206675\n",
            "Cost after 70 iteration is: 3615.4920057943405\n",
            "Cost after 80 iteration is: 3492.196609477643\n",
            "Cost after 90 iteration is: 3417.5667577279924\n",
            "The train accruacy is 80.16166666666666\n",
            "The test accuracy is 78.74\n"
          ]
        }
      ]
    },
    {
      "cell_type": "code",
      "source": [
        "mlp = MLP(784, [128], 10, act_fun='tanh', epochs=100, learning_rate=0.07)\n",
        "parameters, cost_list_1007 = mlp.fit(norm_train_X, train_y)\n",
        "print(\"The train accruacy is\", mlp.evaluate_acc(parameters, norm_train_X, train_y))\n",
        "print(\"The test accuracy is\", mlp.evaluate_acc(parameters, norm_test_X, test_y))"
      ],
      "metadata": {
        "id": "Bb-kuoN-22Sa",
        "colab": {
          "base_uri": "https://localhost:8080/"
        },
        "outputId": "fd0c59c2-a5da-4d40-d257-c4e35c992564"
      },
      "execution_count": null,
      "outputs": [
        {
          "output_type": "stream",
          "name": "stdout",
          "text": [
            "Cost after 0 iteration is: 16725.692904214957\n",
            "Cost after 10 iteration is: 9346.863701460814\n",
            "Cost after 20 iteration is: 6667.467627316075\n",
            "Cost after 30 iteration is: 5588.495532065906\n",
            "Cost after 40 iteration is: 4489.246353603447\n",
            "Cost after 50 iteration is: 4125.575838416137\n",
            "Cost after 60 iteration is: 3834.3810733484374\n",
            "Cost after 70 iteration is: 3620.2517507326384\n",
            "Cost after 80 iteration is: 3466.8089557320136\n",
            "Cost after 90 iteration is: 3366.1956233936553\n",
            "The train accruacy is 81.09333333333333\n",
            "The test accuracy is 79.83\n"
          ]
        }
      ]
    },
    {
      "cell_type": "code",
      "source": [
        "mlp = MLP(784, [128], 10, act_fun='tanh', epochs=100, learning_rate=0.06)\n",
        "parameters, cost_list_1006 = mlp.fit(norm_train_X, train_y)\n",
        "print(\"The train accruacy is\", mlp.evaluate_acc(parameters, norm_train_X, train_y))\n",
        "print(\"The test accuracy is\", mlp.evaluate_acc(parameters, norm_test_X, test_y))"
      ],
      "metadata": {
        "id": "zBQnuGTT25WR",
        "colab": {
          "base_uri": "https://localhost:8080/"
        },
        "outputId": "be00989e-71a7-47c6-b338-cf4d8761f2aa"
      },
      "execution_count": null,
      "outputs": [
        {
          "output_type": "stream",
          "name": "stdout",
          "text": [
            "Cost after 0 iteration is: 16725.692904214957\n",
            "Cost after 10 iteration is: 12673.854268836501\n",
            "Cost after 20 iteration is: 6065.117781004539\n",
            "Cost after 30 iteration is: 5805.668291550475\n",
            "Cost after 40 iteration is: 4411.5226154370375\n",
            "Cost after 50 iteration is: 3877.9489437482234\n",
            "Cost after 60 iteration is: 3832.28832407712\n",
            "Cost after 70 iteration is: 3532.482873501321\n",
            "Cost after 80 iteration is: 3378.0310015783602\n",
            "Cost after 90 iteration is: 3282.426143457727\n",
            "The train accruacy is 79.85333333333332\n",
            "The test accuracy is 78.63\n"
          ]
        }
      ]
    },
    {
      "cell_type": "code",
      "source": [
        "mlp = MLP(784, [128], 10, act_fun='tanh', epochs=100, learning_rate=0.05)\n",
        "parameters, cost_list_1005 = mlp.fit(norm_train_X, train_y)\n",
        "print(\"The train accruacy is\", mlp.evaluate_acc(parameters, norm_train_X, train_y))\n",
        "print(\"The test accuracy is\", mlp.evaluate_acc(parameters, norm_test_X, test_y))"
      ],
      "metadata": {
        "id": "4ZXzyHzL27x7",
        "colab": {
          "base_uri": "https://localhost:8080/"
        },
        "outputId": "10c20f2a-782a-4b25-fa6c-a4efd64a2790"
      },
      "execution_count": null,
      "outputs": [
        {
          "output_type": "stream",
          "name": "stdout",
          "text": [
            "Cost after 0 iteration is: 16725.692904214957\n",
            "Cost after 10 iteration is: 15916.643266073253\n",
            "Cost after 20 iteration is: 7715.981951927909\n",
            "Cost after 30 iteration is: 5441.631705795195\n",
            "Cost after 40 iteration is: 6038.050649504852\n",
            "Cost after 50 iteration is: 4471.857805528504\n",
            "Cost after 60 iteration is: 4570.228163481921\n",
            "Cost after 70 iteration is: 4057.24326113328\n",
            "Cost after 80 iteration is: 3838.5534104062353\n",
            "Cost after 90 iteration is: 3654.919678655011\n",
            "The train accruacy is 80.61333333333334\n",
            "The test accuracy is 79.39\n"
          ]
        }
      ]
    },
    {
      "cell_type": "code",
      "source": [
        "mlp = MLP(784, [128], 10, act_fun='tanh', epochs=100, learning_rate=0.04)\n",
        "parameters, cost_list_1004 = mlp.fit(norm_train_X, train_y)\n",
        "print(\"The train accruacy is\", mlp.evaluate_acc(parameters, norm_train_X, train_y))\n",
        "print(\"The test accuracy is\", mlp.evaluate_acc(parameters, norm_test_X, test_y))"
      ],
      "metadata": {
        "id": "QculmVcK29al",
        "colab": {
          "base_uri": "https://localhost:8080/"
        },
        "outputId": "395964ff-9327-4ec3-c9a6-df2169faca9c"
      },
      "execution_count": null,
      "outputs": [
        {
          "output_type": "stream",
          "name": "stdout",
          "text": [
            "Cost after 0 iteration is: 16725.692904214957\n",
            "Cost after 10 iteration is: 19373.457576311637\n",
            "Cost after 20 iteration is: 6546.619123508976\n",
            "Cost after 30 iteration is: 5996.534829837879\n",
            "Cost after 40 iteration is: 7444.819305257686\n",
            "Cost after 50 iteration is: 4923.376967722502\n",
            "Cost after 60 iteration is: 5695.674521770974\n",
            "Cost after 70 iteration is: 4425.219360891485\n",
            "Cost after 80 iteration is: 4613.781615934434\n",
            "Cost after 90 iteration is: 3858.5051830152097\n",
            "The train accruacy is 77.57166666666667\n",
            "The test accuracy is 76.47\n"
          ]
        }
      ]
    },
    {
      "cell_type": "code",
      "source": [
        "mlp = MLP(784, [128], 10, act_fun='tanh', epochs=100, learning_rate=0.03)\n",
        "parameters, cost_list_1003 = mlp.fit(norm_train_X, train_y)\n",
        "print(\"The train accruacy is\", mlp.evaluate_acc(parameters, norm_train_X, train_y))\n",
        "print(\"The test accuracy is\", mlp.evaluate_acc(parameters, norm_test_X, test_y))"
      ],
      "metadata": {
        "id": "KqnyNVa_2_s3",
        "colab": {
          "base_uri": "https://localhost:8080/"
        },
        "outputId": "a29470b6-429f-47f9-c321-126aa9e91102"
      },
      "execution_count": null,
      "outputs": [
        {
          "output_type": "stream",
          "name": "stdout",
          "text": [
            "Cost after 0 iteration is: 16725.692904214957\n",
            "Cost after 10 iteration is: 18075.82635035396\n",
            "Cost after 20 iteration is: 18769.33653967677\n",
            "Cost after 30 iteration is: 7469.12502963443\n",
            "Cost after 40 iteration is: 6330.536976622536\n",
            "Cost after 50 iteration is: 8258.999227125129\n",
            "Cost after 60 iteration is: 5520.116912678876\n",
            "Cost after 70 iteration is: 4204.942022427301\n",
            "Cost after 80 iteration is: 6469.677946485589\n",
            "Cost after 90 iteration is: 4269.734640037562\n",
            "The train accruacy is 74.925\n",
            "The test accuracy is 73.46000000000001\n"
          ]
        }
      ]
    },
    {
      "cell_type": "code",
      "source": [
        "mlp = MLP(784, [128], 10, act_fun='tanh', epochs=100, learning_rate=0.02)\n",
        "parameters, cost_list_1002 = mlp.fit(norm_train_X, train_y)\n",
        "print(\"The train accruacy is\", mlp.evaluate_acc(parameters, norm_train_X, train_y))\n",
        "print(\"The test accuracy is\", mlp.evaluate_acc(parameters, norm_test_X, test_y))"
      ],
      "metadata": {
        "id": "bzsvZrki3BT1",
        "colab": {
          "base_uri": "https://localhost:8080/"
        },
        "outputId": "df6a1298-324e-467a-fd9a-43564a3e5094"
      },
      "execution_count": null,
      "outputs": [
        {
          "output_type": "stream",
          "name": "stdout",
          "text": [
            "Cost after 0 iteration is: 16725.692904214957\n",
            "Cost after 10 iteration is: 27944.686271234645\n",
            "Cost after 20 iteration is: 11618.050150274801\n",
            "Cost after 30 iteration is: 9395.94558767029\n",
            "Cost after 40 iteration is: 6359.234874662784\n",
            "Cost after 50 iteration is: 9340.28190112507\n",
            "Cost after 60 iteration is: 5978.164615349657\n",
            "Cost after 70 iteration is: 6354.914522795124\n",
            "Cost after 80 iteration is: 5766.773879128679\n",
            "Cost after 90 iteration is: 4472.628463739947\n",
            "The train accruacy is 74.84833333333333\n",
            "The test accuracy is 73.89\n"
          ]
        }
      ]
    },
    {
      "cell_type": "code",
      "source": [
        "mlp = MLP(784, [128], 10, act_fun='tanh', epochs=100, learning_rate=0.01)\n",
        "parameters, cost_list_1001 = mlp.fit(norm_train_X, train_y)\n",
        "print(\"The train accruacy is\", mlp.evaluate_acc(parameters, norm_train_X, train_y))\n",
        "print(\"The test accuracy is\", mlp.evaluate_acc(parameters, norm_test_X, test_y))"
      ],
      "metadata": {
        "id": "KmAYDMZ93Cq4",
        "colab": {
          "base_uri": "https://localhost:8080/"
        },
        "outputId": "3288fffc-8b3c-4ee7-e004-4e9e8b8554c1"
      },
      "execution_count": null,
      "outputs": [
        {
          "output_type": "stream",
          "name": "stdout",
          "text": [
            "Cost after 0 iteration is: 16725.692904214957\n",
            "Cost after 10 iteration is: 8719.83238838937\n",
            "Cost after 20 iteration is: 6287.573803382249\n",
            "Cost after 30 iteration is: 6149.446534759345\n",
            "Cost after 40 iteration is: 4525.3045014498\n",
            "Cost after 50 iteration is: 5505.58580522541\n",
            "Cost after 60 iteration is: 5147.621245960483\n",
            "Cost after 70 iteration is: 4444.674218360443\n",
            "Cost after 80 iteration is: 4946.506978964289\n",
            "Cost after 90 iteration is: 4706.059638238205\n",
            "The train accruacy is 73.43166666666666\n",
            "The test accuracy is 72.36\n"
          ]
        }
      ]
    },
    {
      "cell_type": "code",
      "source": [
        "mlp = MLP(784, [128], 10, act_fun='tanh', epochs=100, learning_rate=0.001)\n",
        "parameters, cost_list_10001 = mlp.fit(norm_train_X, train_y)\n",
        "print(\"The train accruacy is\", mlp.evaluate_acc(parameters, norm_train_X, train_y))\n",
        "print(\"The test accuracy is\", mlp.evaluate_acc(parameters, norm_test_X, test_y))"
      ],
      "metadata": {
        "id": "45JLdYCe3EUv",
        "colab": {
          "base_uri": "https://localhost:8080/"
        },
        "outputId": "2e681efc-e378-48e7-e009-6e3bda59b47c"
      },
      "execution_count": null,
      "outputs": [
        {
          "output_type": "stream",
          "name": "stdout",
          "text": [
            "Cost after 0 iteration is: 16725.692904214957\n",
            "Cost after 10 iteration is: 11992.487768319568\n",
            "Cost after 20 iteration is: 10113.44086142152\n",
            "Cost after 30 iteration is: 8925.905440590537\n",
            "Cost after 40 iteration is: 8118.23470904426\n",
            "Cost after 50 iteration is: 7533.291012657798\n",
            "Cost after 60 iteration is: 7088.731445646633\n",
            "Cost after 70 iteration is: 6738.25420520815\n",
            "Cost after 80 iteration is: 6453.980789426008\n",
            "Cost after 90 iteration is: 6218.139722159055\n",
            "The train accruacy is 69.17166666666667\n",
            "The test accuracy is 68.36\n"
          ]
        }
      ]
    },
    {
      "cell_type": "code",
      "source": [
        "lr1 = [0.001, 0.01, 0.02, 0.03, 0.04, 0.05, 0.06, 0.07, 0.08, 0.09, 0.10, 0.11, 0.12, 0.13, 0.14, 0.15]\n",
        "trainacc1 = [0.6917, 0.7343, 0.7485, 0.7493, 0.7757, 0.8061, 0.7985, 0.8109, 0.8016, 0.7991, 0.7874, 0.7895, 0.7710, 0.7628, 0.7360, 0.7478]\n",
        "testacc1 = [0.6836, 0.7236, 0.7389, 0.7346, 0.7647, 0.7939, 0.7863, 0.7983, 0.7874, 0.7905, 0.7736, 0.7758, 0.7541, 0.7516, 0.7264, 0.7421]\n",
        "plt.plot(lr1, trainacc1, marker='o', label='train accuracy')\n",
        "plt.plot(lr1, testacc1, marker='o', label='test accuracy')\n",
        "plt.legend()\n",
        "plt.xlabel('learning rate', fontsize=15)\n",
        "plt.ylabel('accuracy', fontsize=15)\n",
        "plt.title('train accuracy/test accuracy v.s. learning rate(1 hidden layers MLP)')"
      ],
      "metadata": {
        "colab": {
          "base_uri": "https://localhost:8080/",
          "height": 317
        },
        "id": "73iAAcYunv3y",
        "outputId": "cbb3fb21-15bf-483d-8b95-26a72ac29b2c"
      },
      "execution_count": null,
      "outputs": [
        {
          "output_type": "execute_result",
          "data": {
            "text/plain": [
              "Text(0.5, 1.0, 'train accuracy/test accuracy v.s. learning rate(1 hidden layers MLP)')"
            ]
          },
          "metadata": {},
          "execution_count": 42
        },
        {
          "output_type": "display_data",
          "data": {
            "text/plain": [
              "<Figure size 432x288 with 1 Axes>"
            ],
            "image/png": "[encoded data removed]"
          },
          "metadata": {
            "needs_background": "light"
          }
        }
      ]
    },
    {
      "cell_type": "code",
      "source": [
        "x = list(range(0,100))\n",
        "plt.figure(figsize=(10, 8))\n",
        "plt.plot(x, cost_list_10001)\n",
        "plt.plot(x, cost_list_1001)\n",
        "plt.plot(x, cost_list_1002)\n",
        "plt.plot(x, cost_list_1003)\n",
        "plt.plot(x, cost_list_1004)\n",
        "plt.plot(x, cost_list_1013)\n",
        "plt.xlabel(\"iterations\", fontsize=15)\n",
        "plt.ylabel(\"cost\", fontsize=15)\n",
        "plt.title(\"MLP with 1 hidden layers with 128 units and tanh activation function training curves\", fontsize=20)\n",
        "plt.legend(['learning rate=0.001', 'learning rate=0.01','learning rate=0.02','learning rate=0.03','learning rate=0.04', 'learning rate=0.13'])"
      ],
      "metadata": {
        "colab": {
          "base_uri": "https://localhost:8080/",
          "height": 540
        },
        "id": "K4bgBikaxnkk",
        "outputId": "a0248cb9-5aa1-43b7-8bd9-d142c8ab2608"
      },
      "execution_count": null,
      "outputs": [
        {
          "output_type": "execute_result",
          "data": {
            "text/plain": [
              "<matplotlib.legend.Legend at 0x7fb438e8bfd0>"
            ]
          },
          "metadata": {},
          "execution_count": 123
        },
        {
          "output_type": "display_data",
          "data": {
            "text/plain": [
              "<Figure size 720x576 with 1 Axes>"
            ],
            "image/png": "[encoded data removed]"
          },
          "metadata": {
            "needs_background": "light"
          }
        }
      ]
    },
    {
      "cell_type": "code",
      "source": [
        "mlp = MLP(784, [128], 10, act_fun='tanh', epochs=1000, learning_rate=0.07)\n",
        "parameters, cost_list_best1007 = mlp.fit(norm_train_X, train_y)\n",
        "print(\"The train accruacy is\", mlp.evaluate_acc(parameters, norm_train_X, train_y))\n",
        "print(\"The test accuracy is\", mlp.evaluate_acc(parameters, norm_test_X, test_y))"
      ],
      "metadata": {
        "colab": {
          "base_uri": "https://localhost:8080/"
        },
        "id": "YtE3LvmM8wIk",
        "outputId": "6a56705c-5219-45c3-fc0a-57bd847a4ca2"
      },
      "execution_count": null,
      "outputs": [
        {
          "output_type": "stream",
          "name": "stdout",
          "text": [
            "Cost after 0 iteration is: 16725.692904214957\n",
            "Cost after 100 iteration is: 3292.6213159166837\n",
            "Cost after 200 iteration is: 3001.0837859047606\n",
            "Cost after 300 iteration is: 2892.1037548982213\n",
            "Cost after 400 iteration is: 2852.94790767856\n",
            "Cost after 500 iteration is: 2800.264641503516\n",
            "Cost after 600 iteration is: 2804.2672407050995\n",
            "Cost after 700 iteration is: 2747.0194351573923\n",
            "Cost after 800 iteration is: 2725.108199896491\n",
            "Cost after 900 iteration is: 2694.7096671969466\n",
            "The train accruacy is 84.00166666666667\n",
            "The test accuracy is 82.14\n"
          ]
        }
      ]
    },
    {
      "cell_type": "code",
      "source": [
        "x = list(range(0,1000))\n",
        "plt.plot(x, cost_list_best1007)\n",
        "plt.xlabel(\"iterations\", fontsize=15)\n",
        "plt.ylabel(\"cost\", fontsize=15)\n",
        "plt.title(\"MLP with best performance training curves\", fontsize=15)"
      ],
      "metadata": {
        "colab": {
          "base_uri": "https://localhost:8080/",
          "height": 319
        },
        "id": "q2k3g0rkWOM1",
        "outputId": "80cbb18c-6593-4d6c-e423-c8b82fdcb502"
      },
      "execution_count": null,
      "outputs": [
        {
          "output_type": "execute_result",
          "data": {
            "text/plain": [
              "Text(0.5, 1.0, 'MLP with best performance training curves')"
            ]
          },
          "metadata": {},
          "execution_count": 17
        },
        {
          "output_type": "display_data",
          "data": {
            "text/plain": [
              "<Figure size 432x288 with 1 Axes>"
            ],
            "image/png": "[encoded data removed]"
          },
          "metadata": {
            "needs_background": "light"
          }
        }
      ]
    },
    {
      "cell_type": "code",
      "source": [
        "mlp = MLP(784, [128], 10, act_fun='tanh', epochs=1000, learning_rate=0.09)\n",
        "parameters, cost_list_best1009 = mlp.fit(norm_train_X, train_y)\n",
        "print(\"The train accruacy is\", mlp.evaluate_acc(parameters, norm_train_X, train_y))\n",
        "print(\"The test accuracy is\", mlp.evaluate_acc(parameters, norm_test_X, test_y))"
      ],
      "metadata": {
        "colab": {
          "base_uri": "https://localhost:8080/"
        },
        "id": "5WUh8_Zq6LS7",
        "outputId": "25d2b6e1-4043-4ca5-8178-0f2d28826488"
      },
      "execution_count": null,
      "outputs": [
        {
          "output_type": "stream",
          "name": "stdout",
          "text": [
            "Cost after 0 iteration is: 16725.692904214957\n",
            "Cost after 100 iteration is: 3433.988874525903\n",
            "Cost after 200 iteration is: 3122.89760699777\n",
            "Cost after 300 iteration is: 3108.5024494158406\n",
            "Cost after 400 iteration is: 2952.72588263013\n",
            "Cost after 500 iteration is: 2899.402495011267\n",
            "Cost after 600 iteration is: 2837.8244420557226\n",
            "Cost after 700 iteration is: 2807.0634858183116\n",
            "Cost after 800 iteration is: 2786.9169724804983\n",
            "Cost after 900 iteration is: 2787.2904471608877\n",
            "The train accruacy is 83.955\n",
            "The test accuracy is 82.21000000000001\n"
          ]
        }
      ]
    },
    {
      "cell_type": "code",
      "source": [
        "mlp = MLP(784, [128], 10, act_fun='tanh', epochs=1000, learning_rate=0.08)\n",
        "parameters, cost_list_tanh1008 = mlp.fit(norm_train_X, train_y)\n",
        "print(\"The train accruacy is\", mlp.evaluate_acc(parameters, norm_train_X, train_y))\n",
        "print(\"The test accuracy is\", mlp.evaluate_acc(parameters, norm_test_X, test_y))"
      ],
      "metadata": {
        "colab": {
          "base_uri": "https://localhost:8080/"
        },
        "id": "pTsAUW17EpEi",
        "outputId": "84f97629-c98f-4a43-e7c4-e54023f94cb8"
      },
      "execution_count": null,
      "outputs": [
        {
          "output_type": "stream",
          "name": "stdout",
          "text": [
            "Cost after 0 iteration is: 16725.692904214957\n",
            "Cost after 100 iteration is: 3425.2123829148377\n",
            "Cost after 200 iteration is: 3104.9579031068406\n",
            "Cost after 300 iteration is: 2975.503977823214\n",
            "Cost after 400 iteration is: 3055.2349381770896\n",
            "Cost after 500 iteration is: 2850.1130801663658\n",
            "Cost after 600 iteration is: 2848.5085825730425\n",
            "Cost after 700 iteration is: 2872.892538645493\n",
            "Cost after 800 iteration is: 2810.5541953497695\n",
            "Cost after 900 iteration is: 2895.498729109436\n",
            "The train accruacy is 84.24833333333333\n",
            "The test accuracy is 82.46\n"
          ]
        }
      ]
    },
    {
      "cell_type": "code",
      "source": [
        "mlp = MLP(784, [128], 10, act_fun='relu', epochs=1000, learning_rate=0.08)\n",
        "parameters, cost_list_relu1008 = mlp.fit(norm_train_X, train_y)\n",
        "print(\"The train accruacy is\", mlp.evaluate_acc(parameters, norm_train_X, train_y))\n",
        "print(\"The test accuracy is\", mlp.evaluate_acc(parameters, norm_test_X, test_y))"
      ],
      "metadata": {
        "colab": {
          "base_uri": "https://localhost:8080/"
        },
        "id": "yO0AGfEMMG9x",
        "outputId": "76cfb98e-99d3-4866-b321-b65e604dd455"
      },
      "execution_count": null,
      "outputs": [
        {
          "output_type": "stream",
          "name": "stdout",
          "text": [
            "Cost after 0 iteration is: 15977.29734054028\n",
            "Cost after 100 iteration is: 3759.164186006357\n",
            "Cost after 200 iteration is: 3204.808987473642\n",
            "Cost after 300 iteration is: 3045.8951559081834\n",
            "Cost after 400 iteration is: 2939.094631328237\n",
            "Cost after 500 iteration is: 2860.66198789579\n",
            "Cost after 600 iteration is: 2796.0401494712305\n",
            "Cost after 700 iteration is: 2741.279198936729\n",
            "Cost after 800 iteration is: 2691.897709661897\n",
            "Cost after 900 iteration is: 2647.3523352779716\n",
            "The train accruacy is 84.42\n",
            "The test accuracy is 82.63000000000001\n"
          ]
        }
      ]
    },
    {
      "cell_type": "code",
      "source": [
        "mlp = MLP(784, [128], 10, act_fun='leakyrelu', epochs=1000, learning_rate=0.08)\n",
        "parameters, cost_list_relu1008 = mlp.fit(norm_train_X, train_y)\n",
        "print(\"The train accruacy is\", mlp.evaluate_acc(parameters, norm_train_X, train_y))\n",
        "print(\"The test accuracy is\", mlp.evaluate_acc(parameters, norm_test_X, test_y))"
      ],
      "metadata": {
        "colab": {
          "base_uri": "https://localhost:8080/"
        },
        "id": "TiyRgMfnWh4Y",
        "outputId": "6eaf93d0-bbb8-4680-d427-a23b3b92d9e9"
      },
      "execution_count": null,
      "outputs": [
        {
          "output_type": "stream",
          "name": "stdout",
          "text": [
            "Cost after 0 iteration is: 15986.454092326627\n",
            "Cost after 100 iteration is: 3815.0405933012735\n",
            "Cost after 200 iteration is: 3207.885953749362\n",
            "Cost after 300 iteration is: 3039.6032368535957\n",
            "Cost after 400 iteration is: 2929.518444019584\n",
            "Cost after 500 iteration is: 2848.1899860734216\n",
            "Cost after 600 iteration is: 2783.9716971353337\n",
            "Cost after 700 iteration is: 2728.974881466651\n",
            "Cost after 800 iteration is: 2680.3665445884812\n",
            "Cost after 900 iteration is: 2637.531946866433\n",
            "The train accruacy is 84.5\n",
            "The test accuracy is 82.61\n"
          ]
        }
      ]
    },
    {
      "cell_type": "code",
      "source": [
        "x = list(range(0,1000))\n",
        "plt.plot(x, cost_list_relu1008)\n",
        "plt.xlabel(\"iterations\", fontsize=15)\n",
        "plt.ylabel(\"cost\", fontsize=15)\n",
        "plt.title(\"MLP with best performance training curves\", fontsize=15)"
      ],
      "metadata": {
        "colab": {
          "base_uri": "https://localhost:8080/",
          "height": 319
        },
        "id": "nLTP5zQxkl-s",
        "outputId": "93296366-a5a5-407d-a744-dc60bb4378a4"
      },
      "execution_count": null,
      "outputs": [
        {
          "output_type": "execute_result",
          "data": {
            "text/plain": [
              "Text(0.5, 1.0, 'MLP with best performance training curves')"
            ]
          },
          "metadata": {},
          "execution_count": 32
        },
        {
          "output_type": "display_data",
          "data": {
            "text/plain": [
              "<Figure size 432x288 with 1 Axes>"
            ],
            "image/png": "[encoded data removed]"
          },
          "metadata": {
            "needs_background": "light"
          }
        }
      ]
    }
  ],
  "metadata": {
    "colab": {
      "collapsed_sections": [],
      "name": "551p3.ipynb",
      "provenance": []
    },
    "kernelspec": {
      "display_name": "Python 3",
      "name": "python3"
    },
    "language_info": {
      "name": "python"
    }
  },
  "nbformat": 4,
  "nbformat_minor": 0
}